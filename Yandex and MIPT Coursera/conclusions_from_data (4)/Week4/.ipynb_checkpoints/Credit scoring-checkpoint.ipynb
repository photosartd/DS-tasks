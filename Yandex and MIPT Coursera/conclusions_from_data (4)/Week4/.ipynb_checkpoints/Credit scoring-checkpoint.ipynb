{
 "cells": [
  {
   "cell_type": "code",
   "execution_count": 166,
   "id": "ac0e5cc1",
   "metadata": {},
   "outputs": [],
   "source": [
    "import pandas as pd\n",
    "import numpy as np\n",
    "import seaborn as sns\n",
    "from matplotlib import pyplot as plt\n",
    "%matplotlib inline\n",
    "import scipy.stats as stats"
   ]
  },
  {
   "cell_type": "markdown",
   "id": "705e99b6",
   "metadata": {},
   "source": [
    "# Data"
   ]
  },
  {
   "cell_type": "code",
   "execution_count": 167,
   "id": "1149a163",
   "metadata": {},
   "outputs": [],
   "source": [
    "data = pd.read_csv('credit_scoring.csv', index_col='ID')"
   ]
  },
  {
   "cell_type": "code",
   "execution_count": 168,
   "id": "47502594",
   "metadata": {},
   "outputs": [
    {
     "data": {
      "text/html": [
       "<div>\n",
       "<style scoped>\n",
       "    .dataframe tbody tr th:only-of-type {\n",
       "        vertical-align: middle;\n",
       "    }\n",
       "\n",
       "    .dataframe tbody tr th {\n",
       "        vertical-align: top;\n",
       "    }\n",
       "\n",
       "    .dataframe thead th {\n",
       "        text-align: right;\n",
       "    }\n",
       "</style>\n",
       "<table border=\"1\" class=\"dataframe\">\n",
       "  <thead>\n",
       "    <tr style=\"text-align: right;\">\n",
       "      <th></th>\n",
       "      <th>LIMIT_BAL</th>\n",
       "      <th>SEX</th>\n",
       "      <th>EDUCATION</th>\n",
       "      <th>MARRIAGE</th>\n",
       "      <th>AGE</th>\n",
       "      <th>PAY_0</th>\n",
       "      <th>PAY_2</th>\n",
       "      <th>PAY_3</th>\n",
       "      <th>PAY_4</th>\n",
       "      <th>PAY_5</th>\n",
       "      <th>...</th>\n",
       "      <th>BILL_AMT4</th>\n",
       "      <th>BILL_AMT5</th>\n",
       "      <th>BILL_AMT6</th>\n",
       "      <th>PAY_AMT1</th>\n",
       "      <th>PAY_AMT2</th>\n",
       "      <th>PAY_AMT3</th>\n",
       "      <th>PAY_AMT4</th>\n",
       "      <th>PAY_AMT5</th>\n",
       "      <th>PAY_AMT6</th>\n",
       "      <th>default</th>\n",
       "    </tr>\n",
       "    <tr>\n",
       "      <th>ID</th>\n",
       "      <th></th>\n",
       "      <th></th>\n",
       "      <th></th>\n",
       "      <th></th>\n",
       "      <th></th>\n",
       "      <th></th>\n",
       "      <th></th>\n",
       "      <th></th>\n",
       "      <th></th>\n",
       "      <th></th>\n",
       "      <th></th>\n",
       "      <th></th>\n",
       "      <th></th>\n",
       "      <th></th>\n",
       "      <th></th>\n",
       "      <th></th>\n",
       "      <th></th>\n",
       "      <th></th>\n",
       "      <th></th>\n",
       "      <th></th>\n",
       "      <th></th>\n",
       "    </tr>\n",
       "  </thead>\n",
       "  <tbody>\n",
       "    <tr>\n",
       "      <th>1</th>\n",
       "      <td>20000</td>\n",
       "      <td>2</td>\n",
       "      <td>2</td>\n",
       "      <td>1</td>\n",
       "      <td>24</td>\n",
       "      <td>2</td>\n",
       "      <td>2</td>\n",
       "      <td>0</td>\n",
       "      <td>0</td>\n",
       "      <td>0</td>\n",
       "      <td>...</td>\n",
       "      <td>0</td>\n",
       "      <td>0</td>\n",
       "      <td>0</td>\n",
       "      <td>0</td>\n",
       "      <td>689</td>\n",
       "      <td>0</td>\n",
       "      <td>0</td>\n",
       "      <td>0</td>\n",
       "      <td>0</td>\n",
       "      <td>1</td>\n",
       "    </tr>\n",
       "    <tr>\n",
       "      <th>2</th>\n",
       "      <td>120000</td>\n",
       "      <td>2</td>\n",
       "      <td>2</td>\n",
       "      <td>2</td>\n",
       "      <td>26</td>\n",
       "      <td>0</td>\n",
       "      <td>2</td>\n",
       "      <td>0</td>\n",
       "      <td>0</td>\n",
       "      <td>0</td>\n",
       "      <td>...</td>\n",
       "      <td>3272</td>\n",
       "      <td>3455</td>\n",
       "      <td>3261</td>\n",
       "      <td>0</td>\n",
       "      <td>1000</td>\n",
       "      <td>1000</td>\n",
       "      <td>1000</td>\n",
       "      <td>0</td>\n",
       "      <td>2000</td>\n",
       "      <td>1</td>\n",
       "    </tr>\n",
       "    <tr>\n",
       "      <th>3</th>\n",
       "      <td>90000</td>\n",
       "      <td>2</td>\n",
       "      <td>2</td>\n",
       "      <td>2</td>\n",
       "      <td>34</td>\n",
       "      <td>0</td>\n",
       "      <td>0</td>\n",
       "      <td>0</td>\n",
       "      <td>0</td>\n",
       "      <td>0</td>\n",
       "      <td>...</td>\n",
       "      <td>14331</td>\n",
       "      <td>14948</td>\n",
       "      <td>15549</td>\n",
       "      <td>1518</td>\n",
       "      <td>1500</td>\n",
       "      <td>1000</td>\n",
       "      <td>1000</td>\n",
       "      <td>1000</td>\n",
       "      <td>5000</td>\n",
       "      <td>0</td>\n",
       "    </tr>\n",
       "    <tr>\n",
       "      <th>4</th>\n",
       "      <td>50000</td>\n",
       "      <td>2</td>\n",
       "      <td>2</td>\n",
       "      <td>1</td>\n",
       "      <td>37</td>\n",
       "      <td>0</td>\n",
       "      <td>0</td>\n",
       "      <td>0</td>\n",
       "      <td>0</td>\n",
       "      <td>0</td>\n",
       "      <td>...</td>\n",
       "      <td>28314</td>\n",
       "      <td>28959</td>\n",
       "      <td>29547</td>\n",
       "      <td>2000</td>\n",
       "      <td>2019</td>\n",
       "      <td>1200</td>\n",
       "      <td>1100</td>\n",
       "      <td>1069</td>\n",
       "      <td>1000</td>\n",
       "      <td>0</td>\n",
       "    </tr>\n",
       "    <tr>\n",
       "      <th>5</th>\n",
       "      <td>50000</td>\n",
       "      <td>1</td>\n",
       "      <td>2</td>\n",
       "      <td>1</td>\n",
       "      <td>57</td>\n",
       "      <td>0</td>\n",
       "      <td>0</td>\n",
       "      <td>0</td>\n",
       "      <td>0</td>\n",
       "      <td>0</td>\n",
       "      <td>...</td>\n",
       "      <td>20940</td>\n",
       "      <td>19146</td>\n",
       "      <td>19131</td>\n",
       "      <td>2000</td>\n",
       "      <td>36681</td>\n",
       "      <td>10000</td>\n",
       "      <td>9000</td>\n",
       "      <td>689</td>\n",
       "      <td>679</td>\n",
       "      <td>0</td>\n",
       "    </tr>\n",
       "    <tr>\n",
       "      <th>...</th>\n",
       "      <td>...</td>\n",
       "      <td>...</td>\n",
       "      <td>...</td>\n",
       "      <td>...</td>\n",
       "      <td>...</td>\n",
       "      <td>...</td>\n",
       "      <td>...</td>\n",
       "      <td>...</td>\n",
       "      <td>...</td>\n",
       "      <td>...</td>\n",
       "      <td>...</td>\n",
       "      <td>...</td>\n",
       "      <td>...</td>\n",
       "      <td>...</td>\n",
       "      <td>...</td>\n",
       "      <td>...</td>\n",
       "      <td>...</td>\n",
       "      <td>...</td>\n",
       "      <td>...</td>\n",
       "      <td>...</td>\n",
       "      <td>...</td>\n",
       "    </tr>\n",
       "    <tr>\n",
       "      <th>29996</th>\n",
       "      <td>220000</td>\n",
       "      <td>1</td>\n",
       "      <td>3</td>\n",
       "      <td>1</td>\n",
       "      <td>39</td>\n",
       "      <td>0</td>\n",
       "      <td>0</td>\n",
       "      <td>0</td>\n",
       "      <td>0</td>\n",
       "      <td>0</td>\n",
       "      <td>...</td>\n",
       "      <td>88004</td>\n",
       "      <td>31237</td>\n",
       "      <td>15980</td>\n",
       "      <td>8500</td>\n",
       "      <td>20000</td>\n",
       "      <td>5003</td>\n",
       "      <td>3047</td>\n",
       "      <td>5000</td>\n",
       "      <td>1000</td>\n",
       "      <td>0</td>\n",
       "    </tr>\n",
       "    <tr>\n",
       "      <th>29997</th>\n",
       "      <td>150000</td>\n",
       "      <td>1</td>\n",
       "      <td>3</td>\n",
       "      <td>2</td>\n",
       "      <td>43</td>\n",
       "      <td>0</td>\n",
       "      <td>0</td>\n",
       "      <td>0</td>\n",
       "      <td>0</td>\n",
       "      <td>0</td>\n",
       "      <td>...</td>\n",
       "      <td>8979</td>\n",
       "      <td>5190</td>\n",
       "      <td>0</td>\n",
       "      <td>1837</td>\n",
       "      <td>3526</td>\n",
       "      <td>8998</td>\n",
       "      <td>129</td>\n",
       "      <td>0</td>\n",
       "      <td>0</td>\n",
       "      <td>0</td>\n",
       "    </tr>\n",
       "    <tr>\n",
       "      <th>29998</th>\n",
       "      <td>30000</td>\n",
       "      <td>1</td>\n",
       "      <td>2</td>\n",
       "      <td>2</td>\n",
       "      <td>37</td>\n",
       "      <td>4</td>\n",
       "      <td>3</td>\n",
       "      <td>2</td>\n",
       "      <td>0</td>\n",
       "      <td>0</td>\n",
       "      <td>...</td>\n",
       "      <td>20878</td>\n",
       "      <td>20582</td>\n",
       "      <td>19357</td>\n",
       "      <td>0</td>\n",
       "      <td>0</td>\n",
       "      <td>22000</td>\n",
       "      <td>4200</td>\n",
       "      <td>2000</td>\n",
       "      <td>3100</td>\n",
       "      <td>1</td>\n",
       "    </tr>\n",
       "    <tr>\n",
       "      <th>29999</th>\n",
       "      <td>80000</td>\n",
       "      <td>1</td>\n",
       "      <td>3</td>\n",
       "      <td>1</td>\n",
       "      <td>41</td>\n",
       "      <td>1</td>\n",
       "      <td>0</td>\n",
       "      <td>0</td>\n",
       "      <td>0</td>\n",
       "      <td>0</td>\n",
       "      <td>...</td>\n",
       "      <td>52774</td>\n",
       "      <td>11855</td>\n",
       "      <td>48944</td>\n",
       "      <td>85900</td>\n",
       "      <td>3409</td>\n",
       "      <td>1178</td>\n",
       "      <td>1926</td>\n",
       "      <td>52964</td>\n",
       "      <td>1804</td>\n",
       "      <td>1</td>\n",
       "    </tr>\n",
       "    <tr>\n",
       "      <th>30000</th>\n",
       "      <td>50000</td>\n",
       "      <td>1</td>\n",
       "      <td>2</td>\n",
       "      <td>1</td>\n",
       "      <td>46</td>\n",
       "      <td>0</td>\n",
       "      <td>0</td>\n",
       "      <td>0</td>\n",
       "      <td>0</td>\n",
       "      <td>0</td>\n",
       "      <td>...</td>\n",
       "      <td>36535</td>\n",
       "      <td>32428</td>\n",
       "      <td>15313</td>\n",
       "      <td>2078</td>\n",
       "      <td>1800</td>\n",
       "      <td>1430</td>\n",
       "      <td>1000</td>\n",
       "      <td>1000</td>\n",
       "      <td>1000</td>\n",
       "      <td>1</td>\n",
       "    </tr>\n",
       "  </tbody>\n",
       "</table>\n",
       "<p>30000 rows × 24 columns</p>\n",
       "</div>"
      ],
      "text/plain": [
       "       LIMIT_BAL  SEX  EDUCATION  MARRIAGE  AGE  PAY_0  PAY_2  PAY_3  PAY_4  \\\n",
       "ID                                                                            \n",
       "1          20000    2          2         1   24      2      2      0      0   \n",
       "2         120000    2          2         2   26      0      2      0      0   \n",
       "3          90000    2          2         2   34      0      0      0      0   \n",
       "4          50000    2          2         1   37      0      0      0      0   \n",
       "5          50000    1          2         1   57      0      0      0      0   \n",
       "...          ...  ...        ...       ...  ...    ...    ...    ...    ...   \n",
       "29996     220000    1          3         1   39      0      0      0      0   \n",
       "29997     150000    1          3         2   43      0      0      0      0   \n",
       "29998      30000    1          2         2   37      4      3      2      0   \n",
       "29999      80000    1          3         1   41      1      0      0      0   \n",
       "30000      50000    1          2         1   46      0      0      0      0   \n",
       "\n",
       "       PAY_5  ...  BILL_AMT4  BILL_AMT5  BILL_AMT6  PAY_AMT1  PAY_AMT2  \\\n",
       "ID            ...                                                        \n",
       "1          0  ...          0          0          0         0       689   \n",
       "2          0  ...       3272       3455       3261         0      1000   \n",
       "3          0  ...      14331      14948      15549      1518      1500   \n",
       "4          0  ...      28314      28959      29547      2000      2019   \n",
       "5          0  ...      20940      19146      19131      2000     36681   \n",
       "...      ...  ...        ...        ...        ...       ...       ...   \n",
       "29996      0  ...      88004      31237      15980      8500     20000   \n",
       "29997      0  ...       8979       5190          0      1837      3526   \n",
       "29998      0  ...      20878      20582      19357         0         0   \n",
       "29999      0  ...      52774      11855      48944     85900      3409   \n",
       "30000      0  ...      36535      32428      15313      2078      1800   \n",
       "\n",
       "       PAY_AMT3  PAY_AMT4  PAY_AMT5  PAY_AMT6  default  \n",
       "ID                                                      \n",
       "1             0         0         0         0        1  \n",
       "2          1000      1000         0      2000        1  \n",
       "3          1000      1000      1000      5000        0  \n",
       "4          1200      1100      1069      1000        0  \n",
       "5         10000      9000       689       679        0  \n",
       "...         ...       ...       ...       ...      ...  \n",
       "29996      5003      3047      5000      1000        0  \n",
       "29997      8998       129         0         0        0  \n",
       "29998     22000      4200      2000      3100        1  \n",
       "29999      1178      1926     52964      1804        1  \n",
       "30000      1430      1000      1000      1000        1  \n",
       "\n",
       "[30000 rows x 24 columns]"
      ]
     },
     "execution_count": 168,
     "metadata": {},
     "output_type": "execute_result"
    }
   ],
   "source": [
    "data"
   ]
  },
  {
   "cell_type": "code",
   "execution_count": 169,
   "id": "ad3a8a92",
   "metadata": {},
   "outputs": [
    {
     "data": {
      "text/plain": [
       "2    15964\n",
       "1    13659\n",
       "3      323\n",
       "0       54\n",
       "Name: MARRIAGE, dtype: int64"
      ]
     },
     "execution_count": 169,
     "metadata": {},
     "output_type": "execute_result"
    }
   ],
   "source": [
    "data['MARRIAGE'].value_counts()"
   ]
  },
  {
   "cell_type": "code",
   "execution_count": 170,
   "id": "fa0dd59a",
   "metadata": {},
   "outputs": [
    {
     "data": {
      "text/html": [
       "<div>\n",
       "<style scoped>\n",
       "    .dataframe tbody tr th:only-of-type {\n",
       "        vertical-align: middle;\n",
       "    }\n",
       "\n",
       "    .dataframe tbody tr th {\n",
       "        vertical-align: top;\n",
       "    }\n",
       "\n",
       "    .dataframe thead th {\n",
       "        text-align: right;\n",
       "    }\n",
       "</style>\n",
       "<table border=\"1\" class=\"dataframe\">\n",
       "  <thead>\n",
       "    <tr style=\"text-align: right;\">\n",
       "      <th></th>\n",
       "      <th>LIMIT_BAL</th>\n",
       "      <th>SEX</th>\n",
       "      <th>EDUCATION</th>\n",
       "      <th>MARRIAGE</th>\n",
       "      <th>AGE</th>\n",
       "      <th>PAY_0</th>\n",
       "      <th>PAY_2</th>\n",
       "      <th>PAY_3</th>\n",
       "      <th>PAY_4</th>\n",
       "      <th>PAY_5</th>\n",
       "      <th>...</th>\n",
       "      <th>BILL_AMT4</th>\n",
       "      <th>BILL_AMT5</th>\n",
       "      <th>BILL_AMT6</th>\n",
       "      <th>PAY_AMT1</th>\n",
       "      <th>PAY_AMT2</th>\n",
       "      <th>PAY_AMT3</th>\n",
       "      <th>PAY_AMT4</th>\n",
       "      <th>PAY_AMT5</th>\n",
       "      <th>PAY_AMT6</th>\n",
       "      <th>default</th>\n",
       "    </tr>\n",
       "    <tr>\n",
       "      <th>ID</th>\n",
       "      <th></th>\n",
       "      <th></th>\n",
       "      <th></th>\n",
       "      <th></th>\n",
       "      <th></th>\n",
       "      <th></th>\n",
       "      <th></th>\n",
       "      <th></th>\n",
       "      <th></th>\n",
       "      <th></th>\n",
       "      <th></th>\n",
       "      <th></th>\n",
       "      <th></th>\n",
       "      <th></th>\n",
       "      <th></th>\n",
       "      <th></th>\n",
       "      <th></th>\n",
       "      <th></th>\n",
       "      <th></th>\n",
       "      <th></th>\n",
       "      <th></th>\n",
       "    </tr>\n",
       "  </thead>\n",
       "  <tbody>\n",
       "    <tr>\n",
       "      <th>1</th>\n",
       "      <td>20000</td>\n",
       "      <td>2</td>\n",
       "      <td>2</td>\n",
       "      <td>1</td>\n",
       "      <td>24</td>\n",
       "      <td>2</td>\n",
       "      <td>2</td>\n",
       "      <td>0</td>\n",
       "      <td>0</td>\n",
       "      <td>0</td>\n",
       "      <td>...</td>\n",
       "      <td>0</td>\n",
       "      <td>0</td>\n",
       "      <td>0</td>\n",
       "      <td>0</td>\n",
       "      <td>689</td>\n",
       "      <td>0</td>\n",
       "      <td>0</td>\n",
       "      <td>0</td>\n",
       "      <td>0</td>\n",
       "      <td>1</td>\n",
       "    </tr>\n",
       "    <tr>\n",
       "      <th>2</th>\n",
       "      <td>120000</td>\n",
       "      <td>2</td>\n",
       "      <td>2</td>\n",
       "      <td>2</td>\n",
       "      <td>26</td>\n",
       "      <td>0</td>\n",
       "      <td>2</td>\n",
       "      <td>0</td>\n",
       "      <td>0</td>\n",
       "      <td>0</td>\n",
       "      <td>...</td>\n",
       "      <td>3272</td>\n",
       "      <td>3455</td>\n",
       "      <td>3261</td>\n",
       "      <td>0</td>\n",
       "      <td>1000</td>\n",
       "      <td>1000</td>\n",
       "      <td>1000</td>\n",
       "      <td>0</td>\n",
       "      <td>2000</td>\n",
       "      <td>1</td>\n",
       "    </tr>\n",
       "    <tr>\n",
       "      <th>3</th>\n",
       "      <td>90000</td>\n",
       "      <td>2</td>\n",
       "      <td>2</td>\n",
       "      <td>2</td>\n",
       "      <td>34</td>\n",
       "      <td>0</td>\n",
       "      <td>0</td>\n",
       "      <td>0</td>\n",
       "      <td>0</td>\n",
       "      <td>0</td>\n",
       "      <td>...</td>\n",
       "      <td>14331</td>\n",
       "      <td>14948</td>\n",
       "      <td>15549</td>\n",
       "      <td>1518</td>\n",
       "      <td>1500</td>\n",
       "      <td>1000</td>\n",
       "      <td>1000</td>\n",
       "      <td>1000</td>\n",
       "      <td>5000</td>\n",
       "      <td>0</td>\n",
       "    </tr>\n",
       "    <tr>\n",
       "      <th>4</th>\n",
       "      <td>50000</td>\n",
       "      <td>2</td>\n",
       "      <td>2</td>\n",
       "      <td>1</td>\n",
       "      <td>37</td>\n",
       "      <td>0</td>\n",
       "      <td>0</td>\n",
       "      <td>0</td>\n",
       "      <td>0</td>\n",
       "      <td>0</td>\n",
       "      <td>...</td>\n",
       "      <td>28314</td>\n",
       "      <td>28959</td>\n",
       "      <td>29547</td>\n",
       "      <td>2000</td>\n",
       "      <td>2019</td>\n",
       "      <td>1200</td>\n",
       "      <td>1100</td>\n",
       "      <td>1069</td>\n",
       "      <td>1000</td>\n",
       "      <td>0</td>\n",
       "    </tr>\n",
       "    <tr>\n",
       "      <th>5</th>\n",
       "      <td>50000</td>\n",
       "      <td>1</td>\n",
       "      <td>2</td>\n",
       "      <td>1</td>\n",
       "      <td>57</td>\n",
       "      <td>0</td>\n",
       "      <td>0</td>\n",
       "      <td>0</td>\n",
       "      <td>0</td>\n",
       "      <td>0</td>\n",
       "      <td>...</td>\n",
       "      <td>20940</td>\n",
       "      <td>19146</td>\n",
       "      <td>19131</td>\n",
       "      <td>2000</td>\n",
       "      <td>36681</td>\n",
       "      <td>10000</td>\n",
       "      <td>9000</td>\n",
       "      <td>689</td>\n",
       "      <td>679</td>\n",
       "      <td>0</td>\n",
       "    </tr>\n",
       "  </tbody>\n",
       "</table>\n",
       "<p>5 rows × 24 columns</p>\n",
       "</div>"
      ],
      "text/plain": [
       "    LIMIT_BAL  SEX  EDUCATION  MARRIAGE  AGE  PAY_0  PAY_2  PAY_3  PAY_4  \\\n",
       "ID                                                                         \n",
       "1       20000    2          2         1   24      2      2      0      0   \n",
       "2      120000    2          2         2   26      0      2      0      0   \n",
       "3       90000    2          2         2   34      0      0      0      0   \n",
       "4       50000    2          2         1   37      0      0      0      0   \n",
       "5       50000    1          2         1   57      0      0      0      0   \n",
       "\n",
       "    PAY_5  ...  BILL_AMT4  BILL_AMT5  BILL_AMT6  PAY_AMT1  PAY_AMT2  PAY_AMT3  \\\n",
       "ID         ...                                                                  \n",
       "1       0  ...          0          0          0         0       689         0   \n",
       "2       0  ...       3272       3455       3261         0      1000      1000   \n",
       "3       0  ...      14331      14948      15549      1518      1500      1000   \n",
       "4       0  ...      28314      28959      29547      2000      2019      1200   \n",
       "5       0  ...      20940      19146      19131      2000     36681     10000   \n",
       "\n",
       "    PAY_AMT4  PAY_AMT5  PAY_AMT6  default  \n",
       "ID                                         \n",
       "1          0         0         0        1  \n",
       "2       1000         0      2000        1  \n",
       "3       1000      1000      5000        0  \n",
       "4       1100      1069      1000        0  \n",
       "5       9000       689       679        0  \n",
       "\n",
       "[5 rows x 24 columns]"
      ]
     },
     "execution_count": 170,
     "metadata": {},
     "output_type": "execute_result"
    }
   ],
   "source": [
    "data.head()"
   ]
  },
  {
   "cell_type": "markdown",
   "id": "2bd2a69a",
   "metadata": {},
   "source": [
    "## 1. Гипотезы о размерах кредитного лимита"
   ]
  },
  {
   "cell_type": "code",
   "execution_count": 171,
   "id": "94564ac8",
   "metadata": {},
   "outputs": [],
   "source": [
    "limit_bal_groups = data.groupby(by='default')['LIMIT_BAL']"
   ]
  },
  {
   "cell_type": "code",
   "execution_count": 172,
   "id": "39458134",
   "metadata": {},
   "outputs": [
    {
     "data": {
      "text/plain": [
       "default\n",
       "0    23364\n",
       "1     6636\n",
       "Name: LIMIT_BAL, dtype: int64"
      ]
     },
     "execution_count": 172,
     "metadata": {},
     "output_type": "execute_result"
    }
   ],
   "source": [
    "limit_bal_groups.agg('count')"
   ]
  },
  {
   "cell_type": "code",
   "execution_count": 173,
   "id": "f9d4ea60",
   "metadata": {},
   "outputs": [
    {
     "data": {
      "text/plain": [
       "default\n",
       "0    150000\n",
       "1     90000\n",
       "Name: LIMIT_BAL, dtype: int64"
      ]
     },
     "execution_count": 173,
     "metadata": {},
     "output_type": "execute_result"
    }
   ],
   "source": [
    "limit_bal_groups.agg('median')"
   ]
  },
  {
   "cell_type": "markdown",
   "id": "d09d8a7c",
   "metadata": {},
   "source": [
    "### 1.1 О равенстве медианных значений кредитного лимита с помощью подходящей интервальной оценки"
   ]
  },
  {
   "cell_type": "code",
   "execution_count": 174,
   "id": "ffb50c7d",
   "metadata": {},
   "outputs": [
    {
     "data": {
      "image/png": "[encoded data removed]",
      "text/plain": [
       "<Figure size 576x432 with 1 Axes>"
      ]
     },
     "metadata": {
      "needs_background": "light"
     },
     "output_type": "display_data"
    }
   ],
   "source": [
    "fig, ax = plt.subplots(figsize=(8,6))\n",
    "colors = ['c', 'r']\n",
    "for idx, grp in enumerate(limit_bal_groups):\n",
    "    name, group = grp\n",
    "    ax.hist(group, bins=10, density=True, color=colors[idx], label = name, alpha = 0.8)\n",
    "ax.legend()\n",
    "pass"
   ]
  },
  {
   "cell_type": "markdown",
   "id": "c5b17362",
   "metadata": {},
   "source": [
    "Попробуем оценить CI через бутстреп:"
   ]
  },
  {
   "cell_type": "code",
   "execution_count": 308,
   "id": "20cc72d0",
   "metadata": {},
   "outputs": [],
   "source": [
    "def get_bootstrap_samples(data, n_samples):\n",
    "    '''\n",
    "    Здесь берём подвыборку в 50 раз меньше, чем размер основной выборки, чтобы показать вариативность\n",
    "    '''\n",
    "    indices = np.random.randint(0, len(data), (n_samples, len(data)//50))\n",
    "    samples = data[indices]\n",
    "    return samples\n",
    "def stat_intervals(stat, alpha):\n",
    "    boundaries = np.percentile(stat, [100 * alpha / 2., 100 * (1 - alpha / 2.)])\n",
    "    return boundaries"
   ]
  },
  {
   "cell_type": "code",
   "execution_count": 309,
   "id": "fe17fe57",
   "metadata": {},
   "outputs": [],
   "source": [
    "gr0 = limit_bal_groups.get_group(0)\n",
    "gr1 = limit_bal_groups.get_group(1)"
   ]
  },
  {
   "cell_type": "code",
   "execution_count": 313,
   "id": "42be22b5",
   "metadata": {},
   "outputs": [
    {
     "name": "stdout",
     "output_type": "stream",
     "text": [
      "Median group 0 95% boundaries: [140000. 170000.]\n",
      "Median group 1 95% boundaries: [ 70000. 120000.]\n"
     ]
    }
   ],
   "source": [
    "np.random.seed(0)\n",
    "\n",
    "gr0_bootstrap_meds = list(map(np.median, get_bootstrap_samples(gr0.values, 1000)))\n",
    "gr1_bootstrap_meds = list(map(np.median, get_bootstrap_samples(gr1.values, 1000)))\n",
    "\n",
    "print(f'Median group 0 95% boundaries: {stat_intervals(gr0_bootstrap_meds, 0.05)}')\n",
    "print(f'Median group 1 95% boundaries: {stat_intervals(gr1_bootstrap_meds, 0.05)}')"
   ]
  },
  {
   "cell_type": "markdown",
   "id": "200266c8",
   "metadata": {},
   "source": [
    "#### Вывод: видим, что интервалы для медиан не пересекаются, значит, гипотеза о равенстве медианных значений отвергается."
   ]
  },
  {
   "cell_type": "markdown",
   "id": "2c630e3b",
   "metadata": {},
   "source": [
    "### 1.2 О равенстве распределений с помощью одного из подходящих непараметрических критериев проверки равенства средних"
   ]
  },
  {
   "cell_type": "markdown",
   "id": "1ca0f1ce",
   "metadata": {},
   "source": [
    "Эту задачу можно решить с помощью критерия Манна_Уитни, так как выборки независимы, но взяты из распределения одного вида. Сначала посмотрим, что они действительно похожи:"
   ]
  },
  {
   "cell_type": "markdown",
   "id": "77787bee",
   "metadata": {},
   "source": [
    "По графику похоже, что распределение действительно одно, но возможен сдвиг по медиане, как мы видим."
   ]
  },
  {
   "cell_type": "code",
   "execution_count": 176,
   "id": "8c150c0f",
   "metadata": {},
   "outputs": [
    {
     "data": {
      "text/plain": [
       "MannwhitneyuResult(statistic=59257217.5, pvalue=6.127742909111652e-190)"
      ]
     },
     "execution_count": 176,
     "metadata": {},
     "output_type": "execute_result"
    }
   ],
   "source": [
    "stats.mannwhitneyu(gr0, gr1)"
   ]
  },
  {
   "cell_type": "markdown",
   "id": "ffdabba7",
   "metadata": {},
   "source": [
    "#### Вывод: p-value очень мало, и при уровне значимости 0.05 мы отвергаем гипотезу о равенстве распределений. В них есть ощутимый сдвиг."
   ]
  },
  {
   "cell_type": "markdown",
   "id": "799ab217",
   "metadata": {},
   "source": [
    "## 2. Пол:"
   ]
  },
  {
   "cell_type": "code",
   "execution_count": 177,
   "id": "b9642936",
   "metadata": {},
   "outputs": [],
   "source": [
    "gender_groups = data.groupby(by='default')['SEX']"
   ]
  },
  {
   "cell_type": "code",
   "execution_count": 178,
   "id": "ff68ecf3",
   "metadata": {},
   "outputs": [
    {
     "data": {
      "text/plain": [
       "default\n",
       "0    1.614150\n",
       "1    1.567058\n",
       "Name: SEX, dtype: float64"
      ]
     },
     "execution_count": 178,
     "metadata": {},
     "output_type": "execute_result"
    }
   ],
   "source": [
    "gender_groups.agg('mean')"
   ]
  },
  {
   "cell_type": "code",
   "execution_count": 213,
   "id": "16ea117d",
   "metadata": {},
   "outputs": [
    {
     "data": {
      "image/png": "[encoded data removed]",
      "text/plain": [
       "<Figure size 576x432 with 1 Axes>"
      ]
     },
     "metadata": {
      "needs_background": "light"
     },
     "output_type": "display_data"
    }
   ],
   "source": [
    "fig, ax = plt.subplots(figsize=(8, 6))\n",
    "\n",
    "ax.hist(gender_groups.get_group(0) - 1, density=True, label='Отдавшие кредит', alpha=0.6)\n",
    "ax.hist(gender_groups.get_group(1) - 1, density=True, label='НЕ отдавшие кредит', color='r', alpha=0.6)\n",
    "ax.legend()\n",
    "ax.text(0, -1, 'Мужчины')\n",
    "ax.text(0.9, -1, 'Женщины')\n",
    "pass"
   ]
  },
  {
   "cell_type": "markdown",
   "id": "f325c6c0",
   "metadata": {},
   "source": [
    "Уже отсюда видно, что мужчин, не отдавших кредит, больше в процентном соотношении, чем отдавших"
   ]
  },
  {
   "cell_type": "markdown",
   "id": "318eb059",
   "metadata": {},
   "source": [
    "Сначала построим доверительные интервалы для обоих выборок и посмотрим, пересекаются ли они:"
   ]
  },
  {
   "cell_type": "markdown",
   "id": "79e2ff88",
   "metadata": {},
   "source": [
    "$\\overline{p} +- z\\sqrt{\\frac{\\overline{p}(1-\\overline{p})}{n}}$"
   ]
  },
  {
   "cell_type": "code",
   "execution_count": 180,
   "id": "5c2a5f29",
   "metadata": {},
   "outputs": [],
   "source": [
    "def get_intervals(group, z=1.96):\n",
    "    p_mean = group.mean()\n",
    "    n = group.size\n",
    "    frac = z*np.sqrt(p_mean*(1-p_mean)/n)\n",
    "    return (p_mean - frac, p_mean + frac)"
   ]
  },
  {
   "cell_type": "code",
   "execution_count": 181,
   "id": "52213185",
   "metadata": {},
   "outputs": [],
   "source": [
    "interval_0 = get_intervals(gender_groups.get_group(0) - 1)\n",
    "interval_1 = get_intervals(gender_groups.get_group(1) - 1)"
   ]
  },
  {
   "cell_type": "code",
   "execution_count": 182,
   "id": "ec55c94b",
   "metadata": {},
   "outputs": [
    {
     "name": "stdout",
     "output_type": "stream",
     "text": [
      "95% интервал для пола вернувших кредит: (0.6079078996670177, 0.6203920489719139)\n",
      "95% интервал для пола НЕвернувших кредит: (0.5551369545631861, 0.5789799833512201)\n"
     ]
    }
   ],
   "source": [
    "print(f'95% интервал для пола вернувших кредит: {interval_0}')\n",
    "print(f'95% интервал для пола НЕвернувших кредит: {interval_1}')"
   ]
  },
  {
   "cell_type": "markdown",
   "id": "48dc8e4a",
   "metadata": {},
   "source": [
    "Из этого способа мы видим, что интервалы не пересекаются, значит гендерный состав групп отличается. В частности, мужчины более склонны НЕ возвращать кредит."
   ]
  },
  {
   "cell_type": "markdown",
   "id": "f8cd1ccf",
   "metadata": {},
   "source": [
    "Теперь просто применим статистический критерий: Z-критерий для доли для двух независимых выборок"
   ]
  },
  {
   "cell_type": "code",
   "execution_count": 240,
   "id": "e2310ce7",
   "metadata": {},
   "outputs": [],
   "source": [
    "def get_z(group1, group2):\n",
    "    def get_P(mean1, mean2, size1, size2):\n",
    "        return (mean1*size1 + mean2*size2)/(size1 + size2)\n",
    "    size1 = group1.size\n",
    "    size2 = group2.size\n",
    "    p1_mean = group1[group1 == 0].count()/size1\n",
    "    p2_mean = group2[group2 == 0].count()/size2\n",
    "    P = get_P(p1_mean, p2_mean, size1, size2)\n",
    "    z = (p1_mean - p2_mean)/np.sqrt(P*(1 - P)*(1/size1 + 1/size2))\n",
    "    return z"
   ]
  },
  {
   "cell_type": "code",
   "execution_count": 241,
   "id": "13c276d5",
   "metadata": {},
   "outputs": [],
   "source": [
    "p_val = 2*stats.norm().sf(abs(get_z(gender_groups.get_group(0) - 1, gender_groups.get_group(1) - 1)))"
   ]
  },
  {
   "cell_type": "code",
   "execution_count": 242,
   "id": "ccc3c38a",
   "metadata": {},
   "outputs": [
    {
     "name": "stdout",
     "output_type": "stream",
     "text": [
      "p_value z-критерия для доли в 2 независимых выборках: 4.472804335814113e-12\n"
     ]
    }
   ],
   "source": [
    "print(f'p_value z-критерия для доли в 2 независимых выборках: {p_val}')"
   ]
  },
  {
   "cell_type": "markdown",
   "id": "11f043f1",
   "metadata": {},
   "source": [
    "#### Общий вывод: также и значение p-value очень мало, значит гипотеза о гендерном равенстве в 2 выбоорках отвергается"
   ]
  },
  {
   "cell_type": "markdown",
   "id": "4ad92ab8",
   "metadata": {},
   "source": [
    "## 3. Education"
   ]
  },
  {
   "cell_type": "code",
   "execution_count": 186,
   "id": "385217d9",
   "metadata": {},
   "outputs": [],
   "source": [
    "education_groups = data.groupby(by='default')['EDUCATION']"
   ]
  },
  {
   "cell_type": "code",
   "execution_count": 187,
   "id": "ec19b3d7",
   "metadata": {},
   "outputs": [
    {
     "data": {
      "image/png": "[encoded data removed]",
      "text/plain": [
       "<Figure size 432x288 with 1 Axes>"
      ]
     },
     "metadata": {
      "needs_background": "light"
     },
     "output_type": "display_data"
    }
   ],
   "source": [
    "education_groups.get_group(0).hist(label='Вернувшие кредиты')\n",
    "plt.legend()\n",
    "pass"
   ]
  },
  {
   "cell_type": "code",
   "execution_count": 188,
   "id": "6b9bb220",
   "metadata": {},
   "outputs": [
    {
     "data": {
      "image/png": "[encoded data removed]",
      "text/plain": [
       "<Figure size 432x288 with 1 Axes>"
      ]
     },
     "metadata": {
      "needs_background": "light"
     },
     "output_type": "display_data"
    }
   ],
   "source": [
    "education_groups.get_group(1).hist(label='Не вернувшие кредиты')\n",
    "plt.legend()\n",
    "pass"
   ]
  },
  {
   "cell_type": "markdown",
   "id": "dc5ed228",
   "metadata": {},
   "source": [
    "Скорее всего здесь мы не сможем применить параметрические критерии, но зато сможем проверить гипотезу о том, насколько сильно разнятся выборки. Для этого используем критерий Хи-квадрат (но сначала посчитаем частоты разных типов образования в обоих выборках):"
   ]
  },
  {
   "cell_type": "code",
   "execution_count": 189,
   "id": "e4384313",
   "metadata": {},
   "outputs": [
    {
     "data": {
      "text/plain": [
       "2    0.457970\n",
       "1    0.365905\n",
       "3    0.157507\n",
       "5    0.011214\n",
       "4    0.004965\n",
       "6    0.001840\n",
       "0    0.000599\n",
       "Name: EDUCATION, dtype: float64"
      ]
     },
     "execution_count": 189,
     "metadata": {},
     "output_type": "execute_result"
    }
   ],
   "source": [
    "education_groups.get_group(0).value_counts()/education_groups.get_group(0).size"
   ]
  },
  {
   "cell_type": "code",
   "execution_count": 190,
   "id": "23414427",
   "metadata": {},
   "outputs": [
    {
     "data": {
      "text/plain": [
       "2    0.501808\n",
       "1    0.306811\n",
       "3    0.186407\n",
       "5    0.002712\n",
       "6    0.001206\n",
       "4    0.001055\n",
       "Name: EDUCATION, dtype: float64"
      ]
     },
     "execution_count": 190,
     "metadata": {},
     "output_type": "execute_result"
    }
   ],
   "source": [
    "education_groups.get_group(1).value_counts()/education_groups.get_group(1).size"
   ]
  },
  {
   "cell_type": "code",
   "execution_count": 191,
   "id": "3f14251f",
   "metadata": {},
   "outputs": [],
   "source": [
    "def get_freqs(freqs_map):\n",
    "    result = []\n",
    "    for i in range(7):\n",
    "        try:\n",
    "            result.append(freqs_map[i])\n",
    "        except:\n",
    "            result.append(0.0000001)\n",
    "    return result"
   ]
  },
  {
   "cell_type": "code",
   "execution_count": 192,
   "id": "af7b2adc",
   "metadata": {},
   "outputs": [],
   "source": [
    "group0_freqs = get_freqs(education_groups.get_group(0).value_counts()/education_groups.get_group(0).size)\n",
    "group1_freqs = get_freqs(education_groups.get_group(1).value_counts()/education_groups.get_group(1).size)"
   ]
  },
  {
   "cell_type": "code",
   "execution_count": 193,
   "id": "93ef4e02",
   "metadata": {},
   "outputs": [
    {
     "data": {
      "text/plain": [
       "[0.0005992124636192433,\n",
       " 0.36590481082006504,\n",
       " 0.4579695257661359,\n",
       " 0.15750727615134394,\n",
       " 0.004964903269988016,\n",
       " 0.011213833247731553,\n",
       " 0.0018404382811162473]"
      ]
     },
     "execution_count": 193,
     "metadata": {},
     "output_type": "execute_result"
    }
   ],
   "source": [
    "group0_freqs"
   ]
  },
  {
   "cell_type": "code",
   "execution_count": 194,
   "id": "1f01bf8d",
   "metadata": {},
   "outputs": [
    {
     "data": {
      "text/plain": [
       "[1e-07,\n",
       " 0.30681133212778783,\n",
       " 0.5018083182640145,\n",
       " 0.18640747438215793,\n",
       " 0.0010548523206751054,\n",
       " 0.0027124773960217,\n",
       " 0.0012055455093429777]"
      ]
     },
     "execution_count": 194,
     "metadata": {},
     "output_type": "execute_result"
    }
   ],
   "source": [
    "group1_freqs"
   ]
  },
  {
   "cell_type": "code",
   "execution_count": 195,
   "id": "ecc66a2f",
   "metadata": {},
   "outputs": [
    {
     "data": {
      "text/plain": [
       "Power_divergenceResult(statistic=3.6505221300259216, pvalue=0.723847511630284)"
      ]
     },
     "execution_count": 195,
     "metadata": {},
     "output_type": "execute_result"
    }
   ],
   "source": [
    "stats.chisquare(group0_freqs, group1_freqs)"
   ]
  },
  {
   "cell_type": "markdown",
   "id": "a74e2e48",
   "metadata": {},
   "source": [
    "p-value > 0.05, значит на этом уровне значимости гипотеза о равенстве равспределений не отвергается, и значит образование в целом не сильно влияет на возврат/невозврат кредита."
   ]
  },
  {
   "cell_type": "markdown",
   "id": "1d3821b4",
   "metadata": {},
   "source": [
    "Чтобы составить таблицу Образование-Возврат, нужно взять за аксиому, что люди из каждой категории образования должны возвращать/не возвращать так же, как и в целом по всей выборке в среднем:"
   ]
  },
  {
   "cell_type": "code",
   "execution_count": 196,
   "id": "9b038053",
   "metadata": {},
   "outputs": [],
   "source": [
    "back_percentage = education_groups.get_group(0).size/data.shape[0]"
   ]
  },
  {
   "cell_type": "code",
   "execution_count": 197,
   "id": "98405c14",
   "metadata": {},
   "outputs": [
    {
     "data": {
      "text/plain": [
       "0.7788"
      ]
     },
     "execution_count": 197,
     "metadata": {},
     "output_type": "execute_result"
    }
   ],
   "source": [
    "back_percentage"
   ]
  },
  {
   "cell_type": "markdown",
   "id": "87653955",
   "metadata": {},
   "source": [
    "То есть именно столько процентов в целом должны возвращать долг в каждой категории. Теперь в числах:"
   ]
  },
  {
   "cell_type": "code",
   "execution_count": 198,
   "id": "0695cfa4",
   "metadata": {},
   "outputs": [],
   "source": [
    "education_real = data.groupby(by='EDUCATION')\n",
    "real_numbers = {}\n",
    "theoretical_numbers = {}\n",
    "for name, group in education_real:\n",
    "    try:\n",
    "        real_numbers[name] = education_groups.get_group(0).value_counts()[name]\n",
    "    except:\n",
    "        real_numbers[0] = 0\n",
    "    theoretical_numbers[name] = round(len(group) * back_percentage)"
   ]
  },
  {
   "cell_type": "code",
   "execution_count": 199,
   "id": "d6a72be6",
   "metadata": {},
   "outputs": [
    {
     "data": {
      "text/plain": [
       "{0: 14, 1: 8549, 2: 10700, 3: 3680, 4: 116, 5: 262, 6: 43}"
      ]
     },
     "execution_count": 199,
     "metadata": {},
     "output_type": "execute_result"
    }
   ],
   "source": [
    "real_numbers"
   ]
  },
  {
   "cell_type": "code",
   "execution_count": 200,
   "id": "ea182698",
   "metadata": {},
   "outputs": [
    {
     "data": {
      "text/plain": [
       "{0: 11, 1: 8244, 2: 10927, 3: 3829, 4: 96, 5: 218, 6: 40}"
      ]
     },
     "execution_count": 200,
     "metadata": {},
     "output_type": "execute_result"
    }
   ],
   "source": [
    "theoretical_numbers"
   ]
  },
  {
   "cell_type": "code",
   "execution_count": 201,
   "id": "be5d8909",
   "metadata": {},
   "outputs": [],
   "source": [
    "table_ed = pd.DataFrame(columns=['Образование', 'Наблюдение - теория'])\n",
    "ed_names = {0:'доктор', 1:'магистр', 2:'бакалавр',3:'выпускник школы', 4:'начальное образование', 5:'прочее', 6:'нет данных' }"
   ]
  },
  {
   "cell_type": "code",
   "execution_count": 202,
   "id": "33c10d97",
   "metadata": {},
   "outputs": [],
   "source": [
    "for i in range(7):\n",
    "    table_ed = table_ed.append({'Образование': ed_names[i], 'Наблюдение - теория':real_numbers[i] - theoretical_numbers[i]}, ignore_index=True)"
   ]
  },
  {
   "cell_type": "code",
   "execution_count": 203,
   "id": "d52c4c79",
   "metadata": {},
   "outputs": [
    {
     "data": {
      "text/html": [
       "<div>\n",
       "<style scoped>\n",
       "    .dataframe tbody tr th:only-of-type {\n",
       "        vertical-align: middle;\n",
       "    }\n",
       "\n",
       "    .dataframe tbody tr th {\n",
       "        vertical-align: top;\n",
       "    }\n",
       "\n",
       "    .dataframe thead th {\n",
       "        text-align: right;\n",
       "    }\n",
       "</style>\n",
       "<table border=\"1\" class=\"dataframe\">\n",
       "  <thead>\n",
       "    <tr style=\"text-align: right;\">\n",
       "      <th></th>\n",
       "      <th>Образование</th>\n",
       "      <th>Наблюдение - теория</th>\n",
       "    </tr>\n",
       "  </thead>\n",
       "  <tbody>\n",
       "    <tr>\n",
       "      <th>0</th>\n",
       "      <td>доктор</td>\n",
       "      <td>3</td>\n",
       "    </tr>\n",
       "    <tr>\n",
       "      <th>1</th>\n",
       "      <td>магистр</td>\n",
       "      <td>305</td>\n",
       "    </tr>\n",
       "    <tr>\n",
       "      <th>2</th>\n",
       "      <td>бакалавр</td>\n",
       "      <td>-227</td>\n",
       "    </tr>\n",
       "    <tr>\n",
       "      <th>3</th>\n",
       "      <td>выпускник школы</td>\n",
       "      <td>-149</td>\n",
       "    </tr>\n",
       "    <tr>\n",
       "      <th>4</th>\n",
       "      <td>начальное образование</td>\n",
       "      <td>20</td>\n",
       "    </tr>\n",
       "    <tr>\n",
       "      <th>5</th>\n",
       "      <td>прочее</td>\n",
       "      <td>44</td>\n",
       "    </tr>\n",
       "    <tr>\n",
       "      <th>6</th>\n",
       "      <td>нет данных</td>\n",
       "      <td>3</td>\n",
       "    </tr>\n",
       "  </tbody>\n",
       "</table>\n",
       "</div>"
      ],
      "text/plain": [
       "             Образование Наблюдение - теория\n",
       "0                 доктор                   3\n",
       "1                магистр                 305\n",
       "2               бакалавр                -227\n",
       "3        выпускник школы                -149\n",
       "4  начальное образование                  20\n",
       "5                 прочее                  44\n",
       "6             нет данных                   3"
      ]
     },
     "execution_count": 203,
     "metadata": {},
     "output_type": "execute_result"
    }
   ],
   "source": [
    "table_ed"
   ]
  },
  {
   "cell_type": "markdown",
   "id": "9b127054",
   "metadata": {},
   "source": [
    "Разница не такая и большая в целом, но отсюда уже можно делать определённые выводы (например, магистры сильно чаще возвращают, чем ожидается - лучщий индикатор возврата, а бакалавры и выпускники школы - наоборот - худший индикатор)"
   ]
  },
  {
   "cell_type": "markdown",
   "id": "a47dcf3d",
   "metadata": {},
   "source": [
    "## 4. Marriage"
   ]
  },
  {
   "cell_type": "code",
   "execution_count": 204,
   "id": "7508c39c",
   "metadata": {},
   "outputs": [],
   "source": [
    "marriage_groups = data.groupby(by='default')['MARRIAGE']"
   ]
  },
  {
   "cell_type": "code",
   "execution_count": 205,
   "id": "6db76b6c",
   "metadata": {},
   "outputs": [
    {
     "data": {
      "text/plain": [
       "2    12623\n",
       "1    10453\n",
       "3      239\n",
       "0       49\n",
       "Name: MARRIAGE, dtype: int64"
      ]
     },
     "execution_count": 205,
     "metadata": {},
     "output_type": "execute_result"
    }
   ],
   "source": [
    "marriage_groups.get_group(0).value_counts()"
   ]
  },
  {
   "cell_type": "code",
   "execution_count": 206,
   "id": "d211d317",
   "metadata": {},
   "outputs": [
    {
     "data": {
      "image/png": "[encoded data removed]",
      "text/plain": [
       "<Figure size 432x288 with 1 Axes>"
      ]
     },
     "metadata": {
      "needs_background": "light"
     },
     "output_type": "display_data"
    }
   ],
   "source": [
    "marriage_groups.get_group(0).hist()\n",
    "pass"
   ]
  },
  {
   "cell_type": "code",
   "execution_count": 207,
   "id": "26f6dbcb",
   "metadata": {},
   "outputs": [
    {
     "data": {
      "text/plain": [
       "2    3341\n",
       "1    3206\n",
       "3      84\n",
       "0       5\n",
       "Name: MARRIAGE, dtype: int64"
      ]
     },
     "execution_count": 207,
     "metadata": {},
     "output_type": "execute_result"
    }
   ],
   "source": [
    "marriage_groups.get_group(1).value_counts()"
   ]
  },
  {
   "cell_type": "code",
   "execution_count": 208,
   "id": "21ad9dc9",
   "metadata": {},
   "outputs": [
    {
     "data": {
      "image/png": "[encoded data removed]",
      "text/plain": [
       "<Figure size 432x288 with 1 Axes>"
      ]
     },
     "metadata": {
      "needs_background": "light"
     },
     "output_type": "display_data"
    }
   ],
   "source": [
    "marriage_groups.get_group(0).hist()\n",
    "pass"
   ]
  },
  {
   "cell_type": "code",
   "execution_count": 219,
   "id": "0f6ef7df",
   "metadata": {},
   "outputs": [
    {
     "data": {
      "image/png": "[encoded data removed]",
      "text/plain": [
       "<Figure size 576x432 with 1 Axes>"
      ]
     },
     "metadata": {
      "needs_background": "light"
     },
     "output_type": "display_data"
    }
   ],
   "source": [
    "fig, ax = plt.subplots(figsize=(8, 6))\n",
    "ax.hist(marriage_groups.get_group(0), density=True, color='b', alpha=0.8, label='Вернули')\n",
    "ax.hist(marriage_groups.get_group(1), density=True, color='r', alpha=0.8, label='Не вернули')\n",
    "ax.legend()\n",
    "ax.grid()\n",
    "ax.text(0.7, -0.2, 'Женат/замужем')\n",
    "ax.text(1.8, -0.2, 'Холост')\n",
    "pass"
   ]
  },
  {
   "cell_type": "markdown",
   "id": "9c0dfe26",
   "metadata": {},
   "source": [
    "Это категориальный признак, значит зависимость можно сравнить с помощью коэффициента Крамера"
   ]
  },
  {
   "cell_type": "code",
   "execution_count": 339,
   "id": "203e5f73",
   "metadata": {},
   "outputs": [
    {
     "data": {
      "text/plain": [
       "3206"
      ]
     },
     "execution_count": 339,
     "metadata": {},
     "output_type": "execute_result"
    }
   ],
   "source": [
    "data[(data['MARRIAGE'] == 1) & (data['default'] == 1)].shape[0]"
   ]
  },
  {
   "cell_type": "code",
   "execution_count": 343,
   "id": "b5dd635a",
   "metadata": {},
   "outputs": [],
   "source": [
    "marriage_vals = sorted(data['MARRIAGE'].unique())\n",
    "default_vals = sorted(data['default'].unique())\n",
    "confusions = []\n",
    "for marr in marriage_vals:\n",
    "    for default in default_vals:\n",
    "        confusions.append(data[(data['MARRIAGE'] == marr) & (data['default'] == default)].shape[0])\n",
    "confusion_matrix = np.array(confusions).reshape(len(marriage_vals), len(default_vals))"
   ]
  },
  {
   "cell_type": "code",
   "execution_count": 346,
   "id": "87453620",
   "metadata": {},
   "outputs": [],
   "source": [
    "def cramers_stat(confusion_matrix):\n",
    "    chi2 = stats.chi2_contingency(confusion_matrix)[0]\n",
    "    n = confusion_matrix.sum()\n",
    "    return np.sqrt(chi2 / (n*(min(confusion_matrix.shape)-1)))"
   ]
  },
  {
   "cell_type": "code",
   "execution_count": 347,
   "id": "2f4f4c64",
   "metadata": {},
   "outputs": [],
   "source": [
    "result = cramers_stat(confusion_matrix)"
   ]
  },
  {
   "cell_type": "code",
   "execution_count": 349,
   "id": "dfeca0e4",
   "metadata": {},
   "outputs": [
    {
     "name": "stdout",
     "output_type": "stream",
     "text": [
      "Коэффициент Крамера: 0.034478203662766466\n"
     ]
    }
   ],
   "source": [
    "print(f'Коэффициент Крамера: {result}')"
   ]
  },
  {
   "cell_type": "markdown",
   "id": "495346ea",
   "metadata": {},
   "source": [
    "#### Вывод: коэффициент Крамера очень близок к 0, значит, возврат/невозврат кредита никак не зависит от семейного положения"
   ]
  },
  {
   "cell_type": "markdown",
   "id": "7d983870",
   "metadata": {},
   "source": [
    "## 5. Age"
   ]
  },
  {
   "cell_type": "markdown",
   "id": "3c8fd6b9",
   "metadata": {},
   "source": [
    "### 5.1 О равенстве медианных значений возрастов людей"
   ]
  },
  {
   "cell_type": "markdown",
   "id": "a82df868",
   "metadata": {},
   "source": [
    "Также, как и в 1 пункте, используем бутстреп:"
   ]
  },
  {
   "cell_type": "code",
   "execution_count": 246,
   "id": "2b1403ae",
   "metadata": {},
   "outputs": [],
   "source": [
    "age_groups = data.groupby(by='default')['AGE']"
   ]
  },
  {
   "cell_type": "code",
   "execution_count": 363,
   "id": "6e2f3916",
   "metadata": {},
   "outputs": [
    {
     "data": {
      "image/png": "[encoded data removed]",
      "text/plain": [
       "<Figure size 432x288 with 1 Axes>"
      ]
     },
     "metadata": {
      "needs_background": "light"
     },
     "output_type": "display_data"
    }
   ],
   "source": [
    "age_groups.get_group(0).hist()\n",
    "age_groups.get_group(1).hist(color='g', alpha=0.8)\n",
    "plt.vlines(age_groups.get_group(0).agg('median'), 0, 7000, color = 'r')\n",
    "plt.vlines(age_groups.get_group(1).agg('median'), 0, 7000, color = 'y')\n",
    "plt.text(31.5, -500, 'Median')\n",
    "pass"
   ]
  },
  {
   "cell_type": "code",
   "execution_count": 315,
   "id": "d6e6abca",
   "metadata": {},
   "outputs": [
    {
     "name": "stdout",
     "output_type": "stream",
     "text": [
      "Median group 0 95% boundaries: [33. 35.]\n",
      "Median group 1 95% boundaries: [31.9875 37.    ]\n"
     ]
    }
   ],
   "source": [
    "np.random.seed(0)\n",
    "\n",
    "age0_bootstrap_meds = list(map(np.median, get_bootstrap_samples(age_groups.get_group(0).values, 1000)))\n",
    "age1_bootstrap_meds = list(map(np.median, get_bootstrap_samples(age_groups.get_group(1).values, 1000)))\n",
    "\n",
    "print(f'Median group 0 95% boundaries: {stat_intervals(age0_bootstrap_meds, 0.05)}')\n",
    "print(f'Median group 1 95% boundaries: {stat_intervals(age1_bootstrap_meds, 0.05)}')"
   ]
  },
  {
   "cell_type": "markdown",
   "id": "a13a0c31",
   "metadata": {},
   "source": [
    "#### Вывод: один интервал полностью входит в другой, поэтому можно утверждать о равенстве медианных значений возрастов"
   ]
  },
  {
   "cell_type": "markdown",
   "id": "25ce7443",
   "metadata": {},
   "source": [
    "### 5.2 О равенстве распределений  с помощью одного из подходящих непараметрических критериев проверки равенства средних"
   ]
  },
  {
   "cell_type": "markdown",
   "id": "dcf93cac",
   "metadata": {},
   "source": [
    "Здесь также можно применить непараметрический критерий Манна-Уитни для независимых выборок:"
   ]
  },
  {
   "cell_type": "code",
   "execution_count": 259,
   "id": "0c7641bd",
   "metadata": {},
   "outputs": [
    {
     "data": {
      "image/png": "[encoded data removed]",
      "text/plain": [
       "<Figure size 432x288 with 1 Axes>"
      ]
     },
     "metadata": {
      "needs_background": "light"
     },
     "output_type": "display_data"
    }
   ],
   "source": [
    "age_groups.get_group(0).hist()\n",
    "pass"
   ]
  },
  {
   "cell_type": "code",
   "execution_count": 260,
   "id": "41d097e1",
   "metadata": {},
   "outputs": [
    {
     "data": {
      "image/png": "[encoded data removed]",
      "text/plain": [
       "<Figure size 432x288 with 1 Axes>"
      ]
     },
     "metadata": {
      "needs_background": "light"
     },
     "output_type": "display_data"
    }
   ],
   "source": [
    "age_groups.get_group(1).hist()\n",
    "pass"
   ]
  },
  {
   "cell_type": "code",
   "execution_count": 258,
   "id": "afef348c",
   "metadata": {},
   "outputs": [
    {
     "data": {
      "text/plain": [
       "MannwhitneyuResult(statistic=76966879.5, pvalue=0.1862517717449308)"
      ]
     },
     "execution_count": 258,
     "metadata": {},
     "output_type": "execute_result"
    }
   ],
   "source": [
    "stats.mannwhitneyu(age_groups.get_group(0), age_groups.get_group(1))"
   ]
  },
  {
   "cell_type": "markdown",
   "id": "8727b69d",
   "metadata": {},
   "source": [
    "p-value достаточно большое, значит на уровне значимости 0.05 гипотеза о равенстве распределений не отвергается"
   ]
  },
  {
   "cell_type": "markdown",
   "id": "0a771a88",
   "metadata": {},
   "source": []
  },
  {
   "cell_type": "code",
   "execution_count": null,
   "id": "0e57499d",
   "metadata": {},
   "outputs": [],
   "source": []
  }
 ],
 "metadata": {
  "kernelspec": {
   "display_name": "Python 3",
   "language": "python",
   "name": "python3"
  },
  "language_info": {
   "codemirror_mode": {
    "name": "ipython",
    "version": 3
   },
   "file_extension": ".py",
   "mimetype": "text/x-python",
   "name": "python",
   "nbconvert_exporter": "python",
   "pygments_lexer": "ipython3",
   "version": "3.8.8"
  }
 },
 "nbformat": 4,
 "nbformat_minor": 5
}
