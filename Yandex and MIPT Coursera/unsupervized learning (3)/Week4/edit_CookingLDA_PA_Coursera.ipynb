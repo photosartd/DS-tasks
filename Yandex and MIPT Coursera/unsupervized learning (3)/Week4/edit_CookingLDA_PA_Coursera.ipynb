{
 "cells": [
  {
   "cell_type": "markdown",
   "metadata": {},
   "source": [
    "# Programming Assignment: \n",
    "## Готовим LDA по рецептам"
   ]
  },
  {
   "cell_type": "markdown",
   "metadata": {},
   "source": [
    "Как вы уже знаете, в тематическом моделировании делается предположение о том, что для определения тематики порядок слов в документе не важен; об этом гласит гипотеза «мешка слов». Сегодня мы будем работать с несколько нестандартной для тематического моделирования коллекцией, которую можно назвать «мешком ингредиентов», потому что на состоит из рецептов блюд разных кухонь. Тематические модели ищут слова, которые часто вместе встречаются в документах, и составляют из них темы. Мы попробуем применить эту идею к рецептам и найти кулинарные «темы». Эта коллекция хороша тем, что не требует предобработки. Кроме того, эта задача достаточно наглядно иллюстрирует принцип работы тематических моделей.\n",
    "\n",
    "Для выполнения заданий, помимо часто используемых в курсе библиотек, потребуются модули *json* и *gensim*. Первый входит в дистрибутив Anaconda, второй можно поставить командой \n",
    "\n",
    "*pip install gensim*\n",
    "\n",
    "Построение модели занимает некоторое время. На ноутбуке с процессором Intel Core i7 и тактовой частотой 2400 МГц на построение одной модели уходит менее 10 минут."
   ]
  },
  {
   "cell_type": "markdown",
   "metadata": {},
   "source": [
    "### Загрузка данных"
   ]
  },
  {
   "cell_type": "markdown",
   "metadata": {},
   "source": [
    "Коллекция дана в json-формате: для каждого рецепта известны его id, кухня (cuisine) и список ингредиентов, в него входящих. Загрузить данные можно с помощью модуля json (он входит в дистрибутив Anaconda):"
   ]
  },
  {
   "cell_type": "code",
   "execution_count": 1,
   "metadata": {},
   "outputs": [],
   "source": [
    "import json"
   ]
  },
  {
   "cell_type": "code",
   "execution_count": 2,
   "metadata": {},
   "outputs": [],
   "source": [
    "with open(\"recipes.json\") as f:\n",
    "    recipes = json.load(f)"
   ]
  },
  {
   "cell_type": "code",
   "execution_count": 3,
   "metadata": {},
   "outputs": [
    {
     "name": "stdout",
     "output_type": "stream",
     "text": [
      "{'id': 10259, 'cuisine': 'greek', 'ingredients': ['romaine lettuce', 'black olives', 'grape tomatoes', 'garlic', 'pepper', 'purple onion', 'seasoning', 'garbanzo beans', 'feta cheese crumbles']}\n"
     ]
    }
   ],
   "source": [
    "print(recipes[0])"
   ]
  },
  {
   "cell_type": "markdown",
   "metadata": {},
   "source": [
    "### Составление корпуса"
   ]
  },
  {
   "cell_type": "code",
   "execution_count": 4,
   "metadata": {},
   "outputs": [
    {
     "name": "stderr",
     "output_type": "stream",
     "text": [
      "/home/dmitrytrofimov/anaconda3/lib/python3.8/site-packages/gensim/similarities/__init__.py:15: UserWarning: The gensim.similarities.levenshtein submodule is disabled, because the optional Levenshtein package <https://pypi.org/project/python-Levenshtein/> is unavailable. Install Levenhstein (e.g. `pip install python-Levenshtein`) to suppress this warning.\n",
      "  warnings.warn(msg)\n"
     ]
    }
   ],
   "source": [
    "from gensim import corpora, models\n",
    "import numpy as np"
   ]
  },
  {
   "cell_type": "markdown",
   "metadata": {},
   "source": [
    "Наша коллекция небольшая, и целиком помещается в оперативную память. Gensim может работать с такими данными и не требует их сохранения на диск в специальном формате. Для этого коллекция должна быть представлена в виде списка списков, каждый внутренний список соответствует отдельному документу и состоит из его слов. Пример коллекции из двух документов: \n",
    "\n",
    "[[\"hello\", \"world\"], [\"programming\", \"in\", \"python\"]]\n",
    "\n",
    "Преобразуем наши данные в такой формат, а затем создадим объекты corpus и dictionary, с которыми будет работать модель."
   ]
  },
  {
   "cell_type": "code",
   "execution_count": 53,
   "metadata": {},
   "outputs": [],
   "source": [
    "texts = [recipe[\"ingredients\"] for recipe in recipes]\n",
    "dictionary = corpora.Dictionary(texts)   # составляем словарь\n",
    "corpus = [dictionary.doc2bow(text) for text in texts]  # составляем корпус документов"
   ]
  },
  {
   "cell_type": "code",
   "execution_count": 54,
   "metadata": {},
   "outputs": [
    {
     "name": "stdout",
     "output_type": "stream",
     "text": [
      "['romaine lettuce', 'black olives', 'grape tomatoes', 'garlic', 'pepper', 'purple onion', 'seasoning', 'garbanzo beans', 'feta cheese crumbles']\n",
      "[(0, 1), (1, 1), (2, 1), (3, 1), (4, 1), (5, 1), (6, 1), (7, 1), (8, 1)]\n"
     ]
    }
   ],
   "source": [
    "print(texts[0])\n",
    "print(corpus[0])"
   ]
  },
  {
   "cell_type": "markdown",
   "metadata": {},
   "source": [
    "У объекта dictionary есть полезная переменная dictionary.token2id, позволяющая находить соответствие между ингредиентами и их индексами."
   ]
  },
  {
   "cell_type": "markdown",
   "metadata": {},
   "source": [
    "### Обучение модели\n",
    "Вам может понадобиться [документация](https://radimrehurek.com/gensim/models/ldamodel.html) LDA в gensim."
   ]
  },
  {
   "cell_type": "markdown",
   "metadata": {},
   "source": [
    "__Задание 1.__ Обучите модель LDA с 40 темами, установив количество проходов по коллекции 5 и оставив остальные параметры по умолчанию. \n",
    "\n",
    "\n",
    "Затем вызовите метод модели *show_topics*, указав количество тем 40 и количество токенов 10, и сохраните результат (топы ингредиентов в темах) в отдельную переменную. Если при вызове метода *show_topics* указать параметр *formatted=True*, то топы ингредиентов будет удобно выводить на печать, если *formatted=False*, будет удобно работать со списком программно. Выведите топы на печать, рассмотрите темы, а затем ответьте на вопрос:\n",
    "\n",
    "Сколько раз ингредиенты \"salt\", \"sugar\", \"water\", \"mushrooms\", \"chicken\", \"eggs\" встретились среди топов-10 всех 40 тем? При ответе __не нужно__ учитывать составные ингредиенты, например, \"hot water\".\n",
    "\n",
    "Передайте 6 чисел в функцию save_answers1 и загрузите сгенерированный файл в форму.\n",
    "\n",
    "У gensim нет возможности фиксировать случайное приближение через параметры метода, но библиотека использует numpy для инициализации матриц. Поэтому, по утверждению автора библиотеки, фиксировать случайное приближение нужно командой, которая написана в следующей ячейке. __Перед строкой кода с построением модели обязательно вставляйте указанную строку фиксации random.seed.__"
   ]
  },
  {
   "cell_type": "code",
   "execution_count": 7,
   "metadata": {},
   "outputs": [
    {
     "name": "stdout",
     "output_type": "stream",
     "text": [
      "CPU times: user 5 µs, sys: 1 µs, total: 6 µs\n",
      "Wall time: 10.3 µs\n"
     ]
    }
   ],
   "source": [
    "np.random.seed(76543)\n",
    "# здесь код для построения модели:\n",
    "%time\n",
    "ldamodel = models.ldamodel.LdaModel(corpus, num_topics=40, passes=5)"
   ]
  },
  {
   "cell_type": "code",
   "execution_count": 8,
   "metadata": {},
   "outputs": [],
   "source": [
    "top_ingredients_in_topics = ldamodel.show_topics(num_topics=40, num_words=10)"
   ]
  },
  {
   "cell_type": "code",
   "execution_count": 10,
   "metadata": {},
   "outputs": [
    {
     "data": {
      "text/plain": [
       "{'black olives': 0,\n",
       " 'feta cheese crumbles': 1,\n",
       " 'garbanzo beans': 2,\n",
       " 'garlic': 3,\n",
       " 'grape tomatoes': 4,\n",
       " 'pepper': 5,\n",
       " 'purple onion': 6,\n",
       " 'romaine lettuce': 7,\n",
       " 'seasoning': 8,\n",
       " 'eggs': 9,\n",
       " 'green tomatoes': 10,\n",
       " 'ground black pepper': 11,\n",
       " 'ground pepper': 12,\n",
       " 'milk': 13,\n",
       " 'plain flour': 14,\n",
       " 'salt': 15,\n",
       " 'thyme': 16,\n",
       " 'tomatoes': 17,\n",
       " 'vegetable oil': 18,\n",
       " 'yellow corn meal': 19,\n",
       " 'butter': 20,\n",
       " 'chicken livers': 21,\n",
       " 'cooking oil': 22,\n",
       " 'garlic powder': 23,\n",
       " 'green chilies': 24,\n",
       " 'grilled chicken breasts': 25,\n",
       " 'mayonaise': 26,\n",
       " 'soy sauce': 27,\n",
       " 'yellow onion': 28,\n",
       " 'water': 29,\n",
       " 'wheat': 30,\n",
       " 'bay leaf': 31,\n",
       " 'black pepper': 32,\n",
       " 'boneless chicken skinless thigh': 33,\n",
       " 'cayenne pepper': 34,\n",
       " 'chili powder': 35,\n",
       " 'cornflour': 36,\n",
       " 'double cream': 37,\n",
       " 'garam masala': 38,\n",
       " 'garlic paste': 39,\n",
       " 'ground cumin': 40,\n",
       " 'lemon juice': 41,\n",
       " 'natural yogurt': 42,\n",
       " 'oil': 43,\n",
       " 'onions': 44,\n",
       " 'passata': 45,\n",
       " 'shallots': 46,\n",
       " 'baking powder': 47,\n",
       " 'fresh ginger root': 48,\n",
       " 'ground cinnamon': 49,\n",
       " 'ground ginger': 50,\n",
       " 'powdered sugar': 51,\n",
       " 'sugar': 52,\n",
       " 'vanilla extract': 53,\n",
       " 'chopped cilantro': 54,\n",
       " 'chorizo sausage': 55,\n",
       " 'flat leaf parsley': 56,\n",
       " 'jalapeno chilies': 57,\n",
       " 'medium shrimp': 58,\n",
       " 'olive oil': 59,\n",
       " 'sea salt': 60,\n",
       " 'skirt steak': 61,\n",
       " 'white vinegar': 62,\n",
       " 'almond extract': 63,\n",
       " 'dried cranberries': 64,\n",
       " 'flour': 65,\n",
       " 'pistachio nuts': 66,\n",
       " 'white almond bark': 67,\n",
       " 'cheddar cheese': 68,\n",
       " 'chopped cilantro fresh': 69,\n",
       " 'corn tortillas': 70,\n",
       " 'fresh pineapple': 71,\n",
       " 'iceberg lettuce': 72,\n",
       " 'lime': 73,\n",
       " 'poblano peppers': 74,\n",
       " 'pork': 75,\n",
       " 'chopped tomatoes': 76,\n",
       " 'extra-virgin olive oil': 77,\n",
       " 'fresh basil': 78,\n",
       " 'kosher salt': 79,\n",
       " 'canola oil': 80,\n",
       " 'dried oregano': 81,\n",
       " 'mushrooms': 82,\n",
       " 'pimentos': 83,\n",
       " 'provolone cheese': 84,\n",
       " 'sausages': 85,\n",
       " 'sharp cheddar cheese': 86,\n",
       " 'sweet pepper': 87,\n",
       " 'swiss cheese': 88,\n",
       " 'Shaoxing wine': 89,\n",
       " 'corn starch': 90,\n",
       " 'crushed red pepper flakes': 91,\n",
       " 'dry mustard': 92,\n",
       " 'fresh ginger': 93,\n",
       " 'green beans': 94,\n",
       " 'ground turkey': 95,\n",
       " 'low sodium soy sauce': 96,\n",
       " 'scallions': 97,\n",
       " 'sesame oil': 98,\n",
       " 'white pepper': 99,\n",
       " 'Italian parsley leaves': 100,\n",
       " 'chipotle chile': 101,\n",
       " 'fine sea salt': 102,\n",
       " 'fresh lemon juice': 103,\n",
       " 'garlic cloves': 104,\n",
       " 'hot red pepper flakes': 105,\n",
       " 'trout fillet': 106,\n",
       " 'walnuts': 107,\n",
       " 'avocado': 108,\n",
       " 'flank steak': 109,\n",
       " 'fresh cilantro': 110,\n",
       " 'ground coriander': 111,\n",
       " 'lime juice': 112,\n",
       " 'plum tomatoes': 113,\n",
       " 'all-purpose flour': 114,\n",
       " 'bacon slices': 115,\n",
       " 'chopped fresh chives': 116,\n",
       " 'cooking spray': 117,\n",
       " 'fat free less sodium chicken broth': 118,\n",
       " 'fat free milk': 119,\n",
       " 'fresh parmesan cheese': 120,\n",
       " 'gnocchi': 121,\n",
       " 'gruyere cheese': 122,\n",
       " 'naan': 123,\n",
       " 'red chili peppers': 124,\n",
       " 'red lentils': 125,\n",
       " 'spinach': 126,\n",
       " 'sweet potatoes': 127,\n",
       " 'tumeric': 128,\n",
       " 'vegetable stock': 129,\n",
       " 'confectioners sugar': 130,\n",
       " 'greek yogurt': 131,\n",
       " 'lemon curd': 132,\n",
       " 'raspberries': 133,\n",
       " 'broiler-fryer chicken': 134,\n",
       " 'italian seasoning': 135,\n",
       " 'zesty italian dressing': 136,\n",
       " 'asian fish sauce': 137,\n",
       " 'hot chili': 138,\n",
       " 'broccolini': 139,\n",
       " 'chicken breasts': 140,\n",
       " 'chicken broth': 141,\n",
       " 'cooked rice': 142,\n",
       " 'fresh lime juice': 143,\n",
       " 'garlic chili sauce': 144,\n",
       " 'red bell pepper': 145,\n",
       " 'sliced green onions': 146,\n",
       " 'yellow squash': 147,\n",
       " 'beansprouts': 148,\n",
       " 'chopped fresh mint': 149,\n",
       " 'creamy peanut butter': 150,\n",
       " 'hoisin sauce': 151,\n",
       " 'pork loin': 152,\n",
       " 'rice': 153,\n",
       " 'rice noodles': 154,\n",
       " 'roasted peanuts': 155,\n",
       " 'thai basil': 156,\n",
       " 'roma tomatoes': 157,\n",
       " 'baking potatoes': 158,\n",
       " 'low-fat mayonnaise': 159,\n",
       " 'spicy brown mustard': 160,\n",
       " 'arrowroot powder': 161,\n",
       " 'broccoli': 162,\n",
       " 'extra firm tofu': 163,\n",
       " 'orange bell pepper': 164,\n",
       " 'red curry paste': 165,\n",
       " 'red pepper': 166,\n",
       " 'sesame seeds': 167,\n",
       " 'yellow peppers': 168,\n",
       " 'capers': 169,\n",
       " 'lemon zest': 170,\n",
       " 'linguine': 171,\n",
       " 'marinara sauce': 172,\n",
       " 'olives': 173,\n",
       " 'cabbage': 174,\n",
       " 'chives': 175,\n",
       " 'dark soy sauce': 176,\n",
       " 'dried black mushrooms': 177,\n",
       " 'light soy sauce': 178,\n",
       " 'lo mein noodles': 179,\n",
       " 'oyster sauce': 180,\n",
       " 'peanuts': 181,\n",
       " 'chile pepper': 182,\n",
       " 'fresh tomatoes': 183,\n",
       " 'herbs': 184,\n",
       " 'mango': 185,\n",
       " 'paprika': 186,\n",
       " 'stock': 187,\n",
       " 'cooked chicken': 188,\n",
       " 'grated parmesan cheese': 189,\n",
       " 'heavy cream': 190,\n",
       " 'sherry': 191,\n",
       " 'sliced mushrooms': 192,\n",
       " 'spaghetti': 193,\n",
       " 'carrots': 194,\n",
       " 'egg roll wrappers': 195,\n",
       " 'green bell pepper': 196,\n",
       " 'ground pork': 197,\n",
       " 'molasses': 198,\n",
       " 'shredded cabbage': 199,\n",
       " 'sweet and sour sauce': 200,\n",
       " 'breakfast sausages': 201,\n",
       " 'cheese': 202,\n",
       " 'flour tortillas': 203,\n",
       " 'large eggs': 204,\n",
       " 'boiling water': 205,\n",
       " 'andouille sausage': 206,\n",
       " 'bacon': 207,\n",
       " 'cajun seasoning': 208,\n",
       " 'celery': 209,\n",
       " 'fresh parsley': 210,\n",
       " 'ground red pepper': 211,\n",
       " 'hot sauce': 212,\n",
       " 'peanut oil': 213,\n",
       " 'potatoes': 214,\n",
       " 'shrimp': 215,\n",
       " 'onion powder': 216,\n",
       " 'chile powder': 217,\n",
       " 'chinese chives': 218,\n",
       " 'firm tofu': 219,\n",
       " 'fish sauce': 220,\n",
       " 'green papaya': 221,\n",
       " 'lime wedges': 222,\n",
       " 'palm sugar': 223,\n",
       " 'sliced chicken': 224,\n",
       " 'tamarind paste': 225,\n",
       " 'turnips': 226,\n",
       " 'crushed garlic': 227,\n",
       " 'diced tomatoes': 228,\n",
       " 'dried basil': 229,\n",
       " 'green onions': 230,\n",
       " 'white sugar': 231,\n",
       " 'Johnsonville Andouille Dinner Sausage': 232,\n",
       " 'creole seasoning': 233,\n",
       " 'hot pepper sauce': 234,\n",
       " 'jambalaya rice mix': 235,\n",
       " 'parsley': 236,\n",
       " 'worcestershire sauce': 237,\n",
       " 'bread slices': 238,\n",
       " 'great northern beans': 239,\n",
       " 'sage leaves': 240,\n",
       " 'chicken thighs': 241,\n",
       " 'chinese five-spice powder': 242,\n",
       " 'star anise': 243,\n",
       " 'black-eyed peas': 244,\n",
       " 'cream cheese': 245,\n",
       " 'shredded cheddar cheese': 246,\n",
       " 'tortilla chips': 247,\n",
       " 'apple cider': 248,\n",
       " 'bay leaves': 249,\n",
       " 'chicken stock': 250,\n",
       " 'collard greens': 251,\n",
       " 'freshly ground pepper': 252,\n",
       " 'ham hock': 253,\n",
       " 'large garlic cloves': 254,\n",
       " 'light brown sugar': 255,\n",
       " 'rib': 256,\n",
       " 'Oscar Mayer Deli Fresh Smoked Ham': 257,\n",
       " 'giardiniera': 258,\n",
       " 'hoagie rolls': 259,\n",
       " 'mozzarella cheese': 260,\n",
       " 'pepperoni': 261,\n",
       " 'salami': 262,\n",
       " 'club soda': 263,\n",
       " 'ice cubes': 264,\n",
       " 'turbinado': 265,\n",
       " 'white rum': 266,\n",
       " 'canned black beans': 267,\n",
       " 'enchilada sauce': 268,\n",
       " 'green pepper': 269,\n",
       " 'picante sauce': 270,\n",
       " 'shredded lettuce': 271,\n",
       " 'sour cream': 272,\n",
       " 'cumin seed': 273,\n",
       " 'curry powder': 274,\n",
       " 'salmon fillets': 275,\n",
       " 'sauce': 276,\n",
       " 'serrano chile': 277,\n",
       " 'chicken breast halves': 278,\n",
       " 'chopped onion': 279,\n",
       " 'lettuce leaves': 280,\n",
       " 'frosting': 281,\n",
       " 'mandarin oranges': 282,\n",
       " 'orange liqueur': 283,\n",
       " 'yellow cake mix': 284,\n",
       " 'fennel bulb': 285,\n",
       " 'grapefruit juice': 286,\n",
       " 'lemon olive oil': 287,\n",
       " 'bacon drippings': 288,\n",
       " 'buttermilk': 289,\n",
       " 'white cornmeal': 290,\n",
       " 'crab boil': 291,\n",
       " 'crawfish': 292,\n",
       " 'old bay seasoning': 293,\n",
       " 'corn oil': 294,\n",
       " 'glass noodles': 295,\n",
       " 'mirin': 296,\n",
       " 'napa cabbage': 297,\n",
       " 'sake': 298,\n",
       " 'shiitake': 299,\n",
       " 'sirloin': 300,\n",
       " 'extra sharp cheddar cheese': 301,\n",
       " 'monterey jack': 302,\n",
       " 'quickcooking grits': 303,\n",
       " 'whipping cream': 304,\n",
       " 'basil': 305,\n",
       " 'crushed red pepper': 306,\n",
       " 'dry white wine': 307,\n",
       " 'finely chopped onion': 308,\n",
       " 'mussels': 309,\n",
       " 'baking soda': 310,\n",
       " 'honey': 311,\n",
       " 'unsalted butter': 312,\n",
       " 'lemon': 313,\n",
       " 'pesto': 314,\n",
       " 'white wine': 315,\n",
       " 'allspice': 316,\n",
       " 'bread crumbs': 317,\n",
       " 'cold water': 318,\n",
       " 'curry': 319,\n",
       " 'fresh thyme': 320,\n",
       " 'ground beef': 321,\n",
       " 'low sodium beef broth': 322,\n",
       " 'pickapeppa sauce': 323,\n",
       " 'chopped walnuts': 324,\n",
       " 'matcha green tea powder': 325,\n",
       " 'melted butter': 326,\n",
       " 'coarse salt': 327,\n",
       " 'fenugreek': 328,\n",
       " 'urad dal': 329,\n",
       " 'white rice': 330,\n",
       " 'part-skim mozzarella cheese': 331,\n",
       " 'pizza crust': 332,\n",
       " '1% low-fat milk': 333,\n",
       " 'leeks': 334,\n",
       " 'low-fat sour cream': 335,\n",
       " 'yukon gold potatoes': 336,\n",
       " 'dry sherry': 337,\n",
       " 'golden brown sugar': 338,\n",
       " 'lemongrass': 339,\n",
       " 'peanut sauce': 340,\n",
       " 'spareribs': 341,\n",
       " 'tamari soy sauce': 342,\n",
       " 'unsweetened coconut milk': 343,\n",
       " 'chicken legs': 344,\n",
       " 'ghee': 345,\n",
       " 'ground turmeric': 346,\n",
       " 'tomato paste': 347,\n",
       " 'chillies': 348,\n",
       " 'cracked black pepper': 349,\n",
       " 'dried thyme': 350,\n",
       " 'ginger': 351,\n",
       " 'minced beef': 352,\n",
       " 'boneless pork loin': 353,\n",
       " 'crushed tomatoes': 354,\n",
       " 'fresh rosemary': 355,\n",
       " 'pappardelle': 356,\n",
       " 'coconut milk': 357,\n",
       " 'eggplant': 358,\n",
       " 'Gochujang base': 359,\n",
       " 'Taiwanese bok choy': 360,\n",
       " 'jasmine rice': 361,\n",
       " 'rice vinegar': 362,\n",
       " 'top round steak': 363,\n",
       " 'large egg yolks': 364,\n",
       " 'vanilla': 365,\n",
       " 'gingersnap': 366,\n",
       " 'ground nutmeg': 367,\n",
       " 'maple syrup': 368,\n",
       " 'marshmallow creme': 369,\n",
       " 'orange juice concentrate': 370,\n",
       " 'pumpkin purée': 371,\n",
       " 'toasted pecans': 372,\n",
       " 'brown sugar': 373,\n",
       " 'dijon mustard': 374,\n",
       " 'manchego cheese': 375,\n",
       " 'membrillo': 376,\n",
       " 'serrano ham': 377,\n",
       " 'sourdough': 378,\n",
       " 'Sriracha': 379,\n",
       " 'burger buns': 380,\n",
       " 'chickpea flour': 381,\n",
       " 'chickpeas': 382,\n",
       " 'greens': 383,\n",
       " 'ground flaxseed': 384,\n",
       " 'panko breadcrumbs': 385,\n",
       " 'tahini': 386,\n",
       " 'ground cardamom': 387,\n",
       " 'ground cloves': 388,\n",
       " 'whole nutmegs': 389,\n",
       " 'Italian bread': 390,\n",
       " 'balsamic vinegar': 391,\n",
       " 'penne pasta': 392,\n",
       " 'roasted red peppers': 393,\n",
       " 'sausage casings': 394,\n",
       " 'shredded mozzarella cheese': 395,\n",
       " 'saffron': 396,\n",
       " 'warm water': 397,\n",
       " 'cayenne': 398,\n",
       " 'couscous': 399,\n",
       " 'fat': 400,\n",
       " 'fat skimmed chicken broth': 401,\n",
       " 'harissa': 402,\n",
       " 'pitted kalamata olives': 403,\n",
       " 'preserved lemon': 404,\n",
       " 'espresso': 405,\n",
       " 'ice': 406,\n",
       " 'sweetened condensed milk': 407,\n",
       " 'fresh asparagus': 408,\n",
       " 'chuck': 409,\n",
       " 'crumbled blue cheese': 410,\n",
       " 'hamburger buns': 411,\n",
       " 'okra pods': 412,\n",
       " 'pecans': 413,\n",
       " 'watercress': 414,\n",
       " 'food colouring': 415,\n",
       " 'self rising flour': 416,\n",
       " 'softened butter': 417,\n",
       " 'Fuyu persimmons': 418,\n",
       " 'Madeira': 419,\n",
       " 'demi-glace': 420,\n",
       " 'egg bread': 421,\n",
       " 'foie gras': 422,\n",
       " 'sherry vinegar': 423,\n",
       " 'white bread': 424,\n",
       " 'amchur': 425,\n",
       " 'black mustard seeds': 426,\n",
       " 'coriander': 427,\n",
       " 'fenugreek leaves': 428,\n",
       " 'fingerling potatoes': 429,\n",
       " 'ramps': 430,\n",
       " 'black peppercorns': 431,\n",
       " 'cardamom pods': 432,\n",
       " 'cinnamon sticks': 433,\n",
       " 'coriander seeds': 434,\n",
       " 'asiago': 435,\n",
       " 'sweet onion': 436,\n",
       " 'whole wheat pasta': 437,\n",
       " 'chestnut flour': 438,\n",
       " 'chestnuts': 439,\n",
       " 'coffee ice cream': 440,\n",
       " 'granulated sugar': 441,\n",
       " 'mascarpone': 442,\n",
       " 'rum': 443,\n",
       " 'semisweet chocolate': 444,\n",
       " 'whole milk ricotta cheese': 445,\n",
       " 'baby spinach leaves': 446,\n",
       " 'chopped garlic': 447,\n",
       " 'large shrimp': 448,\n",
       " 'barley': 449,\n",
       " 'cooked ham': 450,\n",
       " 'grated nutmeg': 451,\n",
       " 'starchy potatoes': 452,\n",
       " 'sirloin tip roast': 453,\n",
       " 'steak': 454,\n",
       " 'vegetable shortening': 455,\n",
       " 'caul fat': 456,\n",
       " 'finely chopped fresh parsley': 457,\n",
       " 'vinegar': 458,\n",
       " 'heavy whipping cream': 459,\n",
       " 'instant espresso powder': 460,\n",
       " 'kahlúa': 461,\n",
       " 'whole milk': 462,\n",
       " 'epazote': 463,\n",
       " 'hominy': 464,\n",
       " 'oregano': 465,\n",
       " 'pepitas': 466,\n",
       " 'radishes': 467,\n",
       " 'tomatillos': 468,\n",
       " 'white onion': 469,\n",
       " 'catfish fillets': 470,\n",
       " 'basmati rice': 471,\n",
       " 'cauliflower': 472,\n",
       " 'cumin': 473,\n",
       " 'blood orange': 474,\n",
       " 'low salt chicken broth': 475,\n",
       " 'white wine vinegar': 476,\n",
       " 'chopped green bell pepper': 477,\n",
       " 'english muffins, split and toasted': 478,\n",
       " 'shredded carrots': 479,\n",
       " 'tomato sauce': 480,\n",
       " 'vegetable oil cooking spray': 481,\n",
       " 'prawns': 482,\n",
       " 'rice flour': 483,\n",
       " 'seasoning salt': 484,\n",
       " 'evaporated milk': 485,\n",
       " 'lasagna noodles': 486,\n",
       " 'ranch dressing': 487,\n",
       " 'boneless chop pork': 488,\n",
       " 'minced garlic': 489,\n",
       " 'red wine vinegar': 490,\n",
       " 'chile paste': 491,\n",
       " 'dark sesame oil': 492,\n",
       " 'lower sodium soy sauce': 493,\n",
       " 'pearl barley': 494,\n",
       " 'raisins': 495,\n",
       " 'slivered almonds': 496,\n",
       " 'chocolate bars': 497,\n",
       " 'cinnamon graham crackers': 498,\n",
       " 'marshmallows': 499,\n",
       " 'chopped celery': 500,\n",
       " 'cod': 501,\n",
       " 'dry bread crumbs': 502,\n",
       " 'minced onion': 503,\n",
       " 'mustard powder': 504,\n",
       " 'brewed tea': 505,\n",
       " 'candied orange peel': 506,\n",
       " 'dark brown sugar': 507,\n",
       " 'dried currants': 508,\n",
       " 'golden raisins': 509,\n",
       " 'grated lemon zest': 510,\n",
       " 'mace': 511,\n",
       " 'margarine': 512,\n",
       " 'rum extract': 513,\n",
       " 'baby bok choy': 514,\n",
       " 'black bean sauce': 515,\n",
       " 'noodles': 516,\n",
       " 'red potato': 517,\n",
       " 'chinese rice wine': 518,\n",
       " 'black beans': 519,\n",
       " 'frozen corn': 520,\n",
       " 'quinoa': 521,\n",
       " 'vegetable broth': 522,\n",
       " 'yellow bell pepper': 523,\n",
       " 'duck': 524,\n",
       " 'orange': 525,\n",
       " 'dried mint flakes': 526,\n",
       " 'feta cheese': 527,\n",
       " 'ground lamb': 528,\n",
       " 'penne rigate': 529,\n",
       " 'ras el hanout': 530,\n",
       " '2% reduced-fat milk': 531,\n",
       " 'large egg whites': 532,\n",
       " 'chicken leg quarters': 533,\n",
       " 'cucumber': 534,\n",
       " 'long-grain rice': 535,\n",
       " 'napa cabbage leaves': 536,\n",
       " 'baby potatoes': 537,\n",
       " 'crusty bread': 538,\n",
       " 'smoked streaky bacon': 539,\n",
       " 'ground allspice': 540,\n",
       " 'hibiscus': 541,\n",
       " 'piloncillo': 542,\n",
       " 'fresh oregano': 543,\n",
       " 'chocolate covered coffee beans': 544,\n",
       " 'chocolate morsels': 545,\n",
       " 'cream sweeten whip': 546,\n",
       " 'instant espresso granules': 547,\n",
       " 'pound cake': 548,\n",
       " 'unflavored gelatin': 549,\n",
       " 'arborio rice': 550,\n",
       " 'asparagus spears': 551,\n",
       " 'baby carrots': 552,\n",
       " 'fresh basil leaves': 553,\n",
       " 'frozen peas': 554,\n",
       " 'pinenuts': 555,\n",
       " 'yellow crookneck squash': 556,\n",
       " 'zucchini': 557,\n",
       " 'chipotles in adobo': 558,\n",
       " 'cilantro leaves': 559,\n",
       " 'instant white rice': 560,\n",
       " 'lime zest': 561,\n",
       " 'red beans': 562,\n",
       " 'skinless chicken thighs': 563,\n",
       " 'Mexican cheese blend': 564,\n",
       " 'chunky salsa': 565,\n",
       " 'condensed cream of chicken soup': 566,\n",
       " 'condensed cream of mushroom soup': 567,\n",
       " 'lean ground beef': 568,\n",
       " 'taco seasoning mix': 569,\n",
       " 'chorizo spanish': 570,\n",
       " 'dark rum': 571,\n",
       " 'pineapple juice': 572,\n",
       " 'daikon': 573,\n",
       " 'goji berries': 574,\n",
       " 'oysters': 575,\n",
       " 'pork ribs': 576,\n",
       " 'salsa': 577,\n",
       " 'demerara sugar': 578,\n",
       " 'egg whites': 579,\n",
       " 'frozen pastry puff sheets': 580,\n",
       " 'fruit': 581,\n",
       " 'mixed spice': 582,\n",
       " 'brown mustard seeds': 583,\n",
       " 'chili oil': 584,\n",
       " 'parsnips': 585,\n",
       " 'basil leaves': 586,\n",
       " 'chicken tenderloin': 587,\n",
       " 'chili flakes': 588,\n",
       " 'frozen broad beans': 589,\n",
       " 'kecap manis': 590,\n",
       " 'thai green curry paste': 591,\n",
       " 'unsalted cashews': 592,\n",
       " 'condensed cheddar cheese soup': 593,\n",
       " 'creole style seasoning': 594,\n",
       " 'grated jack cheese': 595,\n",
       " 'refried beans': 596,\n",
       " 'egg yolks': 597,\n",
       " 'asparagus': 598,\n",
       " 'cheese tortellini': 599,\n",
       " 'cherry tomatoes': 600,\n",
       " 'fresh leav spinach': 601,\n",
       " 'navy beans': 602,\n",
       " 'granny smith apples': 603,\n",
       " 'nonfat milk': 604,\n",
       " 'lard': 605,\n",
       " 'fresh fava bean': 606,\n",
       " 'italian sausage': 607,\n",
       " 'pasta sheets': 608,\n",
       " 'pecorino romano cheese': 609,\n",
       " 'Flora Cuisine': 610,\n",
       " 'curry paste': 611,\n",
       " 'low-fat natural yogurt': 612,\n",
       " 'spinach leaves': 613,\n",
       " 'bone-in chicken breasts': 614,\n",
       " 'dried chile peppers': 615,\n",
       " 'white hominy': 616,\n",
       " 'chocolate instant pudding': 617,\n",
       " 'frozen whipped topping': 618,\n",
       " 'graham cracker crumbs': 619,\n",
       " 'instant butterscotch pudding mix': 620,\n",
       " 'fennel seeds': 621,\n",
       " 'kalamata': 622,\n",
       " 'celery ribs': 623,\n",
       " 'ham': 624,\n",
       " 'kielbasa': 625,\n",
       " 'capsicum': 626,\n",
       " 'green mango': 627,\n",
       " 'moong dal': 628,\n",
       " 'dried shiitake mushrooms': 629,\n",
       " 'gari': 630,\n",
       " 'short-grain rice': 631,\n",
       " 'toasted sesame oil': 632,\n",
       " 'tofu': 633,\n",
       " 'Turkish bay leaves': 634,\n",
       " 'dried chickpeas': 635,\n",
       " 'semolina': 636,\n",
       " 'vine ripened tomatoes': 637,\n",
       " 'angel food cake': 638,\n",
       " 'bittersweet chocolate': 639,\n",
       " 'fat free yogurt': 640,\n",
       " 'instant espresso': 641,\n",
       " 'skim milk': 642,\n",
       " 'unsweetened cocoa powder': 643,\n",
       " 'organic chicken': 644,\n",
       " 'anise': 645,\n",
       " 'calimyrna figs': 646,\n",
       " 'clove': 647,\n",
       " 'orange blossom honey': 648,\n",
       " 'plain whole-milk yogurt': 649,\n",
       " 'zinfandel': 650,\n",
       " 'beef stock': 651,\n",
       " 'chuck roast': 652,\n",
       " 'reduced sodium soy sauce': 653,\n",
       " 'Corn Flakes Cereal': 654,\n",
       " 'coleslaw': 655,\n",
       " 'garlic salt': 656,\n",
       " 'asian pear': 657,\n",
       " 'chili paste': 658,\n",
       " 'kiwi': 659,\n",
       " 'red pepper flakes': 660,\n",
       " 'chees fresco queso': 661,\n",
       " 'swiss chard': 662,\n",
       " 'veal cutlets': 663,\n",
       " 'pasta': 664,\n",
       " 'extra-lean ground beef': 665,\n",
       " 'wakame': 666,\n",
       " 'nonstick spray': 667,\n",
       " 'peeled fresh ginger': 668,\n",
       " 'scallion greens': 669,\n",
       " 'wonton wrappers': 670,\n",
       " 'anchovy fillets': 671,\n",
       " 'chicken bones': 672,\n",
       " 'chopped fresh thyme': 673,\n",
       " 'crusty rolls': 674,\n",
       " 'green bell pepper, slice': 675,\n",
       " 'almond flour': 676,\n",
       " 'coconut aminos': 677,\n",
       " 'coconut oil': 678,\n",
       " 'boneless skinless chicken breast halves': 679,\n",
       " 'clams': 680,\n",
       " 'green peas': 681,\n",
       " 'seasoned rice wine vinegar': 682,\n",
       " 'snow peas': 683,\n",
       " 'artichoke hearts': 684,\n",
       " 'hard-boiled egg': 685,\n",
       " 'coriander powder': 686,\n",
       " 'maida flour': 687,\n",
       " 'stuffing': 688,\n",
       " 'pita bread rounds': 689,\n",
       " 'grated Gruyère cheese': 690,\n",
       " 'button mushrooms': 691,\n",
       " 'red miso': 692,\n",
       " 'silken tofu': 693,\n",
       " 'udon': 694,\n",
       " 'pickled jalapenos': 695,\n",
       " 'shredded Monterey Jack cheese': 696,\n",
       " 'whole peeled tomatoes': 697,\n",
       " 'broccoli rabe': 698,\n",
       " 'fontina': 699,\n",
       " 'parmigiano reggiano cheese': 700,\n",
       " 'peppercorns': 701,\n",
       " 'thai chile': 702,\n",
       " 'cream of chicken soup': 703,\n",
       " 'frozen peas and carrots': 704,\n",
       " 'low sodium chicken broth': 705,\n",
       " 'refrigerated piecrusts': 706,\n",
       " 'frozen chopped spinach': 707,\n",
       " 'manicotti shells': 708,\n",
       " 'olive oil flavored cooking spray': 709,\n",
       " 'part-skim ricotta cheese': 710,\n",
       " 'pasta sauce': 711,\n",
       " 'chicken bouillon': 712,\n",
       " 'fettucine': 713,\n",
       " 'parmesan cheese': 714,\n",
       " 'chili paste with garlic': 715,\n",
       " 'fresh veget': 716,\n",
       " 'condiments': 717,\n",
       " 'guacamole': 718,\n",
       " 'pork shoulder roast': 719,\n",
       " 'salsa verde': 720,\n",
       " 'taco sauce': 721,\n",
       " 'tortillas': 722,\n",
       " 'almonds': 723,\n",
       " 'pistachios': 724,\n",
       " 'rose petals': 725,\n",
       " 'chicken wings': 726,\n",
       " 'adobo sauce': 727,\n",
       " 'ancho powder': 728,\n",
       " 'chicken': 729,\n",
       " 'chiles': 730,\n",
       " 'chipotle chile powder': 731,\n",
       " 'drumstick': 732,\n",
       " 'green chile': 733,\n",
       " 'peeled tomatoes': 734,\n",
       " 'Old El Paso Flour Tortillas': 735,\n",
       " 'beef rib short': 736,\n",
       " 'beer': 737,\n",
       " 'chili sauce': 738,\n",
       " 'cranberry sauce': 739,\n",
       " 'dashi': 740,\n",
       " 'miso paste': 741,\n",
       " 'seaweed': 742,\n",
       " 'fresh dill': 743,\n",
       " 'kefalotyri': 744,\n",
       " 'myzithra': 745,\n",
       " 'phyllo': 746,\n",
       " 'yoghurt': 747,\n",
       " 'cracker crumbs': 748,\n",
       " 'okra': 749,\n",
       " 'Philadelphia Cream Cheese': 750,\n",
       " 'crab meat': 751,\n",
       " 'savoy cabbage': 752,\n",
       " 'boneless chicken thighs': 753,\n",
       " 'potato starch': 754,\n",
       " 'cake flour': 755,\n",
       " 'cream of tartar': 756,\n",
       " 'ricotta cheese': 757,\n",
       " 'semi-sweet chocolate morsels': 758,\n",
       " 'serrano': 759,\n",
       " 'hazelnut oil': 760,\n",
       " 'hazelnuts': 761,\n",
       " 'steel-cut oats': 762,\n",
       " 'sweet cherries': 763,\n",
       " 'fire roasted diced tomatoes': 764,\n",
       " 'red kidnei beans, rins and drain': 765,\n",
       " 'Japanese soy sauce': 766,\n",
       " 'black sesame seeds': 767,\n",
       " 'fresh salmon': 768,\n",
       " 'wasabi paste': 769,\n",
       " 'cremini mushrooms': 770,\n",
       " 'dried porcini mushrooms': 771,\n",
       " 'dry red wine': 772,\n",
       " 'fat free less sodium beef broth': 773,\n",
       " 'hot water': 774,\n",
       " 'celery salt': 775,\n",
       " 'creole mustard': 776,\n",
       " 'prepared horseradish': 777,\n",
       " 'shrimp and crab boil seasoning': 778,\n",
       " 'apples': 779,\n",
       " 'butternut squash': 780,\n",
       " 'country ham': 781,\n",
       " 'turnip greens': 782,\n",
       " 'frozen edamame beans': 783,\n",
       " 'whole kernel corn, drain': 784,\n",
       " 'fresh coriander': 785,\n",
       " 'instant yeast': 786,\n",
       " 'kalonji': 787,\n",
       " 'salted butter': 788,\n",
       " 'strong white bread flour': 789,\n",
       " 'sunflower oil': 790,\n",
       " 'cooked white rice': 791,\n",
       " 'mixed mushrooms': 792,\n",
       " 'vegetables': 793,\n",
       " 'wood ear mushrooms': 794,\n",
       " 'bell pepper': 795,\n",
       " 'boneless skinless chicken breasts': 796,\n",
       " 'shredded cheese': 797,\n",
       " 'taco seasoning': 798,\n",
       " 'baking apples': 799,\n",
       " 'cane sugar': 800,\n",
       " 'eau de vie': 801,\n",
       " 'leaves': 802,\n",
       " 'salt and ground black pepper': 803,\n",
       " 'chopped green chilies': 804,\n",
       " 'sliced black olives': 805,\n",
       " 'Guinness Lager': 806,\n",
       " 'dried rosemary': 807,\n",
       " 'lean steak': 808,\n",
       " 'rosemary leaves': 809,\n",
       " 'chinese cabbage': 810,\n",
       " 'dipping sauces': 811,\n",
       " 'lean ground pork': 812,\n",
       " 'water chestnuts, drained and chopped': 813,\n",
       " 'cheese slices': 814,\n",
       " 'chorizo': 815,\n",
       " 'french bread': 816,\n",
       " 'pico de gallo': 817,\n",
       " 'dried dillweed': 818,\n",
       " 'lamb': 819,\n",
       " 'plain yogurt': 820,\n",
       " 'red wine': 821,\n",
       " 'kale': 822,\n",
       " 'Mexican beer': 823,\n",
       " 'boneless beef short ribs': 824,\n",
       " 'guajillo': 825,\n",
       " 'fresh spinach': 826,\n",
       " 'saffron threads': 827,\n",
       " 'banana squash': 828,\n",
       " 'cannellini beans': 829,\n",
       " 'shortening': 830,\n",
       " 'Franks Hot Sauce': 831,\n",
       " 'light pancake syrup': 832,\n",
       " 'pears': 833,\n",
       " 'puff pastry': 834,\n",
       " 'apple cider vinegar': 835,\n",
       " 'bone in chicken thighs': 836,\n",
       " 'fresh bay leaves': 837,\n",
       " 'mushroom powder': 838,\n",
       " 'cilantro': 839,\n",
       " 'skinless chicken breasts': 840,\n",
       " 'fava beans': 841,\n",
       " 'fresh tarragon': 842,\n",
       " 'light sour cream': 843,\n",
       " 'kidney beans': 844,\n",
       " 'orzo pasta': 845,\n",
       " 'dri leav thyme': 846,\n",
       " 'jumbo shrimp': 847,\n",
       " 'sticky rice': 848,\n",
       " 'wasabi': 849,\n",
       " 'white sesame seeds': 850,\n",
       " 'chopped almonds': 851,\n",
       " 'baby arugula': 852,\n",
       " 'margarita mix': 853,\n",
       " 'tequila': 854,\n",
       " 'corn syrup': 855,\n",
       " 'crust': 856,\n",
       " 'grits': 857,\n",
       " 'pecan halves': 858,\n",
       " 'active dry yeast': 859,\n",
       " 'blackberries': 860,\n",
       " 'fresh mint': 861,\n",
       " 'luke warm water': 862,\n",
       " 'superfine sugar': 863,\n",
       " 'whiskey': 864,\n",
       " 'chicken drumsticks': 865,\n",
       " 'jamaican jerk season': 866,\n",
       " 'pineapple preserves': 867,\n",
       " 'goat cheese': 868,\n",
       " 'pitas': 869,\n",
       " 'gingerroot': 870,\n",
       " 'hot bean paste': 871,\n",
       " 'rib eye steaks': 872,\n",
       " 'cream': 873,\n",
       " 'diced bell pepper': 874,\n",
       " 'medjool date': 875,\n",
       " 'smoked paprika': 876,\n",
       " 'reduced fat milk': 877,\n",
       " 'smoked trout': 878,\n",
       " 'garlic puree': 879,\n",
       " 'green cardamom pods': 880,\n",
       " 'tomato purée': 881,\n",
       " 'chile sauce': 882,\n",
       " 'crema mexicana': 883,\n",
       " 'pickled jalapeno peppers': 884,\n",
       " 'queso fresco': 885,\n",
       " 'romaine lettuce leaves': 886,\n",
       " 'Boston lettuce': 887,\n",
       " 'peanut butter': 888,\n",
       " 'persian cucumber': 889,\n",
       " 'rice paper': 890,\n",
       " 'Korean chile flakes': 891,\n",
       " 'boneless chicken breast': 892,\n",
       " 'cashew nuts': 893,\n",
       " 'cinnamon': 894,\n",
       " 'ginger paste': 895,\n",
       " 'kashmiri chile': 896,\n",
       " 'kasuri methi': 897,\n",
       " 'mustard oil': 898,\n",
       " 'red chile powder': 899,\n",
       " 'tomato ketchup': 900,\n",
       " 'pecan pie': 901,\n",
       " 'corn kernels': 902,\n",
       " 'grouper': 903,\n",
       " 'tostada shells': 904,\n",
       " 'ricotta salata': 905,\n",
       " 'grana padano': 906,\n",
       " 'pecorino cheese': 907,\n",
       " 'bamboo shoots': 908,\n",
       " 'corn': 909,\n",
       " 'galangal': 910,\n",
       " 'green curry paste': 911,\n",
       " 'kaffir lime leaves': 912,\n",
       " 'soba noodles': 913,\n",
       " 'bourbon whiskey': 914,\n",
       " 'chopped nuts': 915,\n",
       " 'ketchup': 916,\n",
       " 'rhubarb': 917,\n",
       " 'liquid': 918,\n",
       " 'safflower oil': 919,\n",
       " 'store bought low sodium chicken stock': 920,\n",
       " 'cardamom': 921,\n",
       " 'jeera': 922,\n",
       " 'crema': 923,\n",
       " 'salmon steaks': 924,\n",
       " 'jam': 925,\n",
       " 'free range egg': 926,\n",
       " 'karashi': 927,\n",
       " 'spring onions': 928,\n",
       " 'diced celery': 929,\n",
       " 'jicama': 930,\n",
       " 'water chestnuts': 931,\n",
       " 'dinner rolls': 932,\n",
       " 'shredded sharp cheddar cheese': 933,\n",
       " 'cactus pad': 934,\n",
       " 'boiling potatoes': 935,\n",
       " 'cauliflower flowerets': 936,\n",
       " 'fenugreek seeds': 937,\n",
       " 'baby spinach': 938,\n",
       " 'tuna steaks': 939,\n",
       " 'spices': 940,\n",
       " 'octopuses': 941,\n",
       " 'small red potato': 942,\n",
       " 'smoked gouda': 943,\n",
       " 'vidalia onion': 944,\n",
       " 'fat-free refried beans': 945,\n",
       " 'fresh lime': 946,\n",
       " 'low-fat milk': 947,\n",
       " 'tuna': 948,\n",
       " 'ground white pepper': 949,\n",
       " 'Bertolli® Classico Olive Oil': 950,\n",
       " 'bacon, crisp-cooked and crumbled': 951,\n",
       " 'bertolli vineyard premium collect marinara with burgundi wine sauc': 952,\n",
       " 'bread crumb fresh': 953,\n",
       " 'margarita salt': 954,\n",
       " '(    oz.) tomato sauce': 955,\n",
       " 'beef': 956,\n",
       " 'ground veal': 957,\n",
       " 'italian seasoning mix': 958,\n",
       " 'solid pack pumpkin': 959,\n",
       " 'fresh thyme leaves': 960,\n",
       " 'grapeseed oil': 961,\n",
       " 'organic sugar': 962,\n",
       " 'whole grain thin spaghetti': 963,\n",
       " 'dried cherry': 964,\n",
       " 'straw mushrooms': 965,\n",
       " 'haricots verts': 966,\n",
       " 'vidalia': 967,\n",
       " 'wax beans': 968,\n",
       " 'prosciutto': 969,\n",
       " 'romano cheese': 970,\n",
       " 'cooked shrimp': 971,\n",
       " 'crabmeat': 972,\n",
       " 'blueberri preserv': 973,\n",
       " 'chipotle peppers': 974,\n",
       " 'coffee beans': 975,\n",
       " 'filet': 976,\n",
       " 'green peppercorns': 977,\n",
       " 'pork loin chops': 978,\n",
       " 'strawberries': 979,\n",
       " 'thyme leaves': 980,\n",
       " 'vegan margarine': 981,\n",
       " 'pork shoulder': 982,\n",
       " 'parsley leaves': 983,\n",
       " 'fresh raspberries': 984,\n",
       " 'frozen whole kernel corn': 985,\n",
       " 'torn romain lettuc leav': 986,\n",
       " 'wish bone guacamol ranch dress': 987,\n",
       " 'colby cheese': 988,\n",
       " 'half & half': 989,\n",
       " 'mexican chorizo': 990,\n",
       " 'russet potatoes': 991,\n",
       " 'canned low sodium chicken broth': 992,\n",
       " 'dry vermouth': 993,\n",
       " 'roasted salted cashews': 994,\n",
       " 'fresh lemon': 995,\n",
       " 'paneer cheese': 996,\n",
       " 'toasted sesame seeds': 997,\n",
       " 'Thai fish sauce': 998,\n",
       " 'english cucumber': 999,\n",
       " ...}"
      ]
     },
     "execution_count": 10,
     "metadata": {},
     "output_type": "execute_result"
    }
   ],
   "source": [
    "dictionary.token2id"
   ]
  },
  {
   "cell_type": "code",
   "execution_count": 15,
   "metadata": {},
   "outputs": [],
   "source": [
    "ingridients = [\"salt\", \"sugar\", \"water\", \"mushrooms\", \"chicken\", \"eggs\"]"
   ]
  },
  {
   "cell_type": "code",
   "execution_count": 20,
   "metadata": {},
   "outputs": [],
   "source": [
    "counts = []\n",
    "for ingridient in ingridients:\n",
    "    string_repr = '\"' + str(dictionary.token2id[ingridient]) + '\"'\n",
    "    counter = 0\n",
    "    for top in top_ingredients_in_topics:\n",
    "        if string_repr in top[1]:\n",
    "            counter += 1\n",
    "    counts.append(counter)"
   ]
  },
  {
   "cell_type": "code",
   "execution_count": 21,
   "metadata": {},
   "outputs": [
    {
     "data": {
      "text/plain": [
       "[24, 9, 9, 1, 0, 2]"
      ]
     },
     "execution_count": 21,
     "metadata": {},
     "output_type": "execute_result"
    }
   ],
   "source": [
    "counts"
   ]
  },
  {
   "cell_type": "code",
   "execution_count": 22,
   "metadata": {},
   "outputs": [],
   "source": [
    "def save_answers1(c_salt, c_sugar, c_water, c_mushrooms, c_chicken, c_eggs):\n",
    "    with open(\"cooking_LDA_pa_task1.txt\", \"w\") as fout:\n",
    "        fout.write(\" \".join([str(el) for el in [c_salt, c_sugar, c_water, c_mushrooms, c_chicken, c_eggs]]))"
   ]
  },
  {
   "cell_type": "code",
   "execution_count": 23,
   "metadata": {},
   "outputs": [],
   "source": [
    "save_answers1(24,9,9,1,0,2)"
   ]
  },
  {
   "cell_type": "markdown",
   "metadata": {},
   "source": [
    "### Фильтрация словаря\n",
    "В топах тем гораздо чаще встречаются первые три рассмотренных ингредиента, чем последние три. При этом наличие в рецепте курицы, яиц и грибов яснее дает понять, что мы будем готовить, чем наличие соли, сахара и воды. Таким образом, даже в рецептах есть слова, часто встречающиеся в текстах и не несущие смысловой нагрузки, и поэтому их не желательно видеть в темах. Наиболее простой прием борьбы с такими фоновыми элементами — фильтрация словаря по частоте. Обычно словарь фильтруют с двух сторон: убирают очень редкие слова (в целях экономии памяти) и очень частые слова (в целях повышения интерпретируемости тем). Мы уберем только частые слова."
   ]
  },
  {
   "cell_type": "code",
   "execution_count": 24,
   "metadata": {},
   "outputs": [],
   "source": [
    "import copy\n",
    "dictionary2 = copy.deepcopy(dictionary)"
   ]
  },
  {
   "cell_type": "markdown",
   "metadata": {},
   "source": [
    "__Задание 2.__ У объекта dictionary2 есть переменная *dfs* — это словарь, ключами которого являются id токена, а элементами — число раз, сколько слово встретилось во всей коллекции. Сохраните в отдельный список ингредиенты, которые встретились в коллекции больше 4000 раз. Вызовите метод словаря *filter_tokens*, подав в качестве первого аргумента полученный список популярных ингредиентов. Вычислите две величины: dict_size_before и dict_size_after — размер словаря до и после фильтрации.\n",
    "\n",
    "Затем, используя новый словарь, создайте новый корпус документов, corpus2, по аналогии с тем, как это сделано в начале ноутбука. Вычислите две величины: corpus_size_before и corpus_size_after — суммарное количество ингредиентов в корпусе (для каждого документа вычислите число различных ингредиентов в нем и просуммируйте по всем документам) до и после фильтрации.\n",
    "\n",
    "Передайте величины dict_size_before, dict_size_after, corpus_size_before, corpus_size_after в функцию save_answers2 и загрузите сгенерированный файл в форму."
   ]
  },
  {
   "cell_type": "code",
   "execution_count": 32,
   "metadata": {},
   "outputs": [],
   "source": [
    "id2token = {v:k for k, v in dictionary2.token2id.items()}"
   ]
  },
  {
   "cell_type": "code",
   "execution_count": 36,
   "metadata": {},
   "outputs": [],
   "source": [
    "to_filter = [key for key in dictionary2.dfs.keys() if dictionary2.dfs[key] > 4000]"
   ]
  },
  {
   "cell_type": "code",
   "execution_count": 46,
   "metadata": {},
   "outputs": [
    {
     "data": {
      "text/plain": [
       "[3, 5, 15, 11, 18, 20, 29, 44, 52, 59, 104, 114]"
      ]
     },
     "execution_count": 46,
     "metadata": {},
     "output_type": "execute_result"
    }
   ],
   "source": [
    "to_filter"
   ]
  },
  {
   "cell_type": "code",
   "execution_count": 37,
   "metadata": {},
   "outputs": [],
   "source": [
    "dict_size_before = len(dictionary2)"
   ]
  },
  {
   "cell_type": "code",
   "execution_count": 38,
   "metadata": {},
   "outputs": [
    {
     "data": {
      "text/plain": [
       "6714"
      ]
     },
     "execution_count": 38,
     "metadata": {},
     "output_type": "execute_result"
    }
   ],
   "source": [
    "dict_size_before"
   ]
  },
  {
   "cell_type": "code",
   "execution_count": 39,
   "metadata": {},
   "outputs": [],
   "source": [
    "filtered_dictionary2 = dictionary2.filter_tokens(to_filter)"
   ]
  },
  {
   "cell_type": "code",
   "execution_count": 48,
   "metadata": {},
   "outputs": [],
   "source": [
    "dict_size_after = len(dictionary2)"
   ]
  },
  {
   "cell_type": "code",
   "execution_count": 49,
   "metadata": {},
   "outputs": [
    {
     "data": {
      "text/plain": [
       "6702"
      ]
     },
     "execution_count": 49,
     "metadata": {},
     "output_type": "execute_result"
    }
   ],
   "source": [
    "dict_size_after"
   ]
  },
  {
   "cell_type": "code",
   "execution_count": 55,
   "metadata": {},
   "outputs": [],
   "source": [
    "corpus2 = [dictionary2.doc2bow(text) for text in texts]  # составляем корпус документов"
   ]
  },
  {
   "cell_type": "code",
   "execution_count": 57,
   "metadata": {},
   "outputs": [
    {
     "data": {
      "text/plain": [
       "[(0, 1), (1, 1), (2, 1), (3, 1), (4, 1), (5, 1), (6, 1)]"
      ]
     },
     "execution_count": 57,
     "metadata": {},
     "output_type": "execute_result"
    }
   ],
   "source": [
    "corpus2[0]"
   ]
  },
  {
   "cell_type": "code",
   "execution_count": 52,
   "metadata": {},
   "outputs": [],
   "source": [
    "def find_corp_size(corpus):\n",
    "    length = 0\n",
    "    for doc in corpus:\n",
    "        length += len(doc)\n",
    "    return length"
   ]
  },
  {
   "cell_type": "code",
   "execution_count": 58,
   "metadata": {},
   "outputs": [],
   "source": [
    "corpus_size_before = find_corp_size(corpus)\n",
    "corpus_size_after = find_corp_size(corpus2)"
   ]
  },
  {
   "cell_type": "code",
   "execution_count": 59,
   "metadata": {},
   "outputs": [
    {
     "name": "stdout",
     "output_type": "stream",
     "text": [
      "428249\n",
      "343665\n"
     ]
    }
   ],
   "source": [
    "print(corpus_size_before)\n",
    "print(corpus_size_after)"
   ]
  },
  {
   "cell_type": "code",
   "execution_count": 60,
   "metadata": {},
   "outputs": [],
   "source": [
    "def save_answers2(dict_size_before, dict_size_after, corpus_size_before, corpus_size_after):\n",
    "    with open(\"cooking_LDA_pa_task2.txt\", \"w\") as fout:\n",
    "        fout.write(\" \".join([str(el) for el in [dict_size_before, dict_size_after, corpus_size_before, corpus_size_after]]))"
   ]
  },
  {
   "cell_type": "code",
   "execution_count": 61,
   "metadata": {},
   "outputs": [],
   "source": [
    "save_answers2(dict_size_before, dict_size_after, corpus_size_before, corpus_size_after)"
   ]
  },
  {
   "cell_type": "markdown",
   "metadata": {},
   "source": [
    "### Сравнение когерентностей\n",
    "__Задание 3.__ Постройте еще одну модель по корпусу corpus2 и словарю dictionary2, остальные параметры оставьте такими же, как при первом построении модели. Сохраните новую модель в другую переменную (не перезаписывайте предыдущую модель). Не забудьте про фиксирование seed!\n",
    "\n",
    "Затем воспользуйтесь методом *top_topics* модели, чтобы вычислить ее когерентность. Передайте в качестве аргумента соответствующий модели корпус. Метод вернет список кортежей (топ токенов, когерентность), отсортированных по убыванию последней. Вычислите среднюю по всем темам когерентность для каждой из двух моделей и передайте в функцию save_answers3. "
   ]
  },
  {
   "cell_type": "code",
   "execution_count": 62,
   "metadata": {},
   "outputs": [
    {
     "name": "stdout",
     "output_type": "stream",
     "text": [
      "CPU times: user 6 µs, sys: 0 ns, total: 6 µs\n",
      "Wall time: 12.9 µs\n"
     ]
    }
   ],
   "source": [
    "np.random.seed(76543)\n",
    "%time\n",
    "ldamodel2 = models.ldamodel.LdaModel(corpus2, num_topics=40, passes=5)"
   ]
  },
  {
   "cell_type": "code",
   "execution_count": 70,
   "metadata": {},
   "outputs": [],
   "source": [
    "top_2 = ldamodel2.top_topics(corpus2,dictionary=dictionary2)\n",
    "top_1 = ldamodel.top_topics(corpus,dictionary=dictionary)"
   ]
  },
  {
   "cell_type": "code",
   "execution_count": 75,
   "metadata": {},
   "outputs": [
    {
     "data": {
      "text/plain": [
       "-2.6650788856772643"
      ]
     },
     "execution_count": 75,
     "metadata": {},
     "output_type": "execute_result"
    }
   ],
   "source": [
    "top_2[1][1]"
   ]
  },
  {
   "cell_type": "code",
   "execution_count": 76,
   "metadata": {},
   "outputs": [],
   "source": [
    "def get_mean_coherence(top):\n",
    "    return np.mean([topic[1] for topic in top])"
   ]
  },
  {
   "cell_type": "code",
   "execution_count": 77,
   "metadata": {},
   "outputs": [],
   "source": [
    "coherence = get_mean_coherence(top_1)\n",
    "coherence2 = get_mean_coherence(top_2)"
   ]
  },
  {
   "cell_type": "code",
   "execution_count": 78,
   "metadata": {},
   "outputs": [
    {
     "name": "stdout",
     "output_type": "stream",
     "text": [
      "-6.364392784796212\n",
      "-8.596629015979598\n"
     ]
    }
   ],
   "source": [
    "print(coherence)\n",
    "print(coherence2)"
   ]
  },
  {
   "cell_type": "code",
   "execution_count": 79,
   "metadata": {},
   "outputs": [],
   "source": [
    "def save_answers3(coherence, coherence2):\n",
    "    with open(\"cooking_LDA_pa_task3.txt\", \"w\") as fout:\n",
    "        fout.write(\" \".join([\"%3f\"%el for el in [coherence, coherence2]]))"
   ]
  },
  {
   "cell_type": "code",
   "execution_count": 80,
   "metadata": {},
   "outputs": [],
   "source": [
    "save_answers3(coherence, coherence2)"
   ]
  },
  {
   "cell_type": "markdown",
   "metadata": {},
   "source": [
    "Считается, что когерентность хорошо соотносится с человеческими оценками интерпретируемости тем. Поэтому на больших текстовых коллекциях когерентность обычно повышается, если убрать фоновую лексику. Однако в нашем случае этого не произошло. "
   ]
  },
  {
   "cell_type": "markdown",
   "metadata": {},
   "source": [
    "### Изучение влияния гиперпараметра alpha"
   ]
  },
  {
   "cell_type": "markdown",
   "metadata": {},
   "source": [
    "В этом разделе мы будем работать со второй моделью, то есть той, которая построена по сокращенному корпусу. \n",
    "\n",
    "Пока что мы посмотрели только на матрицу темы-слова, теперь давайте посмотрим на матрицу темы-документы. Выведите темы для нулевого (или любого другого) документа из корпуса, воспользовавшись методом *get_document_topics* второй модели:"
   ]
  },
  {
   "cell_type": "code",
   "execution_count": 83,
   "metadata": {},
   "outputs": [
    {
     "data": {
      "text/plain": [
       "[(4, 0.20249844), (25, 0.10249704), (31, 0.494108), (33, 0.110893145)]"
      ]
     },
     "execution_count": 83,
     "metadata": {},
     "output_type": "execute_result"
    }
   ],
   "source": [
    "ldamodel2.get_document_topics(corpus[0])"
   ]
  },
  {
   "cell_type": "markdown",
   "metadata": {},
   "source": [
    "Также выведите содержимое переменной *.alpha* второй модели:"
   ]
  },
  {
   "cell_type": "code",
   "execution_count": 84,
   "metadata": {},
   "outputs": [
    {
     "data": {
      "text/plain": [
       "array([0.025, 0.025, 0.025, 0.025, 0.025, 0.025, 0.025, 0.025, 0.025,\n",
       "       0.025, 0.025, 0.025, 0.025, 0.025, 0.025, 0.025, 0.025, 0.025,\n",
       "       0.025, 0.025, 0.025, 0.025, 0.025, 0.025, 0.025, 0.025, 0.025,\n",
       "       0.025, 0.025, 0.025, 0.025, 0.025, 0.025, 0.025, 0.025, 0.025,\n",
       "       0.025, 0.025, 0.025, 0.025], dtype=float32)"
      ]
     },
     "execution_count": 84,
     "metadata": {},
     "output_type": "execute_result"
    }
   ],
   "source": [
    "ldamodel2.alpha"
   ]
  },
  {
   "cell_type": "markdown",
   "metadata": {},
   "source": [
    "У вас должно получиться, что документ характеризуется небольшим числом тем. Попробуем поменять гиперпараметр alpha, задающий априорное распределение Дирихле для распределений тем в документах."
   ]
  },
  {
   "cell_type": "markdown",
   "metadata": {},
   "source": [
    "__Задание 4.__ Обучите третью модель: используйте сокращенный корпус (corpus2 и dictionary2) и установите параметр __alpha=1__, passes=5. Не забудьте про фиксацию seed! Выведите темы новой модели для нулевого документа; должно получиться, что распределение над множеством тем практически равномерное. Чтобы убедиться в том, что во второй модели документы описываются гораздо более разреженными распределениями, чем в третьей, посчитайте суммарное количество элементов, __превосходящих 0.01__, в матрицах темы-документы обеих моделей. Другими словами, запросите темы  модели для каждого документа с параметром *minimum_probability=0.01* и просуммируйте число элементов в получаемых массивах. Передайте две суммы (сначала для модели с alpha по умолчанию, затем для модели в alpha=1) в функцию save_answers4."
   ]
  },
  {
   "cell_type": "code",
   "execution_count": 119,
   "metadata": {},
   "outputs": [],
   "source": [
    "np.random.seed(76543)\n",
    "ldamodel3 = models.ldamodel.LdaModel(corpus2, num_topics=40, alpha=1, passes=5)"
   ]
  },
  {
   "cell_type": "code",
   "execution_count": 120,
   "metadata": {},
   "outputs": [],
   "source": [
    "doc_top2 = ldamodel2.get_document_topics(corpus2, minimum_probability=0.01)\n",
    "doc_top3 = ldamodel3.get_document_topics(corpus2, minimum_probability=0.01)"
   ]
  },
  {
   "cell_type": "code",
   "execution_count": 121,
   "metadata": {},
   "outputs": [
    {
     "data": {
      "text/plain": [
       "[(19, 0.14640674),\n",
       " (25, 0.14642778),\n",
       " (33, 0.14643374),\n",
       " (35, 0.14643219),\n",
       " (37, 0.28929448)]"
      ]
     },
     "execution_count": 121,
     "metadata": {},
     "output_type": "execute_result"
    }
   ],
   "source": []
  },
  {
   "cell_type": "code",
   "execution_count": 90,
   "metadata": {},
   "outputs": [
    {
     "data": {
      "text/plain": [
       "array([[2.4895208e-02, 4.0664613e-06, 4.0664613e-06, ..., 4.0664613e-06,\n",
       "        4.0664613e-06, 4.0664613e-06],\n",
       "       [4.2503434e-06, 4.2503434e-06, 4.2503434e-06, ..., 4.2503434e-06,\n",
       "        4.2503434e-06, 4.2503434e-06],\n",
       "       [4.3806440e-06, 4.3806440e-06, 4.3806440e-06, ..., 4.3806440e-06,\n",
       "        4.3806440e-06, 4.3806440e-06],\n",
       "       ...,\n",
       "       [6.1592827e-06, 6.1592827e-06, 6.1592827e-06, ..., 6.1592827e-06,\n",
       "        6.1592827e-06, 6.1592827e-06],\n",
       "       [5.4848133e-06, 5.4848133e-06, 5.4848133e-06, ..., 5.4848133e-06,\n",
       "        5.4848133e-06, 5.4848133e-06],\n",
       "       [2.2236222e-06, 2.2236222e-06, 2.2236234e-06, ..., 2.2236222e-06,\n",
       "        2.2236222e-06, 2.2236222e-06]], dtype=float32)"
      ]
     },
     "execution_count": 90,
     "metadata": {},
     "output_type": "execute_result"
    }
   ],
   "source": [
    "ldamodel2.get_topics()"
   ]
  },
  {
   "cell_type": "code",
   "execution_count": 122,
   "metadata": {},
   "outputs": [],
   "source": [
    "def count_big_probabilities(doc_top):\n",
    "    counter = 0\n",
    "    for doc in doc_top:\n",
    "        counter += len(doc)\n",
    "    return counter"
   ]
  },
  {
   "cell_type": "code",
   "execution_count": 123,
   "metadata": {},
   "outputs": [],
   "source": [
    "count_model2 = count_big_probabilities(doc_top2)\n",
    "count_model3 = count_big_probabilities(doc_top3)"
   ]
  },
  {
   "cell_type": "code",
   "execution_count": 124,
   "metadata": {},
   "outputs": [
    {
     "name": "stdout",
     "output_type": "stream",
     "text": [
      "203680\n",
      "1590960\n"
     ]
    }
   ],
   "source": [
    "print(count_model2)\n",
    "print(count_model3)"
   ]
  },
  {
   "cell_type": "code",
   "execution_count": 125,
   "metadata": {},
   "outputs": [],
   "source": [
    "def save_answers4(count_model2, count_model3):\n",
    "    with open(\"cooking_LDA_pa_task4.txt\", \"w\") as fout:\n",
    "        fout.write(\" \".join([str(el) for el in [count_model2, count_model3]]))"
   ]
  },
  {
   "cell_type": "code",
   "execution_count": 126,
   "metadata": {},
   "outputs": [],
   "source": [
    "save_answers4(count_model2, count_model3)"
   ]
  },
  {
   "cell_type": "markdown",
   "metadata": {},
   "source": [
    "Таким образом, гиперпараметр __alpha__ влияет на разреженность распределений тем в документах. Аналогично гиперпараметр __eta__ влияет на разреженность распределений слов в темах."
   ]
  },
  {
   "cell_type": "markdown",
   "metadata": {},
   "source": [
    "### LDA как способ понижения размерности\n",
    "Иногда, распределения над темами, найденные с помощью LDA, добавляют в матрицу объекты-признаки как дополнительные, семантические, признаки, и это может улучшить качество решения задачи. Для простоты давайте просто обучим классификатор рецептов на кухни на признаках, полученных из LDA, и измерим точность (accuracy).\n",
    "\n",
    "__Задание 5.__ Используйте модель, построенную по сокращенной выборке с alpha по умолчанию (вторую модель). Составьте матрицу $\\Theta = p(t|d)$ вероятностей тем в документах; вы можете использовать тот же метод get_document_topics, а также вектор правильных ответов y (в том же порядке, в котором рецепты идут в переменной recipes). Создайте объект RandomForestClassifier со 100 деревьями, с помощью функции cross_val_score вычислите среднюю accuracy по трем фолдам (перемешивать данные не нужно) и передайте в функцию save_answers5."
   ]
  },
  {
   "cell_type": "code",
   "execution_count": 128,
   "metadata": {},
   "outputs": [],
   "source": [
    "from sklearn.ensemble import RandomForestClassifier\n",
    "from sklearn.model_selection import cross_val_score"
   ]
  },
  {
   "cell_type": "code",
   "execution_count": 127,
   "metadata": {},
   "outputs": [],
   "source": [
    "teta = np.zeros((len(corpus2), 40))\n",
    "for index, bow in enumerate(corpus2):\n",
    "    for topic, proba in ldamodel2.get_document_topics(bow):\n",
    "        teta[index, topic] = proba\n",
    "        \n",
    "y = [recipe['cuisine'] for recipe in recipes]"
   ]
  },
  {
   "cell_type": "code",
   "execution_count": 131,
   "metadata": {},
   "outputs": [],
   "source": [
    "np.random.seed(76543)\n",
    "model = RandomForestClassifier(n_estimators=100)\n",
    "accuracy = cross_val_score(model,teta,y,cv=3)"
   ]
  },
  {
   "cell_type": "code",
   "execution_count": 133,
   "metadata": {},
   "outputs": [],
   "source": [
    "mean_acc = np.mean(accuracy)"
   ]
  },
  {
   "cell_type": "code",
   "execution_count": 134,
   "metadata": {},
   "outputs": [],
   "source": [
    "def save_answers5(accuracy):\n",
    "     with open(\"cooking_LDA_pa_task5.txt\", \"w\") as fout:\n",
    "        fout.write(str(accuracy))"
   ]
  },
  {
   "cell_type": "code",
   "execution_count": 135,
   "metadata": {},
   "outputs": [],
   "source": [
    "save_answers5(mean_acc)"
   ]
  },
  {
   "cell_type": "markdown",
   "metadata": {},
   "source": [
    "Для такого большого количества классов это неплохая точность. Вы можете попроовать обучать RandomForest на исходной матрице частот слов, имеющей значительно большую размерность, и увидеть, что accuracy увеличивается на 10–15%. Таким образом, LDA собрал не всю, но достаточно большую часть информации из выборки, в матрице низкого ранга."
   ]
  },
  {
   "cell_type": "markdown",
   "metadata": {},
   "source": [
    "### LDA — вероятностная модель\n",
    "Матричное разложение, использующееся в LDA, интерпретируется как следующий процесс генерации документов.\n",
    "\n",
    "Для документа $d$ длины $n_d$:\n",
    "1. Из априорного распределения Дирихле с параметром alpha сгенерировать распределение над множеством тем: $\\theta_d \\sim Dirichlet(\\alpha)$\n",
    "1. Для каждого слова $w = 1, \\dots, n_d$:\n",
    "    1. Сгенерировать тему из дискретного распределения $t \\sim \\theta_{d}$\n",
    "    1. Сгенерировать слово из дискретного распределения $w \\sim \\phi_{t}$.\n",
    "    \n",
    "Подробнее об этом в [Википедии](https://en.wikipedia.org/wiki/Latent_Dirichlet_allocation).\n",
    "\n",
    "В контексте нашей задачи получается, что, используя данный генеративный процесс, можно создавать новые рецепты. Вы можете передать в функцию модель и число ингредиентов и сгенерировать рецепт :)"
   ]
  },
  {
   "cell_type": "code",
   "execution_count": null,
   "metadata": {},
   "outputs": [],
   "source": [
    "def generate_recipe(model, num_ingredients):\n",
    "    theta = np.random.dirichlet(model.alpha)\n",
    "    for i in range(num_ingredients):\n",
    "        t = np.random.choice(np.arange(model.num_topics), p=theta)\n",
    "        topic = model.show_topic(t, topn=model.num_terms)\n",
    "        topic_distr = [x[1] for x in topic]\n",
    "        terms = [x[0] for x in topic]\n",
    "        w = np.random.choice(terms, p=topic_distr)\n",
    "        print w"
   ]
  },
  {
   "cell_type": "code",
   "execution_count": null,
   "metadata": {},
   "outputs": [],
   "source": []
  },
  {
   "cell_type": "markdown",
   "metadata": {},
   "source": [
    "### Интерпретация построенной модели\n",
    "Вы можете рассмотреть топы ингредиентов каждой темы. Большиснтво тем сами по себе похожи на рецепты; в некоторых собираются продукты одного вида, например, свежие фрукты или разные виды сыра.\n",
    "\n",
    "Попробуем эмпирически соотнести наши темы с национальными кухнями (cuisine). Построим матрицу $A$ размера темы $x$ кухни, ее элементы $a_{tc}$ — суммы $p(t|d)$ по всем документам $d$, которые отнесены к кухне $c$. Нормируем матрицу на частоты рецептов по разным кухням, чтобы избежать дисбаланса между кухнями. Следующая функция получает на вход объект модели, объект корпуса и исходные данные и возвращает нормированную матрицу $A$. Ее удобно визуализировать с помощью seaborn."
   ]
  },
  {
   "cell_type": "code",
   "execution_count": null,
   "metadata": {},
   "outputs": [],
   "source": [
    "import pandas\n",
    "import seaborn\n",
    "from matplotlib import pyplot as plt\n",
    "%matplotlib inline"
   ]
  },
  {
   "cell_type": "code",
   "execution_count": null,
   "metadata": {},
   "outputs": [],
   "source": [
    "def compute_topic_cuisine_matrix(model, corpus, recipes):\n",
    "    # составляем вектор целевых признаков\n",
    "    targets = list(set([recipe[\"cuisine\"] for recipe in recipes]))\n",
    "    # составляем матрицу\n",
    "    tc_matrix = pandas.DataFrame(data=np.zeros((model.num_topics, len(targets))), columns=targets)\n",
    "    for recipe, bow in zip(recipes, corpus):\n",
    "        recipe_topic = model.get_document_topics(bow)\n",
    "        for t, prob in recipe_topic:\n",
    "            tc_matrix[recipe[\"cuisine\"]][t] += prob\n",
    "    # нормируем матрицу\n",
    "    target_sums = pandas.DataFrame(data=np.zeros((1, len(targets))), columns=targets)\n",
    "    for recipe in recipes:\n",
    "        target_sums[recipe[\"cuisine\"]] += 1\n",
    "    return pandas.DataFrame(tc_matrix.values/target_sums.values, columns=tc_matrix.columns)"
   ]
  },
  {
   "cell_type": "code",
   "execution_count": null,
   "metadata": {},
   "outputs": [],
   "source": [
    "def plot_matrix(tc_matrix):\n",
    "    plt.figure(figsize=(10, 10))\n",
    "    seaborn.heatmap(tc_matrix, square=True)"
   ]
  },
  {
   "cell_type": "code",
   "execution_count": null,
   "metadata": {},
   "outputs": [],
   "source": [
    "# Визуализируйте матрицу\n"
   ]
  },
  {
   "cell_type": "markdown",
   "metadata": {},
   "source": [
    "Чем темнее квадрат в матрице, тем больше связь этой темы с данной кухней. Мы видим, что у нас есть темы, которые связаны с несколькими кухнями. Такие темы показывают набор ингредиентов, которые популярны в кухнях нескольких народов, то есть указывают на схожесть кухонь этих народов. Некоторые темы распределены по всем кухням равномерно, они показывают наборы продуктов, которые часто используются в кулинарии всех стран. "
   ]
  },
  {
   "cell_type": "markdown",
   "metadata": {},
   "source": [
    "Жаль, что в датасете нет названий рецептов, иначе темы было бы проще интерпретировать..."
   ]
  },
  {
   "cell_type": "markdown",
   "metadata": {},
   "source": [
    "### Заключение\n",
    "В этом задании вы построили несколько моделей LDA, посмотрели, на что влияют гиперпараметры модели и как можно использовать построенную модель. "
   ]
  }
 ],
 "metadata": {
  "kernelspec": {
   "display_name": "Python 3",
   "language": "python",
   "name": "python3"
  },
  "language_info": {
   "codemirror_mode": {
    "name": "ipython",
    "version": 3
   },
   "file_extension": ".py",
   "mimetype": "text/x-python",
   "name": "python",
   "nbconvert_exporter": "python",
   "pygments_lexer": "ipython3",
   "version": "3.8.5"
  }
 },
 "nbformat": 4,
 "nbformat_minor": 1
}
