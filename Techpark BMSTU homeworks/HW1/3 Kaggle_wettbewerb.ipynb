{
  "nbformat": 4,
  "nbformat_minor": 0,
  "metadata": {
    "colab": {
      "name": "Kaggle_wettbewerb.ipynb",
      "provenance": [],
      "collapsed_sections": []
    },
    "kernelspec": {
      "name": "python3",
      "display_name": "Python 3"
    }
  },
  "cells": [
    {
      "cell_type": "code",
      "metadata": {
        "id": "LXIY-kiudQ02"
      },
      "source": [
        "import pandas as pd\n",
        "import numpy as np\n",
        "import seaborn as sns\n",
        "import sklearn\n",
        "import matplotlib.pyplot as plt\n",
        "%matplotlib inline"
      ],
      "execution_count": null,
      "outputs": []
    },
    {
      "cell_type": "code",
      "metadata": {
        "id": "p9H48EdefX4y"
      },
      "source": [
        "df = pd.read_csv(\"contest_train_binary.csv\")\n",
        "test_df = pd.read_csv(\"contest_test.csv\")"
      ],
      "execution_count": null,
      "outputs": []
    },
    {
      "cell_type": "code",
      "metadata": {
        "id": "kJNWaB9LnFJu"
      },
      "source": [
        "#Убираем те столбцы, которые не несут никакой информации\n",
        "#Срабатывает со второго раза\n",
        "for i in range(len(df.columns)):\n",
        "  if (df.iloc[:,i:i+1].value_counts().count() == 1):\n",
        "    df = df.drop(df.columns[i], axis = 1)\n"
      ],
      "execution_count": null,
      "outputs": []
    },
    {
      "cell_type": "code",
      "metadata": {
        "id": "jHlhaN94--vR"
      },
      "source": [
        "#Убираем те столбцы, которые не несут никакой информации\n",
        "#Срабатывает со второго раза\n",
        "for i in range(len(test_df.columns)):\n",
        "  if (test_df.iloc[:,i:i+1].value_counts().count() == 1):\n",
        "    test_df = test_df.drop(test_df.columns[i], axis = 1)"
      ],
      "execution_count": null,
      "outputs": []
    },
    {
      "cell_type": "code",
      "metadata": {
        "id": "p1S6ss9uBXm0"
      },
      "source": [
        "#Есть разница в количестве убранных столбцов, убираем из теста вот этот, которого нет в train\n",
        "test_df.drop(\"FEATURE_256\", axis=1, inplace=True)"
      ],
      "execution_count": null,
      "outputs": []
    },
    {
      "cell_type": "code",
      "metadata": {
        "id": "pIh2JCVgtJ94"
      },
      "source": [
        "#Попробуем перевести в логичекую переменную, но по сути это ничего не изменит\n",
        "df[\"TARGET\"] = df[\"TARGET\"].astype(bool)"
      ],
      "execution_count": null,
      "outputs": []
    },
    {
      "cell_type": "code",
      "metadata": {
        "id": "VfbIZpWWC65S"
      },
      "source": [
        "#Подготовим фрейм для сабмита\n",
        "result = pd.DataFrame(test_df[\"ID\"])\n",
        "test_df.drop(\"ID\", axis=1, inplace=True)"
      ],
      "execution_count": null,
      "outputs": []
    },
    {
      "cell_type": "code",
      "metadata": {
        "id": "efK7sRURgGLu"
      },
      "source": [
        "from sklearn.model_selection import train_test_split"
      ],
      "execution_count": null,
      "outputs": []
    },
    {
      "cell_type": "code",
      "metadata": {
        "id": "zJ9yPj_8hu0_"
      },
      "source": [
        "#Заполняем nan\n",
        "df = df.apply(lambda x: x.fillna(x.median()))\n",
        "test_df = test_df.apply(lambda x: x.fillna(x.median()))"
      ],
      "execution_count": null,
      "outputs": []
    },
    {
      "cell_type": "code",
      "metadata": {
        "id": "O3AGyzGPiGFo"
      },
      "source": [
        "#Делим train на свой train и test\n",
        "Y = df[\"TARGET\"]\n",
        "X = df.drop([\"TARGET\", \"ID\"], axis = 1)\n",
        "X = (X - X.mean())/X.std()\n",
        "test_df = (test_df - test_df.mean())/test_df.std()\n",
        "#X_train, X_test, y_train, y_test = train_test_split(X, Y, test_size=0.25, shuffle=False)"
      ],
      "execution_count": null,
      "outputs": []
    },
    {
      "cell_type": "code",
      "metadata": {
        "id": "2vdshF7FjfKL"
      },
      "source": [
        "from sklearn.naive_bayes import *"
      ],
      "execution_count": null,
      "outputs": []
    },
    {
      "cell_type": "code",
      "metadata": {
        "id": "RwJL1LvtjdSp"
      },
      "source": [
        "from sklearn.metrics import accuracy_score, confusion_matrix, precision_score, recall_score, f1_score\n",
        "from sklearn.metrics import plot_confusion_matrix, roc_auc_score"
      ],
      "execution_count": null,
      "outputs": []
    },
    {
      "cell_type": "code",
      "metadata": {
        "id": "Ac7E8EHaQm9L"
      },
      "source": [
        "#Попытка сделать Байеса\n",
        "bay = GaussianNB()\n",
        "bay.fit(X, Y)\n",
        "prediction = bay.predict_proba(test_df)\n",
        "result[\"TARGET\"] = prediction[:,1]\n",
        "result.to_csv('result1.csv', encoding='utf-8', index=False)"
      ],
      "execution_count": null,
      "outputs": []
    },
    {
      "cell_type": "code",
      "metadata": {
        "id": "17MIbFqAaNZG"
      },
      "source": [
        "from sklearn.linear_model import *\n",
        "from sklearn.tree import *"
      ],
      "execution_count": null,
      "outputs": []
    },
    {
      "cell_type": "code",
      "metadata": {
        "id": "jSsGULZDlw4N",
        "outputId": "d3b2f124-c0ea-4350-a264-553869c22beb",
        "colab": {
          "base_uri": "https://localhost:8080/",
          "height": 605
        }
      },
      "source": [
        "#Попробем побить и найти ту часть, где модель натренируется лучше\n",
        "import sklearn.model_selection\n",
        "\n",
        "classif_bay = GaussianNB()\n",
        "logreg = LogisticRegression(solver = 'liblinear')\n",
        "destree = DecisionTreeClassifier(max_depth = 8)\n",
        "\n",
        "kf = sklearn.model_selection.KFold(n_splits=10, shuffle=False)\n",
        "scores_bay = []\n",
        "data_res = []\n",
        "roc_auc_pred_proba = {}\n",
        "roc_auc_logreg = {}\n",
        "roc_auc_destree = {}\n",
        "\n",
        "for train_index, test_index in kf.split(X):\n",
        "    X_train, X_test = X.values[train_index], X.values[test_index]\n",
        "    y_train, y_test = Y.values[train_index], Y.values[test_index]\n",
        "\n",
        "    classif_bay.fit(X_train, y_train)\n",
        "    logreg.fit(X_train, y_train)\n",
        "    destree.fit(X_train, y_train)\n",
        "\n",
        "    pred_bay = classif_bay.predict(X_test)\n",
        "    pred_proba = classif_bay.predict_proba(X_test)\n",
        "\n",
        "    pred_logreg = logreg.predict(X_test)\n",
        "    pred_logreg_proba = logreg.predict_proba(X_test)\n",
        "\n",
        "    pred_destree = destree.predict(X_test)\n",
        "    pred_destree_proba = destree.predict_proba(X_test)\n",
        "#Кладём по roc-auc нужные train и test, чтобы потом опять провести то же уже с данными с полного test-а\n",
        "    #scores_bay.append(roc_auc_score(y_test, pred_bay))\n",
        "    roc_auc_pred_proba[roc_auc_score(y_test, pred_bay)] = (X_train, y_train, pred_proba, X_test)\n",
        "    roc_auc_logreg[roc_auc_score(y_test, pred_logreg)] = (X_train, y_train, pred_logreg_proba)\n",
        "    roc_auc_destree[roc_auc_score(y_test, pred_destree)] = (X_train, y_train, pred_destree_proba)\n",
        "    \n",
        "print(max(roc_auc_pred_proba.keys()))    \n",
        "roc_auc_pred_proba.get(max(roc_auc_pred_proba.keys()))"
      ],
      "execution_count": null,
      "outputs": [
        {
          "output_type": "stream",
          "text": [
            "0.5868377048170799\n"
          ],
          "name": "stdout"
        },
        {
          "output_type": "execute_result",
          "data": {
            "text/plain": [
              "(array([[-0.23657309,  0.36255069, -0.24447774, ..., -0.37088072,\n",
              "          1.99514897,  2.03171264],\n",
              "        [-0.30538043, -0.18497074, -0.24447774, ..., -0.37088072,\n",
              "         -0.4552917 , -0.46026543],\n",
              "        [-0.37418776, -0.73249217, -0.24447774, ..., -0.37088072,\n",
              "         -0.4552917 , -0.46026543],\n",
              "        ...,\n",
              "        [-0.37418776, -0.73249217, -0.24447774, ..., -0.37088072,\n",
              "         -0.4552917 , -0.46026543],\n",
              "        [-0.16776576,  0.36255069, -0.24447774, ..., -0.37088072,\n",
              "          1.99514897, -0.46026543],\n",
              "        [-0.23657309,  0.36255069, -0.24447774, ..., -0.37088072,\n",
              "          1.99514897, -0.46026543]]),\n",
              " array([ True, False,  True, ..., False,  True, False]),\n",
              " array([[6.98366614e-01, 3.01633386e-01],\n",
              "        [9.37915545e-01, 6.20844553e-02],\n",
              "        [9.99927305e-01, 7.26951086e-05],\n",
              "        ...,\n",
              "        [3.05766756e-03, 9.96942332e-01],\n",
              "        [1.52260565e-01, 8.47739435e-01],\n",
              "        [9.71447447e-01, 2.85525526e-02]]),\n",
              " array([[-0.37418776, -0.73249217, -0.24447774, ..., -0.37088072,\n",
              "         -0.4552917 , -0.46026543],\n",
              "        [-0.37418776, -0.73249217, -0.24447774, ..., -0.37088072,\n",
              "          1.99514897,  2.03171264],\n",
              "        [-0.30538043, -0.18497074, -0.24447774, ..., -0.37088072,\n",
              "         -0.4552917 , -0.46026543],\n",
              "        ...,\n",
              "        [-0.16776576,  0.36255069, -0.24447774, ..., -0.37088072,\n",
              "         -0.4552917 , -0.46026543],\n",
              "        [-0.23657309,  0.36255069, -0.24447774, ..., -0.37088072,\n",
              "         -0.4552917 , -0.46026543],\n",
              "        [-0.37418776, -0.73249217, -0.24447774, ...,  2.30550717,\n",
              "         -0.4552917 , -0.46026543]]))"
            ]
          },
          "metadata": {
            "tags": []
          },
          "execution_count": 151
        }
      ]
    },
    {
      "cell_type": "code",
      "metadata": {
        "id": "dzauwxNb-JHZ",
        "outputId": "74568d7e-5516-4f9e-c039-77de05bad7f8",
        "colab": {
          "base_uri": "https://localhost:8080/",
          "height": 50
        }
      },
      "source": [
        "list_x_tr_y_tr = roc_auc_pred_proba.get(max(roc_auc_pred_proba.keys()))\n",
        "bayes = GaussianNB()\n",
        "bayes.fit(list_x_tr_y_tr[0], list_x_tr_y_tr[1])\n",
        "prediction_proba = bayes.predict_proba(test_df)\n",
        "prediction_proba[:,1]"
      ],
      "execution_count": null,
      "outputs": [
        {
          "output_type": "execute_result",
          "data": {
            "text/plain": [
              "array([9.93499283e-01, 6.11919392e-01, 2.26837424e-05, ...,\n",
              "       2.60902706e-01, 9.97479308e-01, 9.99377377e-01])"
            ]
          },
          "metadata": {
            "tags": []
          },
          "execution_count": 143
        }
      ]
    },
    {
      "cell_type": "code",
      "metadata": {
        "id": "S6IjT4HlVpFt"
      },
      "source": [
        "result[\"TARGET\"] = prediction_proba[:,1]\n",
        "result.to_csv('result2.csv', encoding='utf-8', index=False)"
      ],
      "execution_count": null,
      "outputs": []
    },
    {
      "cell_type": "code",
      "metadata": {
        "id": "zqbN_jQzYiu7",
        "outputId": "145a6ceb-4db5-4e64-c615-8461adf235f7",
        "colab": {
          "base_uri": "https://localhost:8080/",
          "height": 252
        }
      },
      "source": [
        "list_logreg = roc_auc_logreg.get(max(roc_auc_logreg.keys()))\n",
        "logreg1 = LogisticRegression(solver = 'liblinear')\n",
        "logreg.fit(list_logreg[0], list_logreg[1])\n",
        "pred_logreg = logreg.predict_proba(test_df)\n",
        "print(pred_logreg)\n",
        "\n",
        "list_destree = roc_auc_destree.get(max(roc_auc_destree.keys()))\n",
        "destree1 = DecisionTreeClassifier(max_depth = 8)\n",
        "destree.fit(list_destree[0], list_destree[1])\n",
        "pred_destree = destree.predict_proba(test_df)\n",
        "print(pred_destree)"
      ],
      "execution_count": null,
      "outputs": [
        {
          "output_type": "stream",
          "text": [
            "[[0.76933761 0.23066239]\n",
            " [0.84719347 0.15280653]\n",
            " [0.88173703 0.11826297]\n",
            " ...\n",
            " [0.95648223 0.04351777]\n",
            " [0.83852756 0.16147244]\n",
            " [0.81107834 0.18892166]]\n",
            "[[0.14285714 0.85714286]\n",
            " [0.63111111 0.36888889]\n",
            " [0.91957758 0.08042242]\n",
            " ...\n",
            " [0.82051282 0.17948718]\n",
            " [0.63808901 0.36191099]\n",
            " [0.74160207 0.25839793]]\n"
          ],
          "name": "stdout"
        }
      ]
    },
    {
      "cell_type": "code",
      "metadata": {
        "id": "JUlKdsV0bbTZ",
        "outputId": "889b7ad1-7793-4ca1-9ae0-d780c9f05154",
        "colab": {
          "base_uri": "https://localhost:8080/",
          "height": 54
        }
      },
      "source": [
        "roc_auc_destree.keys()"
      ],
      "execution_count": null,
      "outputs": [
        {
          "output_type": "execute_result",
          "data": {
            "text/plain": [
              "dict_keys([0.5063894544535125, 0.508209101798395, 0.5194988509155608, 0.5029962839020793, 0.5149480548187444, 0.5208166776859048, 0.5106113161072438, 0.5083513735001398, 0.5095782761899434, 0.5214975475168608])"
            ]
          },
          "metadata": {
            "tags": []
          },
          "execution_count": 154
        }
      ]
    },
    {
      "cell_type": "code",
      "metadata": {
        "id": "3WLCnxWSbLn0"
      },
      "source": [
        "result[\"TARGET\"] = pred_logreg[:,1]\n",
        "result.to_csv('result_logreg.csv', encoding='utf-8', index=False)"
      ],
      "execution_count": null,
      "outputs": []
    },
    {
      "cell_type": "code",
      "metadata": {
        "id": "4MKxreUPb6Q6"
      },
      "source": [
        "result[\"TARGET\"] = pred_destree[:,1]\n",
        "result.to_csv('result_destree.csv', encoding='utf-8', index=False)"
      ],
      "execution_count": null,
      "outputs": []
    },
    {
      "cell_type": "markdown",
      "metadata": {
        "id": "QxpJQ7am8z3j"
      },
      "source": [
        "Итоговый максимальный результат дало дерево - 0.51153 (результат уже с кагла)"
      ]
    },
    {
      "cell_type": "code",
      "metadata": {
        "id": "CPwNEimfPFZg"
      },
      "source": [
        ""
      ],
      "execution_count": null,
      "outputs": []
    }
  ]
}