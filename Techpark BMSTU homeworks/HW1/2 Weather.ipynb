{
 "cells": [
  {
   "cell_type": "code",
   "execution_count": 127,
   "metadata": {},
   "outputs": [],
   "source": [
    "import pandas as pd\n",
    "import numpy as np\n",
    "import seaborn as sns\n",
    "import matplotlib.pyplot as plt\n",
    "%matplotlib inline"
   ]
  },
  {
   "cell_type": "markdown",
   "metadata": {},
   "source": [
    "Загружаем файл:"
   ]
  },
  {
   "cell_type": "code",
   "execution_count": 128,
   "metadata": {},
   "outputs": [],
   "source": [
    "df = pd.read_csv(\"weatherAUS.csv\")"
   ]
  },
  {
   "cell_type": "code",
   "execution_count": 129,
   "metadata": {},
   "outputs": [
    {
     "name": "stdout",
     "output_type": "stream",
     "text": [
      "<class 'pandas.core.frame.DataFrame'>\n",
      "RangeIndex: 142193 entries, 0 to 142192\n",
      "Data columns (total 24 columns):\n",
      " #   Column         Non-Null Count   Dtype  \n",
      "---  ------         --------------   -----  \n",
      " 0   Date           142193 non-null  object \n",
      " 1   Location       142193 non-null  object \n",
      " 2   MinTemp        141556 non-null  float64\n",
      " 3   MaxTemp        141871 non-null  float64\n",
      " 4   Rainfall       140787 non-null  float64\n",
      " 5   Evaporation    81350 non-null   float64\n",
      " 6   Sunshine       74377 non-null   float64\n",
      " 7   WindGustDir    132863 non-null  object \n",
      " 8   WindGustSpeed  132923 non-null  float64\n",
      " 9   WindDir9am     132180 non-null  object \n",
      " 10  WindDir3pm     138415 non-null  object \n",
      " 11  WindSpeed9am   140845 non-null  float64\n",
      " 12  WindSpeed3pm   139563 non-null  float64\n",
      " 13  Humidity9am    140419 non-null  float64\n",
      " 14  Humidity3pm    138583 non-null  float64\n",
      " 15  Pressure9am    128179 non-null  float64\n",
      " 16  Pressure3pm    128212 non-null  float64\n",
      " 17  Cloud9am       88536 non-null   float64\n",
      " 18  Cloud3pm       85099 non-null   float64\n",
      " 19  Temp9am        141289 non-null  float64\n",
      " 20  Temp3pm        139467 non-null  float64\n",
      " 21  RainToday      140787 non-null  object \n",
      " 22  RISK_MM        142193 non-null  float64\n",
      " 23  RainTomorrow   142193 non-null  object \n",
      "dtypes: float64(17), object(7)\n",
      "memory usage: 26.0+ MB\n"
     ]
    }
   ],
   "source": [
    "df.info()"
   ]
  },
  {
   "cell_type": "markdown",
   "metadata": {},
   "source": [
    "Описание данных:\n",
    "Date - Дата наблюдений\n",
    "Location - Название локации, в которой расположена метеорологическая станция\n",
    "MinTemp - Минимальная температура в градусах цельсия\n",
    "MaxTemp - Максимальная температура в градусах цельсия\n",
    "Rainfall - Количество осадков, зафиксированных за день в мм\n",
    "Evaporation - Так называемое \"pan evaporation\" класса А (мм) за 24 часа до 9 утра\n",
    "Sunshine - Число солнечных часов за день\n",
    "WindGustDir - направление самого сильного порыва ветра за последние 24 часа\n",
    "WindGustSpeed - скорость (км / ч) самого сильного порыва ветра за последние 24 часа\n",
    "WindDir9am - направление ветра в 9 утра\n",
    "WindDir3pm - направление ветра в 3 часа дня\n",
    "WindSpeed9am - скорость ветра в 9 утра\n",
    "WindSpeed3pm - скорость ветра в 3 часа дня\n",
    "Humidity9am - влажность в 9 утра\n",
    "Humidity3pm - Влажность в 3 дня\n",
    "Pressure9/3 - давление\n",
    "Cloud - облачность\n",
    "Temp - температура\n",
    "RainToday - дождь сегодня\n",
    "RISK_MM - ?\n",
    "RainTomorrow - целевая переменная"
   ]
  },
  {
   "cell_type": "code",
   "execution_count": 130,
   "metadata": {},
   "outputs": [
    {
     "data": {
      "text/html": [
       "<div>\n",
       "<style scoped>\n",
       "    .dataframe tbody tr th:only-of-type {\n",
       "        vertical-align: middle;\n",
       "    }\n",
       "\n",
       "    .dataframe tbody tr th {\n",
       "        vertical-align: top;\n",
       "    }\n",
       "\n",
       "    .dataframe thead th {\n",
       "        text-align: right;\n",
       "    }\n",
       "</style>\n",
       "<table border=\"1\" class=\"dataframe\">\n",
       "  <thead>\n",
       "    <tr style=\"text-align: right;\">\n",
       "      <th></th>\n",
       "      <th>Date</th>\n",
       "      <th>Location</th>\n",
       "      <th>MinTemp</th>\n",
       "      <th>MaxTemp</th>\n",
       "      <th>Rainfall</th>\n",
       "      <th>Evaporation</th>\n",
       "      <th>Sunshine</th>\n",
       "      <th>WindGustDir</th>\n",
       "      <th>WindGustSpeed</th>\n",
       "      <th>WindDir9am</th>\n",
       "      <th>...</th>\n",
       "      <th>Humidity3pm</th>\n",
       "      <th>Pressure9am</th>\n",
       "      <th>Pressure3pm</th>\n",
       "      <th>Cloud9am</th>\n",
       "      <th>Cloud3pm</th>\n",
       "      <th>Temp9am</th>\n",
       "      <th>Temp3pm</th>\n",
       "      <th>RainToday</th>\n",
       "      <th>RISK_MM</th>\n",
       "      <th>RainTomorrow</th>\n",
       "    </tr>\n",
       "  </thead>\n",
       "  <tbody>\n",
       "    <tr>\n",
       "      <th>0</th>\n",
       "      <td>2008-12-01</td>\n",
       "      <td>Albury</td>\n",
       "      <td>13.4</td>\n",
       "      <td>22.9</td>\n",
       "      <td>0.6</td>\n",
       "      <td>NaN</td>\n",
       "      <td>NaN</td>\n",
       "      <td>W</td>\n",
       "      <td>44.0</td>\n",
       "      <td>W</td>\n",
       "      <td>...</td>\n",
       "      <td>22.0</td>\n",
       "      <td>1007.7</td>\n",
       "      <td>1007.1</td>\n",
       "      <td>8.0</td>\n",
       "      <td>NaN</td>\n",
       "      <td>16.9</td>\n",
       "      <td>21.8</td>\n",
       "      <td>No</td>\n",
       "      <td>0.0</td>\n",
       "      <td>No</td>\n",
       "    </tr>\n",
       "    <tr>\n",
       "      <th>1</th>\n",
       "      <td>2008-12-02</td>\n",
       "      <td>Albury</td>\n",
       "      <td>7.4</td>\n",
       "      <td>25.1</td>\n",
       "      <td>0.0</td>\n",
       "      <td>NaN</td>\n",
       "      <td>NaN</td>\n",
       "      <td>WNW</td>\n",
       "      <td>44.0</td>\n",
       "      <td>NNW</td>\n",
       "      <td>...</td>\n",
       "      <td>25.0</td>\n",
       "      <td>1010.6</td>\n",
       "      <td>1007.8</td>\n",
       "      <td>NaN</td>\n",
       "      <td>NaN</td>\n",
       "      <td>17.2</td>\n",
       "      <td>24.3</td>\n",
       "      <td>No</td>\n",
       "      <td>0.0</td>\n",
       "      <td>No</td>\n",
       "    </tr>\n",
       "    <tr>\n",
       "      <th>2</th>\n",
       "      <td>2008-12-03</td>\n",
       "      <td>Albury</td>\n",
       "      <td>12.9</td>\n",
       "      <td>25.7</td>\n",
       "      <td>0.0</td>\n",
       "      <td>NaN</td>\n",
       "      <td>NaN</td>\n",
       "      <td>WSW</td>\n",
       "      <td>46.0</td>\n",
       "      <td>W</td>\n",
       "      <td>...</td>\n",
       "      <td>30.0</td>\n",
       "      <td>1007.6</td>\n",
       "      <td>1008.7</td>\n",
       "      <td>NaN</td>\n",
       "      <td>2.0</td>\n",
       "      <td>21.0</td>\n",
       "      <td>23.2</td>\n",
       "      <td>No</td>\n",
       "      <td>0.0</td>\n",
       "      <td>No</td>\n",
       "    </tr>\n",
       "    <tr>\n",
       "      <th>3</th>\n",
       "      <td>2008-12-04</td>\n",
       "      <td>Albury</td>\n",
       "      <td>9.2</td>\n",
       "      <td>28.0</td>\n",
       "      <td>0.0</td>\n",
       "      <td>NaN</td>\n",
       "      <td>NaN</td>\n",
       "      <td>NE</td>\n",
       "      <td>24.0</td>\n",
       "      <td>SE</td>\n",
       "      <td>...</td>\n",
       "      <td>16.0</td>\n",
       "      <td>1017.6</td>\n",
       "      <td>1012.8</td>\n",
       "      <td>NaN</td>\n",
       "      <td>NaN</td>\n",
       "      <td>18.1</td>\n",
       "      <td>26.5</td>\n",
       "      <td>No</td>\n",
       "      <td>1.0</td>\n",
       "      <td>No</td>\n",
       "    </tr>\n",
       "    <tr>\n",
       "      <th>4</th>\n",
       "      <td>2008-12-05</td>\n",
       "      <td>Albury</td>\n",
       "      <td>17.5</td>\n",
       "      <td>32.3</td>\n",
       "      <td>1.0</td>\n",
       "      <td>NaN</td>\n",
       "      <td>NaN</td>\n",
       "      <td>W</td>\n",
       "      <td>41.0</td>\n",
       "      <td>ENE</td>\n",
       "      <td>...</td>\n",
       "      <td>33.0</td>\n",
       "      <td>1010.8</td>\n",
       "      <td>1006.0</td>\n",
       "      <td>7.0</td>\n",
       "      <td>8.0</td>\n",
       "      <td>17.8</td>\n",
       "      <td>29.7</td>\n",
       "      <td>No</td>\n",
       "      <td>0.2</td>\n",
       "      <td>No</td>\n",
       "    </tr>\n",
       "  </tbody>\n",
       "</table>\n",
       "<p>5 rows × 24 columns</p>\n",
       "</div>"
      ],
      "text/plain": [
       "         Date Location  MinTemp  MaxTemp  Rainfall  Evaporation  Sunshine  \\\n",
       "0  2008-12-01   Albury     13.4     22.9       0.6          NaN       NaN   \n",
       "1  2008-12-02   Albury      7.4     25.1       0.0          NaN       NaN   \n",
       "2  2008-12-03   Albury     12.9     25.7       0.0          NaN       NaN   \n",
       "3  2008-12-04   Albury      9.2     28.0       0.0          NaN       NaN   \n",
       "4  2008-12-05   Albury     17.5     32.3       1.0          NaN       NaN   \n",
       "\n",
       "  WindGustDir  WindGustSpeed WindDir9am  ... Humidity3pm  Pressure9am  \\\n",
       "0           W           44.0          W  ...        22.0       1007.7   \n",
       "1         WNW           44.0        NNW  ...        25.0       1010.6   \n",
       "2         WSW           46.0          W  ...        30.0       1007.6   \n",
       "3          NE           24.0         SE  ...        16.0       1017.6   \n",
       "4           W           41.0        ENE  ...        33.0       1010.8   \n",
       "\n",
       "   Pressure3pm  Cloud9am  Cloud3pm  Temp9am  Temp3pm  RainToday  RISK_MM  \\\n",
       "0       1007.1       8.0       NaN     16.9     21.8         No      0.0   \n",
       "1       1007.8       NaN       NaN     17.2     24.3         No      0.0   \n",
       "2       1008.7       NaN       2.0     21.0     23.2         No      0.0   \n",
       "3       1012.8       NaN       NaN     18.1     26.5         No      1.0   \n",
       "4       1006.0       7.0       8.0     17.8     29.7         No      0.2   \n",
       "\n",
       "   RainTomorrow  \n",
       "0            No  \n",
       "1            No  \n",
       "2            No  \n",
       "3            No  \n",
       "4            No  \n",
       "\n",
       "[5 rows x 24 columns]"
      ]
     },
     "execution_count": 130,
     "metadata": {},
     "output_type": "execute_result"
    }
   ],
   "source": [
    "df.head()"
   ]
  },
  {
   "cell_type": "markdown",
   "metadata": {},
   "source": [
    "Отсюда мы можем увидеть, что следующие данные нужно преобразовать в численный формат: Date - переведём в день, так как нам важна\n",
    "только сезонность; Location - заменим численным представлением, сопоставив каждому названия своё число; Evaporation и Sunshine -\n",
    "много NaN, нужно взять медианное значение (скорее всего). WindGustDir и WindDir9am - направление ветра, тоже заменим по аналогии \n",
    "с регионом. Cloud - много NaN, нужно заменить (на что?). RainToday - бинаризовать."
   ]
  },
  {
   "cell_type": "markdown",
   "metadata": {},
   "source": [
    "Date:"
   ]
  },
  {
   "cell_type": "code",
   "execution_count": 131,
   "metadata": {},
   "outputs": [],
   "source": [
    "df[\"Date\"] = pd.to_datetime(df[\"Date\"]).dt.dayofyear"
   ]
  },
  {
   "cell_type": "markdown",
   "metadata": {},
   "source": [
    "Location"
   ]
  },
  {
   "cell_type": "code",
   "execution_count": 132,
   "metadata": {},
   "outputs": [],
   "source": [
    "locations_unique = pd.unique(df[\"Location\"])"
   ]
  },
  {
   "cell_type": "code",
   "execution_count": 133,
   "metadata": {},
   "outputs": [],
   "source": [
    "names_of_distr = {locations_unique[i]: i for i in range(len(locations_unique))} "
   ]
  },
  {
   "cell_type": "code",
   "execution_count": 134,
   "metadata": {},
   "outputs": [],
   "source": [
    "df[\"Location\"] = df[\"Location\"].map(names_of_distr)"
   ]
  },
  {
   "cell_type": "markdown",
   "metadata": {},
   "source": [
    "WindGustDir and WindDir9am"
   ]
  },
  {
   "cell_type": "code",
   "execution_count": 135,
   "metadata": {},
   "outputs": [],
   "source": [
    "directions_unique = df[\"WindGustDir\"].dropna().unique()"
   ]
  },
  {
   "cell_type": "code",
   "execution_count": 136,
   "metadata": {},
   "outputs": [
    {
     "data": {
      "text/plain": [
       "array(['W', 'WNW', 'WSW', 'NE', 'NNW', 'N', 'NNE', 'SW', 'ENE', 'SSE',\n",
       "       'S', 'NW', 'SE', 'ESE', 'E', 'SSW'], dtype=object)"
      ]
     },
     "execution_count": 136,
     "metadata": {},
     "output_type": "execute_result"
    }
   ],
   "source": [
    "directions_unique"
   ]
  },
  {
   "cell_type": "code",
   "execution_count": 137,
   "metadata": {},
   "outputs": [],
   "source": [
    "df[\"WindGustDir\"] = df[\"WindGustDir\"].map({directions_unique[i]: i for i in range(len(directions_unique))})\n",
    "df[\"WindDir9am\"] = df[\"WindDir9am\"].map({directions_unique[i]: i for i in range(len(directions_unique))})\n",
    "df[\"WindDir3pm\"] = df[\"WindDir3pm\"].map({directions_unique[i]: i for i in range(len(directions_unique))})"
   ]
  },
  {
   "cell_type": "code",
   "execution_count": 138,
   "metadata": {},
   "outputs": [],
   "source": [
    "df[\"RainToday\"] = df[\"RainToday\"].map({\"No\" : False, \"Yes\" : True})\n",
    "df[\"RainTomorrow\"] = df[\"RainTomorrow\"].map({\"No\" : False, \"Yes\" : True})"
   ]
  },
  {
   "cell_type": "code",
   "execution_count": 139,
   "metadata": {},
   "outputs": [
    {
     "data": {
      "text/html": [
       "<div>\n",
       "<style scoped>\n",
       "    .dataframe tbody tr th:only-of-type {\n",
       "        vertical-align: middle;\n",
       "    }\n",
       "\n",
       "    .dataframe tbody tr th {\n",
       "        vertical-align: top;\n",
       "    }\n",
       "\n",
       "    .dataframe thead th {\n",
       "        text-align: right;\n",
       "    }\n",
       "</style>\n",
       "<table border=\"1\" class=\"dataframe\">\n",
       "  <thead>\n",
       "    <tr style=\"text-align: right;\">\n",
       "      <th></th>\n",
       "      <th>Date</th>\n",
       "      <th>Location</th>\n",
       "      <th>MinTemp</th>\n",
       "      <th>MaxTemp</th>\n",
       "      <th>Rainfall</th>\n",
       "      <th>Evaporation</th>\n",
       "      <th>Sunshine</th>\n",
       "      <th>WindGustDir</th>\n",
       "      <th>WindGustSpeed</th>\n",
       "      <th>WindDir9am</th>\n",
       "      <th>...</th>\n",
       "      <th>Humidity3pm</th>\n",
       "      <th>Pressure9am</th>\n",
       "      <th>Pressure3pm</th>\n",
       "      <th>Cloud9am</th>\n",
       "      <th>Cloud3pm</th>\n",
       "      <th>Temp9am</th>\n",
       "      <th>Temp3pm</th>\n",
       "      <th>RainToday</th>\n",
       "      <th>RISK_MM</th>\n",
       "      <th>RainTomorrow</th>\n",
       "    </tr>\n",
       "  </thead>\n",
       "  <tbody>\n",
       "    <tr>\n",
       "      <th>0</th>\n",
       "      <td>336</td>\n",
       "      <td>0</td>\n",
       "      <td>13.4</td>\n",
       "      <td>22.9</td>\n",
       "      <td>0.6</td>\n",
       "      <td>NaN</td>\n",
       "      <td>NaN</td>\n",
       "      <td>0.0</td>\n",
       "      <td>44.0</td>\n",
       "      <td>0.0</td>\n",
       "      <td>...</td>\n",
       "      <td>22.0</td>\n",
       "      <td>1007.7</td>\n",
       "      <td>1007.1</td>\n",
       "      <td>8.0</td>\n",
       "      <td>NaN</td>\n",
       "      <td>16.9</td>\n",
       "      <td>21.8</td>\n",
       "      <td>False</td>\n",
       "      <td>0.0</td>\n",
       "      <td>False</td>\n",
       "    </tr>\n",
       "    <tr>\n",
       "      <th>1</th>\n",
       "      <td>337</td>\n",
       "      <td>0</td>\n",
       "      <td>7.4</td>\n",
       "      <td>25.1</td>\n",
       "      <td>0.0</td>\n",
       "      <td>NaN</td>\n",
       "      <td>NaN</td>\n",
       "      <td>1.0</td>\n",
       "      <td>44.0</td>\n",
       "      <td>4.0</td>\n",
       "      <td>...</td>\n",
       "      <td>25.0</td>\n",
       "      <td>1010.6</td>\n",
       "      <td>1007.8</td>\n",
       "      <td>NaN</td>\n",
       "      <td>NaN</td>\n",
       "      <td>17.2</td>\n",
       "      <td>24.3</td>\n",
       "      <td>False</td>\n",
       "      <td>0.0</td>\n",
       "      <td>False</td>\n",
       "    </tr>\n",
       "    <tr>\n",
       "      <th>2</th>\n",
       "      <td>338</td>\n",
       "      <td>0</td>\n",
       "      <td>12.9</td>\n",
       "      <td>25.7</td>\n",
       "      <td>0.0</td>\n",
       "      <td>NaN</td>\n",
       "      <td>NaN</td>\n",
       "      <td>2.0</td>\n",
       "      <td>46.0</td>\n",
       "      <td>0.0</td>\n",
       "      <td>...</td>\n",
       "      <td>30.0</td>\n",
       "      <td>1007.6</td>\n",
       "      <td>1008.7</td>\n",
       "      <td>NaN</td>\n",
       "      <td>2.0</td>\n",
       "      <td>21.0</td>\n",
       "      <td>23.2</td>\n",
       "      <td>False</td>\n",
       "      <td>0.0</td>\n",
       "      <td>False</td>\n",
       "    </tr>\n",
       "    <tr>\n",
       "      <th>3</th>\n",
       "      <td>339</td>\n",
       "      <td>0</td>\n",
       "      <td>9.2</td>\n",
       "      <td>28.0</td>\n",
       "      <td>0.0</td>\n",
       "      <td>NaN</td>\n",
       "      <td>NaN</td>\n",
       "      <td>3.0</td>\n",
       "      <td>24.0</td>\n",
       "      <td>12.0</td>\n",
       "      <td>...</td>\n",
       "      <td>16.0</td>\n",
       "      <td>1017.6</td>\n",
       "      <td>1012.8</td>\n",
       "      <td>NaN</td>\n",
       "      <td>NaN</td>\n",
       "      <td>18.1</td>\n",
       "      <td>26.5</td>\n",
       "      <td>False</td>\n",
       "      <td>1.0</td>\n",
       "      <td>False</td>\n",
       "    </tr>\n",
       "    <tr>\n",
       "      <th>4</th>\n",
       "      <td>340</td>\n",
       "      <td>0</td>\n",
       "      <td>17.5</td>\n",
       "      <td>32.3</td>\n",
       "      <td>1.0</td>\n",
       "      <td>NaN</td>\n",
       "      <td>NaN</td>\n",
       "      <td>0.0</td>\n",
       "      <td>41.0</td>\n",
       "      <td>8.0</td>\n",
       "      <td>...</td>\n",
       "      <td>33.0</td>\n",
       "      <td>1010.8</td>\n",
       "      <td>1006.0</td>\n",
       "      <td>7.0</td>\n",
       "      <td>8.0</td>\n",
       "      <td>17.8</td>\n",
       "      <td>29.7</td>\n",
       "      <td>False</td>\n",
       "      <td>0.2</td>\n",
       "      <td>False</td>\n",
       "    </tr>\n",
       "  </tbody>\n",
       "</table>\n",
       "<p>5 rows × 24 columns</p>\n",
       "</div>"
      ],
      "text/plain": [
       "   Date  Location  MinTemp  MaxTemp  Rainfall  Evaporation  Sunshine  \\\n",
       "0   336         0     13.4     22.9       0.6          NaN       NaN   \n",
       "1   337         0      7.4     25.1       0.0          NaN       NaN   \n",
       "2   338         0     12.9     25.7       0.0          NaN       NaN   \n",
       "3   339         0      9.2     28.0       0.0          NaN       NaN   \n",
       "4   340         0     17.5     32.3       1.0          NaN       NaN   \n",
       "\n",
       "   WindGustDir  WindGustSpeed  WindDir9am  ...  Humidity3pm  Pressure9am  \\\n",
       "0          0.0           44.0         0.0  ...         22.0       1007.7   \n",
       "1          1.0           44.0         4.0  ...         25.0       1010.6   \n",
       "2          2.0           46.0         0.0  ...         30.0       1007.6   \n",
       "3          3.0           24.0        12.0  ...         16.0       1017.6   \n",
       "4          0.0           41.0         8.0  ...         33.0       1010.8   \n",
       "\n",
       "   Pressure3pm  Cloud9am  Cloud3pm  Temp9am  Temp3pm  RainToday  RISK_MM  \\\n",
       "0       1007.1       8.0       NaN     16.9     21.8      False      0.0   \n",
       "1       1007.8       NaN       NaN     17.2     24.3      False      0.0   \n",
       "2       1008.7       NaN       2.0     21.0     23.2      False      0.0   \n",
       "3       1012.8       NaN       NaN     18.1     26.5      False      1.0   \n",
       "4       1006.0       7.0       8.0     17.8     29.7      False      0.2   \n",
       "\n",
       "   RainTomorrow  \n",
       "0         False  \n",
       "1         False  \n",
       "2         False  \n",
       "3         False  \n",
       "4         False  \n",
       "\n",
       "[5 rows x 24 columns]"
      ]
     },
     "execution_count": 139,
     "metadata": {},
     "output_type": "execute_result"
    }
   ],
   "source": [
    "df.head()"
   ]
  },
  {
   "cell_type": "code",
   "execution_count": 140,
   "metadata": {},
   "outputs": [],
   "source": [
    "from sklearn.model_selection import train_test_split\n",
    "import seaborn as sns"
   ]
  },
  {
   "cell_type": "code",
   "execution_count": 141,
   "metadata": {},
   "outputs": [],
   "source": [
    "X = df.iloc[:, 0:df.shape[1]-1]\n",
    "Y = df[\"RainTomorrow\"]\n",
    "\n",
    "X_train, X_test, y_train, y_test = train_test_split(X, Y, test_size=0.3, shuffle=False)"
   ]
  },
  {
   "cell_type": "code",
   "execution_count": 142,
   "metadata": {},
   "outputs": [],
   "source": [
    "X_train = X_train.fillna(np.median(X_train))\n",
    "X_test = X_test.fillna(np.median(X_test))"
   ]
  },
  {
   "cell_type": "code",
   "execution_count": 143,
   "metadata": {},
   "outputs": [
    {
     "data": {
      "image/png": "[encoded data removed]",
      "text/plain": [
       "<Figure size 288x288 with 1 Axes>"
      ]
     },
     "metadata": {
      "needs_background": "light"
     },
     "output_type": "display_data"
    }
   ],
   "source": [
    "plt.matshow(df.corr())\n",
    "plt.show()"
   ]
  },
  {
   "cell_type": "code",
   "execution_count": 144,
   "metadata": {},
   "outputs": [
    {
     "data": {
      "text/plain": [
       "<AxesSubplot:>"
      ]
     },
     "execution_count": 144,
     "metadata": {},
     "output_type": "execute_result"
    },
    {
     "data": {
      "image/png": "[encoded data removed]",
      "text/plain": [
       "<Figure size 432x288 with 2 Axes>"
      ]
     },
     "metadata": {
      "needs_background": "light"
     },
     "output_type": "display_data"
    }
   ],
   "source": [
    "sns.heatmap(df.corr())"
   ]
  },
  {
   "cell_type": "markdown",
   "metadata": {},
   "source": [
    "# 1.Байесовские классификаторы"
   ]
  },
  {
   "cell_type": "markdown",
   "metadata": {},
   "source": [
    "BernoulliNB не подойдёт, так как есть небинарные данные.\n",
    "Для начала попробуем GaussianNB:"
   ]
  },
  {
   "cell_type": "code",
   "execution_count": 145,
   "metadata": {},
   "outputs": [],
   "source": [
    "from sklearn.naive_bayes import *"
   ]
  },
  {
   "cell_type": "code",
   "execution_count": 146,
   "metadata": {},
   "outputs": [
    {
     "name": "stdout",
     "output_type": "stream",
     "text": [
      "Wall time: 405 ms\n"
     ]
    }
   ],
   "source": [
    "%%time\n",
    "classifier = GaussianNB()\n",
    "classifier.fit(X_train, y_train)\n",
    "prediction = classifier.predict(X_test)"
   ]
  },
  {
   "cell_type": "code",
   "execution_count": 147,
   "metadata": {},
   "outputs": [
    {
     "data": {
      "text/plain": [
       "0.9739322049791364"
      ]
     },
     "execution_count": 147,
     "metadata": {},
     "output_type": "execute_result"
    }
   ],
   "source": [
    "np.mean(prediction == y_test)"
   ]
  },
  {
   "cell_type": "markdown",
   "metadata": {},
   "source": [
    "Как мы видим, результат очень высокий, возможно, какие-то признаки сильно скореллированы, поэтому чуть позже постараемся их найти. MultinomialNB не позволяет работать с данными с отрицательными значениями (почему?), поэтому оставляем результата GaussianNB."
   ]
  },
  {
   "cell_type": "markdown",
   "metadata": {},
   "source": [
    "Погуглив, можно найти это задание на Kaggle и прочитать, что они просят исключить из датасета столбец RAIN_MM, потому что \n",
    "на его основе и создавалась целевая переменная и он \"даст утечку\" данных (это видно из таблицы корреляций). Попробуем это сделать:"
   ]
  },
  {
   "cell_type": "code",
   "execution_count": 148,
   "metadata": {},
   "outputs": [
    {
     "data": {
      "text/html": [
       "<div>\n",
       "<style scoped>\n",
       "    .dataframe tbody tr th:only-of-type {\n",
       "        vertical-align: middle;\n",
       "    }\n",
       "\n",
       "    .dataframe tbody tr th {\n",
       "        vertical-align: top;\n",
       "    }\n",
       "\n",
       "    .dataframe thead th {\n",
       "        text-align: right;\n",
       "    }\n",
       "</style>\n",
       "<table border=\"1\" class=\"dataframe\">\n",
       "  <thead>\n",
       "    <tr style=\"text-align: right;\">\n",
       "      <th></th>\n",
       "      <th>Date</th>\n",
       "      <th>Location</th>\n",
       "      <th>MinTemp</th>\n",
       "      <th>MaxTemp</th>\n",
       "      <th>Rainfall</th>\n",
       "      <th>Evaporation</th>\n",
       "      <th>Sunshine</th>\n",
       "      <th>WindGustDir</th>\n",
       "      <th>WindGustSpeed</th>\n",
       "      <th>WindDir9am</th>\n",
       "      <th>...</th>\n",
       "      <th>Humidity9am</th>\n",
       "      <th>Humidity3pm</th>\n",
       "      <th>Pressure9am</th>\n",
       "      <th>Pressure3pm</th>\n",
       "      <th>Cloud9am</th>\n",
       "      <th>Cloud3pm</th>\n",
       "      <th>Temp9am</th>\n",
       "      <th>Temp3pm</th>\n",
       "      <th>RISK_MM</th>\n",
       "      <th>RainTomorrow</th>\n",
       "    </tr>\n",
       "  </thead>\n",
       "  <tbody>\n",
       "    <tr>\n",
       "      <th>Date</th>\n",
       "      <td>1.000000</td>\n",
       "      <td>0.003788</td>\n",
       "      <td>-0.201592</td>\n",
       "      <td>-0.162034</td>\n",
       "      <td>-0.030537</td>\n",
       "      <td>-0.026410</td>\n",
       "      <td>0.024974</td>\n",
       "      <td>-0.085002</td>\n",
       "      <td>0.060800</td>\n",
       "      <td>-0.062968</td>\n",
       "      <td>...</td>\n",
       "      <td>-0.090145</td>\n",
       "      <td>-0.018086</td>\n",
       "      <td>0.032787</td>\n",
       "      <td>0.023361</td>\n",
       "      <td>-0.009580</td>\n",
       "      <td>-0.004025</td>\n",
       "      <td>-0.134122</td>\n",
       "      <td>-0.173275</td>\n",
       "      <td>-0.031640</td>\n",
       "      <td>0.007626</td>\n",
       "    </tr>\n",
       "    <tr>\n",
       "      <th>Location</th>\n",
       "      <td>0.003788</td>\n",
       "      <td>1.000000</td>\n",
       "      <td>0.071677</td>\n",
       "      <td>0.105195</td>\n",
       "      <td>-0.017604</td>\n",
       "      <td>0.060999</td>\n",
       "      <td>0.076659</td>\n",
       "      <td>0.078365</td>\n",
       "      <td>0.048776</td>\n",
       "      <td>0.072718</td>\n",
       "      <td>...</td>\n",
       "      <td>-0.143637</td>\n",
       "      <td>-0.086859</td>\n",
       "      <td>-0.103491</td>\n",
       "      <td>-0.108360</td>\n",
       "      <td>-0.063706</td>\n",
       "      <td>-0.065882</td>\n",
       "      <td>0.115088</td>\n",
       "      <td>0.093380</td>\n",
       "      <td>-0.017564</td>\n",
       "      <td>-0.009608</td>\n",
       "    </tr>\n",
       "    <tr>\n",
       "      <th>MinTemp</th>\n",
       "      <td>-0.201592</td>\n",
       "      <td>0.071677</td>\n",
       "      <td>1.000000</td>\n",
       "      <td>0.736267</td>\n",
       "      <td>0.104255</td>\n",
       "      <td>0.467261</td>\n",
       "      <td>0.072961</td>\n",
       "      <td>0.125033</td>\n",
       "      <td>0.177285</td>\n",
       "      <td>0.121985</td>\n",
       "      <td>...</td>\n",
       "      <td>-0.234211</td>\n",
       "      <td>0.005999</td>\n",
       "      <td>-0.451260</td>\n",
       "      <td>-0.461623</td>\n",
       "      <td>0.077625</td>\n",
       "      <td>0.020489</td>\n",
       "      <td>0.901813</td>\n",
       "      <td>0.708865</td>\n",
       "      <td>0.124743</td>\n",
       "      <td>0.083936</td>\n",
       "    </tr>\n",
       "    <tr>\n",
       "      <th>MaxTemp</th>\n",
       "      <td>-0.162034</td>\n",
       "      <td>0.105195</td>\n",
       "      <td>0.736267</td>\n",
       "      <td>1.000000</td>\n",
       "      <td>-0.074839</td>\n",
       "      <td>0.588915</td>\n",
       "      <td>0.469967</td>\n",
       "      <td>0.115910</td>\n",
       "      <td>0.067690</td>\n",
       "      <td>0.142334</td>\n",
       "      <td>...</td>\n",
       "      <td>-0.505432</td>\n",
       "      <td>-0.509270</td>\n",
       "      <td>-0.332293</td>\n",
       "      <td>-0.427279</td>\n",
       "      <td>-0.289865</td>\n",
       "      <td>-0.279053</td>\n",
       "      <td>0.887020</td>\n",
       "      <td>0.984562</td>\n",
       "      <td>-0.044208</td>\n",
       "      <td>-0.159237</td>\n",
       "    </tr>\n",
       "    <tr>\n",
       "      <th>Rainfall</th>\n",
       "      <td>-0.030537</td>\n",
       "      <td>-0.017604</td>\n",
       "      <td>0.104255</td>\n",
       "      <td>-0.074839</td>\n",
       "      <td>1.000000</td>\n",
       "      <td>-0.064549</td>\n",
       "      <td>-0.227525</td>\n",
       "      <td>0.008104</td>\n",
       "      <td>0.133497</td>\n",
       "      <td>-0.010493</td>\n",
       "      <td>...</td>\n",
       "      <td>0.223725</td>\n",
       "      <td>0.255312</td>\n",
       "      <td>-0.168085</td>\n",
       "      <td>-0.126728</td>\n",
       "      <td>0.198195</td>\n",
       "      <td>0.171993</td>\n",
       "      <td>0.011477</td>\n",
       "      <td>-0.079178</td>\n",
       "      <td>0.308557</td>\n",
       "      <td>0.239032</td>\n",
       "    </tr>\n",
       "    <tr>\n",
       "      <th>Evaporation</th>\n",
       "      <td>-0.026410</td>\n",
       "      <td>0.060999</td>\n",
       "      <td>0.467261</td>\n",
       "      <td>0.588915</td>\n",
       "      <td>-0.064549</td>\n",
       "      <td>1.000000</td>\n",
       "      <td>0.366607</td>\n",
       "      <td>0.095311</td>\n",
       "      <td>0.203001</td>\n",
       "      <td>0.130707</td>\n",
       "      <td>...</td>\n",
       "      <td>-0.505890</td>\n",
       "      <td>-0.392785</td>\n",
       "      <td>-0.269907</td>\n",
       "      <td>-0.293160</td>\n",
       "      <td>-0.185032</td>\n",
       "      <td>-0.184287</td>\n",
       "      <td>0.545497</td>\n",
       "      <td>0.574275</td>\n",
       "      <td>-0.043498</td>\n",
       "      <td>-0.119285</td>\n",
       "    </tr>\n",
       "    <tr>\n",
       "      <th>Sunshine</th>\n",
       "      <td>0.024974</td>\n",
       "      <td>0.076659</td>\n",
       "      <td>0.072961</td>\n",
       "      <td>0.469967</td>\n",
       "      <td>-0.227525</td>\n",
       "      <td>0.366607</td>\n",
       "      <td>1.000000</td>\n",
       "      <td>0.068251</td>\n",
       "      <td>-0.032831</td>\n",
       "      <td>0.105072</td>\n",
       "      <td>...</td>\n",
       "      <td>-0.491603</td>\n",
       "      <td>-0.629122</td>\n",
       "      <td>0.040959</td>\n",
       "      <td>-0.020464</td>\n",
       "      <td>-0.675610</td>\n",
       "      <td>-0.704202</td>\n",
       "      <td>0.291139</td>\n",
       "      <td>0.490180</td>\n",
       "      <td>-0.294973</td>\n",
       "      <td>-0.450768</td>\n",
       "    </tr>\n",
       "    <tr>\n",
       "      <th>WindGustDir</th>\n",
       "      <td>-0.085002</td>\n",
       "      <td>0.078365</td>\n",
       "      <td>0.125033</td>\n",
       "      <td>0.115910</td>\n",
       "      <td>0.008104</td>\n",
       "      <td>0.095311</td>\n",
       "      <td>0.068251</td>\n",
       "      <td>1.000000</td>\n",
       "      <td>-0.094178</td>\n",
       "      <td>0.360319</td>\n",
       "      <td>...</td>\n",
       "      <td>-0.037731</td>\n",
       "      <td>-0.017460</td>\n",
       "      <td>0.142647</td>\n",
       "      <td>0.137361</td>\n",
       "      <td>-0.045577</td>\n",
       "      <td>-0.076478</td>\n",
       "      <td>0.120984</td>\n",
       "      <td>0.118793</td>\n",
       "      <td>0.003477</td>\n",
       "      <td>-0.059799</td>\n",
       "    </tr>\n",
       "    <tr>\n",
       "      <th>WindGustSpeed</th>\n",
       "      <td>0.060800</td>\n",
       "      <td>0.048776</td>\n",
       "      <td>0.177285</td>\n",
       "      <td>0.067690</td>\n",
       "      <td>0.133497</td>\n",
       "      <td>0.203001</td>\n",
       "      <td>-0.032831</td>\n",
       "      <td>-0.094178</td>\n",
       "      <td>1.000000</td>\n",
       "      <td>-0.106004</td>\n",
       "      <td>...</td>\n",
       "      <td>-0.215461</td>\n",
       "      <td>-0.026663</td>\n",
       "      <td>-0.457891</td>\n",
       "      <td>-0.412922</td>\n",
       "      <td>0.071235</td>\n",
       "      <td>0.109088</td>\n",
       "      <td>0.150258</td>\n",
       "      <td>0.032970</td>\n",
       "      <td>0.162923</td>\n",
       "      <td>0.234010</td>\n",
       "    </tr>\n",
       "    <tr>\n",
       "      <th>WindDir9am</th>\n",
       "      <td>-0.062968</td>\n",
       "      <td>0.072718</td>\n",
       "      <td>0.121985</td>\n",
       "      <td>0.142334</td>\n",
       "      <td>-0.010493</td>\n",
       "      <td>0.130707</td>\n",
       "      <td>0.105072</td>\n",
       "      <td>0.360319</td>\n",
       "      <td>-0.106004</td>\n",
       "      <td>1.000000</td>\n",
       "      <td>...</td>\n",
       "      <td>-0.067739</td>\n",
       "      <td>-0.066707</td>\n",
       "      <td>0.103914</td>\n",
       "      <td>0.081280</td>\n",
       "      <td>-0.051769</td>\n",
       "      <td>-0.095723</td>\n",
       "      <td>0.132260</td>\n",
       "      <td>0.152863</td>\n",
       "      <td>-0.009585</td>\n",
       "      <td>-0.081186</td>\n",
       "    </tr>\n",
       "    <tr>\n",
       "      <th>WindDir3pm</th>\n",
       "      <td>-0.080037</td>\n",
       "      <td>0.024718</td>\n",
       "      <td>0.102732</td>\n",
       "      <td>0.051287</td>\n",
       "      <td>0.007710</td>\n",
       "      <td>0.057758</td>\n",
       "      <td>0.019813</td>\n",
       "      <td>0.482976</td>\n",
       "      <td>-0.107384</td>\n",
       "      <td>0.297095</td>\n",
       "      <td>...</td>\n",
       "      <td>-0.007466</td>\n",
       "      <td>0.038784</td>\n",
       "      <td>0.170206</td>\n",
       "      <td>0.176276</td>\n",
       "      <td>-0.020167</td>\n",
       "      <td>-0.048131</td>\n",
       "      <td>0.078567</td>\n",
       "      <td>0.048615</td>\n",
       "      <td>0.005906</td>\n",
       "      <td>-0.048468</td>\n",
       "    </tr>\n",
       "    <tr>\n",
       "      <th>WindSpeed9am</th>\n",
       "      <td>0.050656</td>\n",
       "      <td>0.073820</td>\n",
       "      <td>0.176005</td>\n",
       "      <td>0.014680</td>\n",
       "      <td>0.086816</td>\n",
       "      <td>0.193936</td>\n",
       "      <td>0.008040</td>\n",
       "      <td>0.009586</td>\n",
       "      <td>0.604837</td>\n",
       "      <td>-0.004130</td>\n",
       "      <td>...</td>\n",
       "      <td>-0.270807</td>\n",
       "      <td>-0.031607</td>\n",
       "      <td>-0.227923</td>\n",
       "      <td>-0.174916</td>\n",
       "      <td>0.024280</td>\n",
       "      <td>0.053584</td>\n",
       "      <td>0.129298</td>\n",
       "      <td>0.005108</td>\n",
       "      <td>0.069404</td>\n",
       "      <td>0.090995</td>\n",
       "    </tr>\n",
       "    <tr>\n",
       "      <th>WindSpeed3pm</th>\n",
       "      <td>0.060646</td>\n",
       "      <td>0.048956</td>\n",
       "      <td>0.175749</td>\n",
       "      <td>0.050800</td>\n",
       "      <td>0.057759</td>\n",
       "      <td>0.128895</td>\n",
       "      <td>0.056012</td>\n",
       "      <td>-0.069698</td>\n",
       "      <td>0.686419</td>\n",
       "      <td>-0.064252</td>\n",
       "      <td>...</td>\n",
       "      <td>-0.145942</td>\n",
       "      <td>0.015903</td>\n",
       "      <td>-0.295567</td>\n",
       "      <td>-0.254988</td>\n",
       "      <td>0.052780</td>\n",
       "      <td>0.025269</td>\n",
       "      <td>0.163601</td>\n",
       "      <td>0.028567</td>\n",
       "      <td>0.049240</td>\n",
       "      <td>0.087817</td>\n",
       "    </tr>\n",
       "    <tr>\n",
       "      <th>Humidity9am</th>\n",
       "      <td>-0.090145</td>\n",
       "      <td>-0.143637</td>\n",
       "      <td>-0.234211</td>\n",
       "      <td>-0.505432</td>\n",
       "      <td>0.223725</td>\n",
       "      <td>-0.505890</td>\n",
       "      <td>-0.491603</td>\n",
       "      <td>-0.037731</td>\n",
       "      <td>-0.215461</td>\n",
       "      <td>-0.067739</td>\n",
       "      <td>...</td>\n",
       "      <td>1.000000</td>\n",
       "      <td>0.667388</td>\n",
       "      <td>0.139519</td>\n",
       "      <td>0.186955</td>\n",
       "      <td>0.452182</td>\n",
       "      <td>0.358043</td>\n",
       "      <td>-0.472826</td>\n",
       "      <td>-0.499777</td>\n",
       "      <td>0.172417</td>\n",
       "      <td>0.257161</td>\n",
       "    </tr>\n",
       "    <tr>\n",
       "      <th>Humidity3pm</th>\n",
       "      <td>-0.018086</td>\n",
       "      <td>-0.086859</td>\n",
       "      <td>0.005999</td>\n",
       "      <td>-0.509270</td>\n",
       "      <td>0.255312</td>\n",
       "      <td>-0.392785</td>\n",
       "      <td>-0.629122</td>\n",
       "      <td>-0.017460</td>\n",
       "      <td>-0.026663</td>\n",
       "      <td>-0.066707</td>\n",
       "      <td>...</td>\n",
       "      <td>0.667388</td>\n",
       "      <td>1.000000</td>\n",
       "      <td>-0.027449</td>\n",
       "      <td>0.051840</td>\n",
       "      <td>0.517037</td>\n",
       "      <td>0.523270</td>\n",
       "      <td>-0.221467</td>\n",
       "      <td>-0.557989</td>\n",
       "      <td>0.313183</td>\n",
       "      <td>0.446160</td>\n",
       "    </tr>\n",
       "    <tr>\n",
       "      <th>Pressure9am</th>\n",
       "      <td>0.032787</td>\n",
       "      <td>-0.103491</td>\n",
       "      <td>-0.451260</td>\n",
       "      <td>-0.332293</td>\n",
       "      <td>-0.168085</td>\n",
       "      <td>-0.269907</td>\n",
       "      <td>0.040959</td>\n",
       "      <td>0.142647</td>\n",
       "      <td>-0.457891</td>\n",
       "      <td>0.103914</td>\n",
       "      <td>...</td>\n",
       "      <td>0.139519</td>\n",
       "      <td>-0.027449</td>\n",
       "      <td>1.000000</td>\n",
       "      <td>0.961348</td>\n",
       "      <td>-0.130081</td>\n",
       "      <td>-0.148139</td>\n",
       "      <td>-0.422773</td>\n",
       "      <td>-0.287301</td>\n",
       "      <td>-0.163673</td>\n",
       "      <td>-0.246371</td>\n",
       "    </tr>\n",
       "    <tr>\n",
       "      <th>Pressure3pm</th>\n",
       "      <td>0.023361</td>\n",
       "      <td>-0.108360</td>\n",
       "      <td>-0.461623</td>\n",
       "      <td>-0.427279</td>\n",
       "      <td>-0.126728</td>\n",
       "      <td>-0.293160</td>\n",
       "      <td>-0.020464</td>\n",
       "      <td>0.137361</td>\n",
       "      <td>-0.412922</td>\n",
       "      <td>0.081280</td>\n",
       "      <td>...</td>\n",
       "      <td>0.186955</td>\n",
       "      <td>0.051840</td>\n",
       "      <td>0.961348</td>\n",
       "      <td>1.000000</td>\n",
       "      <td>-0.061152</td>\n",
       "      <td>-0.084963</td>\n",
       "      <td>-0.470325</td>\n",
       "      <td>-0.389863</td>\n",
       "      <td>-0.164184</td>\n",
       "      <td>-0.226031</td>\n",
       "    </tr>\n",
       "    <tr>\n",
       "      <th>Cloud9am</th>\n",
       "      <td>-0.009580</td>\n",
       "      <td>-0.063706</td>\n",
       "      <td>0.077625</td>\n",
       "      <td>-0.289865</td>\n",
       "      <td>0.198195</td>\n",
       "      <td>-0.185032</td>\n",
       "      <td>-0.675610</td>\n",
       "      <td>-0.045577</td>\n",
       "      <td>0.071235</td>\n",
       "      <td>-0.051769</td>\n",
       "      <td>...</td>\n",
       "      <td>0.452182</td>\n",
       "      <td>0.517037</td>\n",
       "      <td>-0.130081</td>\n",
       "      <td>-0.061152</td>\n",
       "      <td>1.000000</td>\n",
       "      <td>0.604118</td>\n",
       "      <td>-0.137843</td>\n",
       "      <td>-0.302520</td>\n",
       "      <td>0.198095</td>\n",
       "      <td>0.317380</td>\n",
       "    </tr>\n",
       "    <tr>\n",
       "      <th>Cloud3pm</th>\n",
       "      <td>-0.004025</td>\n",
       "      <td>-0.065882</td>\n",
       "      <td>0.020489</td>\n",
       "      <td>-0.279053</td>\n",
       "      <td>0.171993</td>\n",
       "      <td>-0.184287</td>\n",
       "      <td>-0.704202</td>\n",
       "      <td>-0.076478</td>\n",
       "      <td>0.109088</td>\n",
       "      <td>-0.095723</td>\n",
       "      <td>...</td>\n",
       "      <td>0.358043</td>\n",
       "      <td>0.523270</td>\n",
       "      <td>-0.148139</td>\n",
       "      <td>-0.084963</td>\n",
       "      <td>0.604118</td>\n",
       "      <td>1.000000</td>\n",
       "      <td>-0.127869</td>\n",
       "      <td>-0.318254</td>\n",
       "      <td>0.234814</td>\n",
       "      <td>0.381870</td>\n",
       "    </tr>\n",
       "    <tr>\n",
       "      <th>Temp9am</th>\n",
       "      <td>-0.134122</td>\n",
       "      <td>0.115088</td>\n",
       "      <td>0.901813</td>\n",
       "      <td>0.887020</td>\n",
       "      <td>0.011477</td>\n",
       "      <td>0.545497</td>\n",
       "      <td>0.291139</td>\n",
       "      <td>0.120984</td>\n",
       "      <td>0.150258</td>\n",
       "      <td>0.132260</td>\n",
       "      <td>...</td>\n",
       "      <td>-0.472826</td>\n",
       "      <td>-0.221467</td>\n",
       "      <td>-0.422773</td>\n",
       "      <td>-0.470325</td>\n",
       "      <td>-0.137843</td>\n",
       "      <td>-0.127869</td>\n",
       "      <td>1.000000</td>\n",
       "      <td>0.860574</td>\n",
       "      <td>0.051232</td>\n",
       "      <td>-0.025691</td>\n",
       "    </tr>\n",
       "    <tr>\n",
       "      <th>Temp3pm</th>\n",
       "      <td>-0.173275</td>\n",
       "      <td>0.093380</td>\n",
       "      <td>0.708865</td>\n",
       "      <td>0.984562</td>\n",
       "      <td>-0.079178</td>\n",
       "      <td>0.574275</td>\n",
       "      <td>0.490180</td>\n",
       "      <td>0.118793</td>\n",
       "      <td>0.032970</td>\n",
       "      <td>0.152863</td>\n",
       "      <td>...</td>\n",
       "      <td>-0.499777</td>\n",
       "      <td>-0.557989</td>\n",
       "      <td>-0.287301</td>\n",
       "      <td>-0.389863</td>\n",
       "      <td>-0.302520</td>\n",
       "      <td>-0.318254</td>\n",
       "      <td>0.860574</td>\n",
       "      <td>1.000000</td>\n",
       "      <td>-0.066817</td>\n",
       "      <td>-0.192424</td>\n",
       "    </tr>\n",
       "    <tr>\n",
       "      <th>RISK_MM</th>\n",
       "      <td>-0.031640</td>\n",
       "      <td>-0.017564</td>\n",
       "      <td>0.124743</td>\n",
       "      <td>-0.044208</td>\n",
       "      <td>0.308557</td>\n",
       "      <td>-0.043498</td>\n",
       "      <td>-0.294973</td>\n",
       "      <td>0.003477</td>\n",
       "      <td>0.162923</td>\n",
       "      <td>-0.009585</td>\n",
       "      <td>...</td>\n",
       "      <td>0.172417</td>\n",
       "      <td>0.313183</td>\n",
       "      <td>-0.163673</td>\n",
       "      <td>-0.164184</td>\n",
       "      <td>0.198095</td>\n",
       "      <td>0.234814</td>\n",
       "      <td>0.051232</td>\n",
       "      <td>-0.066817</td>\n",
       "      <td>1.000000</td>\n",
       "      <td>0.501485</td>\n",
       "    </tr>\n",
       "    <tr>\n",
       "      <th>RainTomorrow</th>\n",
       "      <td>0.007626</td>\n",
       "      <td>-0.009608</td>\n",
       "      <td>0.083936</td>\n",
       "      <td>-0.159237</td>\n",
       "      <td>0.239032</td>\n",
       "      <td>-0.119285</td>\n",
       "      <td>-0.450768</td>\n",
       "      <td>-0.059799</td>\n",
       "      <td>0.234010</td>\n",
       "      <td>-0.081186</td>\n",
       "      <td>...</td>\n",
       "      <td>0.257161</td>\n",
       "      <td>0.446160</td>\n",
       "      <td>-0.246371</td>\n",
       "      <td>-0.226031</td>\n",
       "      <td>0.317380</td>\n",
       "      <td>0.381870</td>\n",
       "      <td>-0.025691</td>\n",
       "      <td>-0.192424</td>\n",
       "      <td>0.501485</td>\n",
       "      <td>1.000000</td>\n",
       "    </tr>\n",
       "  </tbody>\n",
       "</table>\n",
       "<p>23 rows × 23 columns</p>\n",
       "</div>"
      ],
      "text/plain": [
       "                   Date  Location   MinTemp   MaxTemp  Rainfall  Evaporation  \\\n",
       "Date           1.000000  0.003788 -0.201592 -0.162034 -0.030537    -0.026410   \n",
       "Location       0.003788  1.000000  0.071677  0.105195 -0.017604     0.060999   \n",
       "MinTemp       -0.201592  0.071677  1.000000  0.736267  0.104255     0.467261   \n",
       "MaxTemp       -0.162034  0.105195  0.736267  1.000000 -0.074839     0.588915   \n",
       "Rainfall      -0.030537 -0.017604  0.104255 -0.074839  1.000000    -0.064549   \n",
       "Evaporation   -0.026410  0.060999  0.467261  0.588915 -0.064549     1.000000   \n",
       "Sunshine       0.024974  0.076659  0.072961  0.469967 -0.227525     0.366607   \n",
       "WindGustDir   -0.085002  0.078365  0.125033  0.115910  0.008104     0.095311   \n",
       "WindGustSpeed  0.060800  0.048776  0.177285  0.067690  0.133497     0.203001   \n",
       "WindDir9am    -0.062968  0.072718  0.121985  0.142334 -0.010493     0.130707   \n",
       "WindDir3pm    -0.080037  0.024718  0.102732  0.051287  0.007710     0.057758   \n",
       "WindSpeed9am   0.050656  0.073820  0.176005  0.014680  0.086816     0.193936   \n",
       "WindSpeed3pm   0.060646  0.048956  0.175749  0.050800  0.057759     0.128895   \n",
       "Humidity9am   -0.090145 -0.143637 -0.234211 -0.505432  0.223725    -0.505890   \n",
       "Humidity3pm   -0.018086 -0.086859  0.005999 -0.509270  0.255312    -0.392785   \n",
       "Pressure9am    0.032787 -0.103491 -0.451260 -0.332293 -0.168085    -0.269907   \n",
       "Pressure3pm    0.023361 -0.108360 -0.461623 -0.427279 -0.126728    -0.293160   \n",
       "Cloud9am      -0.009580 -0.063706  0.077625 -0.289865  0.198195    -0.185032   \n",
       "Cloud3pm      -0.004025 -0.065882  0.020489 -0.279053  0.171993    -0.184287   \n",
       "Temp9am       -0.134122  0.115088  0.901813  0.887020  0.011477     0.545497   \n",
       "Temp3pm       -0.173275  0.093380  0.708865  0.984562 -0.079178     0.574275   \n",
       "RISK_MM       -0.031640 -0.017564  0.124743 -0.044208  0.308557    -0.043498   \n",
       "RainTomorrow   0.007626 -0.009608  0.083936 -0.159237  0.239032    -0.119285   \n",
       "\n",
       "               Sunshine  WindGustDir  WindGustSpeed  WindDir9am  ...  \\\n",
       "Date           0.024974    -0.085002       0.060800   -0.062968  ...   \n",
       "Location       0.076659     0.078365       0.048776    0.072718  ...   \n",
       "MinTemp        0.072961     0.125033       0.177285    0.121985  ...   \n",
       "MaxTemp        0.469967     0.115910       0.067690    0.142334  ...   \n",
       "Rainfall      -0.227525     0.008104       0.133497   -0.010493  ...   \n",
       "Evaporation    0.366607     0.095311       0.203001    0.130707  ...   \n",
       "Sunshine       1.000000     0.068251      -0.032831    0.105072  ...   \n",
       "WindGustDir    0.068251     1.000000      -0.094178    0.360319  ...   \n",
       "WindGustSpeed -0.032831    -0.094178       1.000000   -0.106004  ...   \n",
       "WindDir9am     0.105072     0.360319      -0.106004    1.000000  ...   \n",
       "WindDir3pm     0.019813     0.482976      -0.107384    0.297095  ...   \n",
       "WindSpeed9am   0.008040     0.009586       0.604837   -0.004130  ...   \n",
       "WindSpeed3pm   0.056012    -0.069698       0.686419   -0.064252  ...   \n",
       "Humidity9am   -0.491603    -0.037731      -0.215461   -0.067739  ...   \n",
       "Humidity3pm   -0.629122    -0.017460      -0.026663   -0.066707  ...   \n",
       "Pressure9am    0.040959     0.142647      -0.457891    0.103914  ...   \n",
       "Pressure3pm   -0.020464     0.137361      -0.412922    0.081280  ...   \n",
       "Cloud9am      -0.675610    -0.045577       0.071235   -0.051769  ...   \n",
       "Cloud3pm      -0.704202    -0.076478       0.109088   -0.095723  ...   \n",
       "Temp9am        0.291139     0.120984       0.150258    0.132260  ...   \n",
       "Temp3pm        0.490180     0.118793       0.032970    0.152863  ...   \n",
       "RISK_MM       -0.294973     0.003477       0.162923   -0.009585  ...   \n",
       "RainTomorrow  -0.450768    -0.059799       0.234010   -0.081186  ...   \n",
       "\n",
       "               Humidity9am  Humidity3pm  Pressure9am  Pressure3pm  Cloud9am  \\\n",
       "Date             -0.090145    -0.018086     0.032787     0.023361 -0.009580   \n",
       "Location         -0.143637    -0.086859    -0.103491    -0.108360 -0.063706   \n",
       "MinTemp          -0.234211     0.005999    -0.451260    -0.461623  0.077625   \n",
       "MaxTemp          -0.505432    -0.509270    -0.332293    -0.427279 -0.289865   \n",
       "Rainfall          0.223725     0.255312    -0.168085    -0.126728  0.198195   \n",
       "Evaporation      -0.505890    -0.392785    -0.269907    -0.293160 -0.185032   \n",
       "Sunshine         -0.491603    -0.629122     0.040959    -0.020464 -0.675610   \n",
       "WindGustDir      -0.037731    -0.017460     0.142647     0.137361 -0.045577   \n",
       "WindGustSpeed    -0.215461    -0.026663    -0.457891    -0.412922  0.071235   \n",
       "WindDir9am       -0.067739    -0.066707     0.103914     0.081280 -0.051769   \n",
       "WindDir3pm       -0.007466     0.038784     0.170206     0.176276 -0.020167   \n",
       "WindSpeed9am     -0.270807    -0.031607    -0.227923    -0.174916  0.024280   \n",
       "WindSpeed3pm     -0.145942     0.015903    -0.295567    -0.254988  0.052780   \n",
       "Humidity9am       1.000000     0.667388     0.139519     0.186955  0.452182   \n",
       "Humidity3pm       0.667388     1.000000    -0.027449     0.051840  0.517037   \n",
       "Pressure9am       0.139519    -0.027449     1.000000     0.961348 -0.130081   \n",
       "Pressure3pm       0.186955     0.051840     0.961348     1.000000 -0.061152   \n",
       "Cloud9am          0.452182     0.517037    -0.130081    -0.061152  1.000000   \n",
       "Cloud3pm          0.358043     0.523270    -0.148139    -0.084963  0.604118   \n",
       "Temp9am          -0.472826    -0.221467    -0.422773    -0.470325 -0.137843   \n",
       "Temp3pm          -0.499777    -0.557989    -0.287301    -0.389863 -0.302520   \n",
       "RISK_MM           0.172417     0.313183    -0.163673    -0.164184  0.198095   \n",
       "RainTomorrow      0.257161     0.446160    -0.246371    -0.226031  0.317380   \n",
       "\n",
       "               Cloud3pm   Temp9am   Temp3pm   RISK_MM  RainTomorrow  \n",
       "Date          -0.004025 -0.134122 -0.173275 -0.031640      0.007626  \n",
       "Location      -0.065882  0.115088  0.093380 -0.017564     -0.009608  \n",
       "MinTemp        0.020489  0.901813  0.708865  0.124743      0.083936  \n",
       "MaxTemp       -0.279053  0.887020  0.984562 -0.044208     -0.159237  \n",
       "Rainfall       0.171993  0.011477 -0.079178  0.308557      0.239032  \n",
       "Evaporation   -0.184287  0.545497  0.574275 -0.043498     -0.119285  \n",
       "Sunshine      -0.704202  0.291139  0.490180 -0.294973     -0.450768  \n",
       "WindGustDir   -0.076478  0.120984  0.118793  0.003477     -0.059799  \n",
       "WindGustSpeed  0.109088  0.150258  0.032970  0.162923      0.234010  \n",
       "WindDir9am    -0.095723  0.132260  0.152863 -0.009585     -0.081186  \n",
       "WindDir3pm    -0.048131  0.078567  0.048615  0.005906     -0.048468  \n",
       "WindSpeed9am   0.053584  0.129298  0.005108  0.069404      0.090995  \n",
       "WindSpeed3pm   0.025269  0.163601  0.028567  0.049240      0.087817  \n",
       "Humidity9am    0.358043 -0.472826 -0.499777  0.172417      0.257161  \n",
       "Humidity3pm    0.523270 -0.221467 -0.557989  0.313183      0.446160  \n",
       "Pressure9am   -0.148139 -0.422773 -0.287301 -0.163673     -0.246371  \n",
       "Pressure3pm   -0.084963 -0.470325 -0.389863 -0.164184     -0.226031  \n",
       "Cloud9am       0.604118 -0.137843 -0.302520  0.198095      0.317380  \n",
       "Cloud3pm       1.000000 -0.127869 -0.318254  0.234814      0.381870  \n",
       "Temp9am       -0.127869  1.000000  0.860574  0.051232     -0.025691  \n",
       "Temp3pm       -0.318254  0.860574  1.000000 -0.066817     -0.192424  \n",
       "RISK_MM        0.234814  0.051232 -0.066817  1.000000      0.501485  \n",
       "RainTomorrow   0.381870 -0.025691 -0.192424  0.501485      1.000000  \n",
       "\n",
       "[23 rows x 23 columns]"
      ]
     },
     "execution_count": 148,
     "metadata": {},
     "output_type": "execute_result"
    }
   ],
   "source": [
    "df.corr()"
   ]
  },
  {
   "cell_type": "markdown",
   "metadata": {},
   "source": [
    "Отсюда видно, что их корреляция самая большая - 0.5. Есть и другие скорелированные признаки, но их корреляцию можно объяснить логичски (например, связь влажности и облачности в 3 часа предыдущего дня с дождём завтра - прямая, а вот с sunshine - обратная, на что указывает минус)."
   ]
  },
  {
   "cell_type": "code",
   "execution_count": 149,
   "metadata": {},
   "outputs": [],
   "source": [
    "X = X.drop(\"RISK_MM\", axis=1)"
   ]
  },
  {
   "cell_type": "markdown",
   "metadata": {},
   "source": [
    "Также уберём температуру в 9 и 3 часа из=за её корреляции с максимальной и минимальной:"
   ]
  },
  {
   "cell_type": "code",
   "execution_count": 151,
   "metadata": {},
   "outputs": [],
   "source": [
    "X = X.drop([\"Temp9am\", \"Temp3pm\"], axis=1)"
   ]
  },
  {
   "cell_type": "code",
   "execution_count": 152,
   "metadata": {},
   "outputs": [],
   "source": [
    "X_train, X_test, y_train, y_test = train_test_split(X, Y, test_size=0.3, shuffle=False)\n",
    "X_train = X_train.fillna(np.median(X_train))\n",
    "X_test = X_test.fillna(np.median(X_test))"
   ]
  },
  {
   "cell_type": "code",
   "execution_count": 153,
   "metadata": {},
   "outputs": [
    {
     "data": {
      "text/html": [
       "<div>\n",
       "<style scoped>\n",
       "    .dataframe tbody tr th:only-of-type {\n",
       "        vertical-align: middle;\n",
       "    }\n",
       "\n",
       "    .dataframe tbody tr th {\n",
       "        vertical-align: top;\n",
       "    }\n",
       "\n",
       "    .dataframe thead th {\n",
       "        text-align: right;\n",
       "    }\n",
       "</style>\n",
       "<table border=\"1\" class=\"dataframe\">\n",
       "  <thead>\n",
       "    <tr style=\"text-align: right;\">\n",
       "      <th></th>\n",
       "      <th>Date</th>\n",
       "      <th>Location</th>\n",
       "      <th>MinTemp</th>\n",
       "      <th>MaxTemp</th>\n",
       "      <th>Rainfall</th>\n",
       "      <th>Evaporation</th>\n",
       "      <th>Sunshine</th>\n",
       "      <th>WindGustDir</th>\n",
       "      <th>WindGustSpeed</th>\n",
       "      <th>WindDir9am</th>\n",
       "      <th>WindDir3pm</th>\n",
       "      <th>WindSpeed9am</th>\n",
       "      <th>WindSpeed3pm</th>\n",
       "      <th>Humidity9am</th>\n",
       "      <th>Humidity3pm</th>\n",
       "      <th>Pressure9am</th>\n",
       "      <th>Pressure3pm</th>\n",
       "      <th>Cloud9am</th>\n",
       "      <th>Cloud3pm</th>\n",
       "      <th>RainToday</th>\n",
       "    </tr>\n",
       "  </thead>\n",
       "  <tbody>\n",
       "    <tr>\n",
       "      <th>99535</th>\n",
       "      <td>92</td>\n",
       "      <td>33</td>\n",
       "      <td>10.6</td>\n",
       "      <td>25.0</td>\n",
       "      <td>0.0</td>\n",
       "      <td>3.8</td>\n",
       "      <td>13.0</td>\n",
       "      <td>4.0</td>\n",
       "      <td>61.0</td>\n",
       "      <td>5.0</td>\n",
       "      <td>4.0</td>\n",
       "      <td>22.0</td>\n",
       "      <td>33.0</td>\n",
       "      <td>55.0</td>\n",
       "      <td>39.0</td>\n",
       "      <td>1011.9</td>\n",
       "      <td>1008.8</td>\n",
       "      <td>7.0</td>\n",
       "      <td>4.0</td>\n",
       "      <td>False</td>\n",
       "    </tr>\n",
       "    <tr>\n",
       "      <th>99536</th>\n",
       "      <td>93</td>\n",
       "      <td>33</td>\n",
       "      <td>12.2</td>\n",
       "      <td>19.9</td>\n",
       "      <td>0.6</td>\n",
       "      <td>13.0</td>\n",
       "      <td>13.0</td>\n",
       "      <td>15.0</td>\n",
       "      <td>43.0</td>\n",
       "      <td>2.0</td>\n",
       "      <td>7.0</td>\n",
       "      <td>11.0</td>\n",
       "      <td>26.0</td>\n",
       "      <td>83.0</td>\n",
       "      <td>32.0</td>\n",
       "      <td>1019.0</td>\n",
       "      <td>1021.5</td>\n",
       "      <td>6.0</td>\n",
       "      <td>5.0</td>\n",
       "      <td>False</td>\n",
       "    </tr>\n",
       "    <tr>\n",
       "      <th>99537</th>\n",
       "      <td>94</td>\n",
       "      <td>33</td>\n",
       "      <td>5.9</td>\n",
       "      <td>20.2</td>\n",
       "      <td>0.0</td>\n",
       "      <td>13.0</td>\n",
       "      <td>13.0</td>\n",
       "      <td>10.0</td>\n",
       "      <td>31.0</td>\n",
       "      <td>7.0</td>\n",
       "      <td>10.0</td>\n",
       "      <td>7.0</td>\n",
       "      <td>19.0</td>\n",
       "      <td>55.0</td>\n",
       "      <td>45.0</td>\n",
       "      <td>1028.4</td>\n",
       "      <td>1025.5</td>\n",
       "      <td>6.0</td>\n",
       "      <td>3.0</td>\n",
       "      <td>False</td>\n",
       "    </tr>\n",
       "    <tr>\n",
       "      <th>99538</th>\n",
       "      <td>95</td>\n",
       "      <td>33</td>\n",
       "      <td>3.4</td>\n",
       "      <td>23.3</td>\n",
       "      <td>0.0</td>\n",
       "      <td>12.6</td>\n",
       "      <td>9.3</td>\n",
       "      <td>5.0</td>\n",
       "      <td>31.0</td>\n",
       "      <td>14.0</td>\n",
       "      <td>4.0</td>\n",
       "      <td>7.0</td>\n",
       "      <td>15.0</td>\n",
       "      <td>69.0</td>\n",
       "      <td>32.0</td>\n",
       "      <td>1022.9</td>\n",
       "      <td>1016.6</td>\n",
       "      <td>0.0</td>\n",
       "      <td>2.0</td>\n",
       "      <td>False</td>\n",
       "    </tr>\n",
       "    <tr>\n",
       "      <th>99539</th>\n",
       "      <td>96</td>\n",
       "      <td>33</td>\n",
       "      <td>10.1</td>\n",
       "      <td>23.5</td>\n",
       "      <td>0.0</td>\n",
       "      <td>4.0</td>\n",
       "      <td>3.2</td>\n",
       "      <td>11.0</td>\n",
       "      <td>52.0</td>\n",
       "      <td>4.0</td>\n",
       "      <td>7.0</td>\n",
       "      <td>22.0</td>\n",
       "      <td>19.0</td>\n",
       "      <td>36.0</td>\n",
       "      <td>87.0</td>\n",
       "      <td>1009.6</td>\n",
       "      <td>1011.2</td>\n",
       "      <td>7.0</td>\n",
       "      <td>8.0</td>\n",
       "      <td>False</td>\n",
       "    </tr>\n",
       "    <tr>\n",
       "      <th>...</th>\n",
       "      <td>...</td>\n",
       "      <td>...</td>\n",
       "      <td>...</td>\n",
       "      <td>...</td>\n",
       "      <td>...</td>\n",
       "      <td>...</td>\n",
       "      <td>...</td>\n",
       "      <td>...</td>\n",
       "      <td>...</td>\n",
       "      <td>...</td>\n",
       "      <td>...</td>\n",
       "      <td>...</td>\n",
       "      <td>...</td>\n",
       "      <td>...</td>\n",
       "      <td>...</td>\n",
       "      <td>...</td>\n",
       "      <td>...</td>\n",
       "      <td>...</td>\n",
       "      <td>...</td>\n",
       "      <td>...</td>\n",
       "    </tr>\n",
       "    <tr>\n",
       "      <th>142188</th>\n",
       "      <td>171</td>\n",
       "      <td>48</td>\n",
       "      <td>3.5</td>\n",
       "      <td>21.8</td>\n",
       "      <td>0.0</td>\n",
       "      <td>13.0</td>\n",
       "      <td>13.0</td>\n",
       "      <td>14.0</td>\n",
       "      <td>31.0</td>\n",
       "      <td>13.0</td>\n",
       "      <td>14.0</td>\n",
       "      <td>15.0</td>\n",
       "      <td>13.0</td>\n",
       "      <td>59.0</td>\n",
       "      <td>27.0</td>\n",
       "      <td>1024.7</td>\n",
       "      <td>1021.2</td>\n",
       "      <td>13.0</td>\n",
       "      <td>13.0</td>\n",
       "      <td>False</td>\n",
       "    </tr>\n",
       "    <tr>\n",
       "      <th>142189</th>\n",
       "      <td>172</td>\n",
       "      <td>48</td>\n",
       "      <td>2.8</td>\n",
       "      <td>23.4</td>\n",
       "      <td>0.0</td>\n",
       "      <td>13.0</td>\n",
       "      <td>13.0</td>\n",
       "      <td>14.0</td>\n",
       "      <td>31.0</td>\n",
       "      <td>12.0</td>\n",
       "      <td>8.0</td>\n",
       "      <td>13.0</td>\n",
       "      <td>11.0</td>\n",
       "      <td>51.0</td>\n",
       "      <td>24.0</td>\n",
       "      <td>1024.6</td>\n",
       "      <td>1020.3</td>\n",
       "      <td>13.0</td>\n",
       "      <td>13.0</td>\n",
       "      <td>False</td>\n",
       "    </tr>\n",
       "    <tr>\n",
       "      <th>142190</th>\n",
       "      <td>173</td>\n",
       "      <td>48</td>\n",
       "      <td>3.6</td>\n",
       "      <td>25.3</td>\n",
       "      <td>0.0</td>\n",
       "      <td>13.0</td>\n",
       "      <td>13.0</td>\n",
       "      <td>4.0</td>\n",
       "      <td>22.0</td>\n",
       "      <td>12.0</td>\n",
       "      <td>5.0</td>\n",
       "      <td>13.0</td>\n",
       "      <td>9.0</td>\n",
       "      <td>56.0</td>\n",
       "      <td>21.0</td>\n",
       "      <td>1023.5</td>\n",
       "      <td>1019.1</td>\n",
       "      <td>13.0</td>\n",
       "      <td>13.0</td>\n",
       "      <td>False</td>\n",
       "    </tr>\n",
       "    <tr>\n",
       "      <th>142191</th>\n",
       "      <td>174</td>\n",
       "      <td>48</td>\n",
       "      <td>5.4</td>\n",
       "      <td>26.9</td>\n",
       "      <td>0.0</td>\n",
       "      <td>13.0</td>\n",
       "      <td>13.0</td>\n",
       "      <td>5.0</td>\n",
       "      <td>37.0</td>\n",
       "      <td>12.0</td>\n",
       "      <td>1.0</td>\n",
       "      <td>9.0</td>\n",
       "      <td>9.0</td>\n",
       "      <td>53.0</td>\n",
       "      <td>24.0</td>\n",
       "      <td>1021.0</td>\n",
       "      <td>1016.8</td>\n",
       "      <td>13.0</td>\n",
       "      <td>13.0</td>\n",
       "      <td>False</td>\n",
       "    </tr>\n",
       "    <tr>\n",
       "      <th>142192</th>\n",
       "      <td>175</td>\n",
       "      <td>48</td>\n",
       "      <td>7.8</td>\n",
       "      <td>27.0</td>\n",
       "      <td>0.0</td>\n",
       "      <td>13.0</td>\n",
       "      <td>13.0</td>\n",
       "      <td>12.0</td>\n",
       "      <td>28.0</td>\n",
       "      <td>9.0</td>\n",
       "      <td>5.0</td>\n",
       "      <td>13.0</td>\n",
       "      <td>7.0</td>\n",
       "      <td>51.0</td>\n",
       "      <td>24.0</td>\n",
       "      <td>1019.4</td>\n",
       "      <td>1016.5</td>\n",
       "      <td>3.0</td>\n",
       "      <td>2.0</td>\n",
       "      <td>False</td>\n",
       "    </tr>\n",
       "  </tbody>\n",
       "</table>\n",
       "<p>42658 rows × 20 columns</p>\n",
       "</div>"
      ],
      "text/plain": [
       "        Date  Location  MinTemp  MaxTemp  Rainfall  Evaporation  Sunshine  \\\n",
       "99535     92        33     10.6     25.0       0.0          3.8      13.0   \n",
       "99536     93        33     12.2     19.9       0.6         13.0      13.0   \n",
       "99537     94        33      5.9     20.2       0.0         13.0      13.0   \n",
       "99538     95        33      3.4     23.3       0.0         12.6       9.3   \n",
       "99539     96        33     10.1     23.5       0.0          4.0       3.2   \n",
       "...      ...       ...      ...      ...       ...          ...       ...   \n",
       "142188   171        48      3.5     21.8       0.0         13.0      13.0   \n",
       "142189   172        48      2.8     23.4       0.0         13.0      13.0   \n",
       "142190   173        48      3.6     25.3       0.0         13.0      13.0   \n",
       "142191   174        48      5.4     26.9       0.0         13.0      13.0   \n",
       "142192   175        48      7.8     27.0       0.0         13.0      13.0   \n",
       "\n",
       "        WindGustDir  WindGustSpeed  WindDir9am  WindDir3pm  WindSpeed9am  \\\n",
       "99535           4.0           61.0         5.0         4.0          22.0   \n",
       "99536          15.0           43.0         2.0         7.0          11.0   \n",
       "99537          10.0           31.0         7.0        10.0           7.0   \n",
       "99538           5.0           31.0        14.0         4.0           7.0   \n",
       "99539          11.0           52.0         4.0         7.0          22.0   \n",
       "...             ...            ...         ...         ...           ...   \n",
       "142188         14.0           31.0        13.0        14.0          15.0   \n",
       "142189         14.0           31.0        12.0         8.0          13.0   \n",
       "142190          4.0           22.0        12.0         5.0          13.0   \n",
       "142191          5.0           37.0        12.0         1.0           9.0   \n",
       "142192         12.0           28.0         9.0         5.0          13.0   \n",
       "\n",
       "        WindSpeed3pm  Humidity9am  Humidity3pm  Pressure9am  Pressure3pm  \\\n",
       "99535           33.0         55.0         39.0       1011.9       1008.8   \n",
       "99536           26.0         83.0         32.0       1019.0       1021.5   \n",
       "99537           19.0         55.0         45.0       1028.4       1025.5   \n",
       "99538           15.0         69.0         32.0       1022.9       1016.6   \n",
       "99539           19.0         36.0         87.0       1009.6       1011.2   \n",
       "...              ...          ...          ...          ...          ...   \n",
       "142188          13.0         59.0         27.0       1024.7       1021.2   \n",
       "142189          11.0         51.0         24.0       1024.6       1020.3   \n",
       "142190           9.0         56.0         21.0       1023.5       1019.1   \n",
       "142191           9.0         53.0         24.0       1021.0       1016.8   \n",
       "142192           7.0         51.0         24.0       1019.4       1016.5   \n",
       "\n",
       "        Cloud9am  Cloud3pm RainToday  \n",
       "99535        7.0       4.0     False  \n",
       "99536        6.0       5.0     False  \n",
       "99537        6.0       3.0     False  \n",
       "99538        0.0       2.0     False  \n",
       "99539        7.0       8.0     False  \n",
       "...          ...       ...       ...  \n",
       "142188      13.0      13.0     False  \n",
       "142189      13.0      13.0     False  \n",
       "142190      13.0      13.0     False  \n",
       "142191      13.0      13.0     False  \n",
       "142192       3.0       2.0     False  \n",
       "\n",
       "[42658 rows x 20 columns]"
      ]
     },
     "execution_count": 153,
     "metadata": {},
     "output_type": "execute_result"
    }
   ],
   "source": [
    "X_test"
   ]
  },
  {
   "cell_type": "code",
   "execution_count": 157,
   "metadata": {},
   "outputs": [
    {
     "name": "stdout",
     "output_type": "stream",
     "text": [
      "Wall time: 356 ms\n"
     ]
    }
   ],
   "source": [
    "%%time\n",
    "classifier = GaussianNB()\n",
    "classifier.fit(X_train, y_train)\n",
    "prediction = classifier.predict(X_test)"
   ]
  },
  {
   "cell_type": "code",
   "execution_count": 158,
   "metadata": {},
   "outputs": [
    {
     "data": {
      "text/plain": [
       "0.8354353227999437"
      ]
     },
     "execution_count": 158,
     "metadata": {},
     "output_type": "execute_result"
    }
   ],
   "source": [
    "np.mean(prediction == y_test)"
   ]
  },
  {
   "cell_type": "markdown",
   "metadata": {},
   "source": [
    "Сейчас значение выглядит более реально. Здесь стоит зафиксировать факт малого времени исполнения вне зависимости от большого количества данных: 508 мс."
   ]
  },
  {
   "cell_type": "code",
   "execution_count": 159,
   "metadata": {},
   "outputs": [],
   "source": [
    "from sklearn.metrics import accuracy_score, confusion_matrix, precision_score, recall_score, f1_score\n",
    "from sklearn.metrics import plot_confusion_matrix, roc_auc_score"
   ]
  },
  {
   "cell_type": "code",
   "execution_count": 160,
   "metadata": {},
   "outputs": [
    {
     "data": {
      "image/png": "[encoded data removed]",
      "text/plain": [
       "<Figure size 432x288 with 2 Axes>"
      ]
     },
     "metadata": {
      "needs_background": "light"
     },
     "output_type": "display_data"
    }
   ],
   "source": [
    "plot_confusion_matrix(classifier, X_test, y_test)\n",
    "plt.show()"
   ]
  },
  {
   "cell_type": "code",
   "execution_count": 161,
   "metadata": {},
   "outputs": [
    {
     "data": {
      "text/plain": [
       "0.8354353227999437"
      ]
     },
     "execution_count": 161,
     "metadata": {},
     "output_type": "execute_result"
    }
   ],
   "source": [
    "accuracy_score(y_test, prediction)"
   ]
  },
  {
   "cell_type": "code",
   "execution_count": 162,
   "metadata": {},
   "outputs": [
    {
     "data": {
      "text/plain": [
       "0.6714697406340058"
      ]
     },
     "execution_count": 162,
     "metadata": {},
     "output_type": "execute_result"
    }
   ],
   "source": [
    "precision_score(y_test, prediction)"
   ]
  },
  {
   "cell_type": "code",
   "execution_count": 163,
   "metadata": {},
   "outputs": [
    {
     "data": {
      "text/plain": [
       "0.3969335604770017"
      ]
     },
     "execution_count": 163,
     "metadata": {},
     "output_type": "execute_result"
    }
   ],
   "source": [
    "recall_score(y_test, prediction)"
   ]
  },
  {
   "cell_type": "code",
   "execution_count": 164,
   "metadata": {},
   "outputs": [
    {
     "data": {
      "text/plain": [
       "0.4989293361884368"
      ]
     },
     "execution_count": 164,
     "metadata": {},
     "output_type": "execute_result"
    }
   ],
   "source": [
    "f1_score(y_test, prediction)"
   ]
  },
  {
   "cell_type": "code",
   "execution_count": 165,
   "metadata": {},
   "outputs": [
    {
     "data": {
      "text/plain": [
       "0.6732105252537137"
      ]
     },
     "execution_count": 165,
     "metadata": {},
     "output_type": "execute_result"
    }
   ],
   "source": [
    "roc_auc_score(y_test, prediction)"
   ]
  },
  {
   "cell_type": "markdown",
   "metadata": {},
   "source": [
    "# 2.Метод ближайших соседей"
   ]
  },
  {
   "cell_type": "code",
   "execution_count": 166,
   "metadata": {},
   "outputs": [],
   "source": [
    "from sklearn.neighbors import KNeighborsClassifier"
   ]
  },
  {
   "cell_type": "code",
   "execution_count": 189,
   "metadata": {},
   "outputs": [
    {
     "name": "stdout",
     "output_type": "stream",
     "text": [
      "Wall time: 49.7 s\n"
     ]
    }
   ],
   "source": [
    "%%time\n",
    "neighbors = KNeighborsClassifier(n_neighbors=7)\n",
    "neighbors.fit(X_train, y_train)\n",
    "prediction = neighbors.predict(X_test)"
   ]
  },
  {
   "cell_type": "code",
   "execution_count": 190,
   "metadata": {},
   "outputs": [
    {
     "name": "stdout",
     "output_type": "stream",
     "text": [
      "0.843\n",
      "0.696\n",
      "0.428\n",
      "0.53\n",
      "0.69\n"
     ]
    }
   ],
   "source": [
    "print(round(accuracy_score(y_test, prediction), 3))\n",
    "print(round(precision_score(y_test, prediction), 3))\n",
    "print(round(recall_score(y_test, prediction), 3))\n",
    "print(round(f1_score(y_test, prediction), 3))\n",
    "print(round(roc_auc_score(y_test, prediction), 3))"
   ]
  },
  {
   "cell_type": "markdown",
   "metadata": {},
   "source": [
    "Видим, что значение при 1 соседе меньше, причём время выполнения просто ОГРОМНОЕ (37.1 секунда). Цикл ниже нет особого смысла составлять, потому что даже расчёт только 1 значения занимает приличное время, здесь же цикл работает очень долго"
   ]
  },
  {
   "cell_type": "code",
   "execution_count": 171,
   "metadata": {},
   "outputs": [
    {
     "name": "stdout",
     "output_type": "stream",
     "text": [
      "Wall time: 2min 52s\n"
     ]
    }
   ],
   "source": [
    "%%time\n",
    "n_nb = range(1, 8, 2)\n",
    "result = []\n",
    "f1_sc = []\n",
    "roc_auc = []\n",
    "for i in n_nb:\n",
    "    neighbors = KNeighborsClassifier(n_neighbors=i)\n",
    "    neighbors.fit(X_train, y_train)\n",
    "    prediction = neighbors.predict(X_test)\n",
    "    \n",
    "    result.append(np.mean(prediction == y_test))\n",
    "    f1_sc.append(f1_score(y_test, prediction))\n",
    "    roc_auc.append(roc_auc_score(y_test, prediction))"
   ]
  },
  {
   "cell_type": "code",
   "execution_count": 179,
   "metadata": {},
   "outputs": [
    {
     "data": {
      "text/plain": [
       "<matplotlib.legend.Legend at 0x247017b1f70>"
      ]
     },
     "execution_count": 179,
     "metadata": {},
     "output_type": "execute_result"
    },
    {
     "data": {
      "image/png": "[encoded data removed]",
      "text/plain": [
       "<Figure size 432x288 with 1 Axes>"
      ]
     },
     "metadata": {
      "needs_background": "light"
     },
     "output_type": "display_data"
    }
   ],
   "source": [
    "plt.figure()\n",
    "plt.plot(n_nb, result, label=\"Score\")\n",
    "plt.plot(n_nb, f1_sc, color=\"red\", label = \"f1_score\")\n",
    "plt.plot(n_nb, roc_auc, color=\"green\", label=\"roc_auc_score\")\n",
    "plt.xlabel(\"Neighbors number\")\n",
    "plt.ylabel(\"Result\")\n",
    "plt.title(\"Score on different neighbor numbers\")\n",
    "plt.legend()"
   ]
  },
  {
   "cell_type": "markdown",
   "metadata": {},
   "source": [
    "Отсюда можно увидеть, что общий результат растёт с увеличением количества соседей (берём только нечетные, так как задача с 2 классами), но не сильно.\n",
    "Score = 0.843, f1_score = 0.53, roc_auc=0.6898"
   ]
  },
  {
   "cell_type": "markdown",
   "metadata": {},
   "source": [
    "# 3. Логистическая регрессия"
   ]
  },
  {
   "cell_type": "code",
   "execution_count": 181,
   "metadata": {},
   "outputs": [],
   "source": [
    "from sklearn.linear_model import LogisticRegression"
   ]
  },
  {
   "cell_type": "code",
   "execution_count": 182,
   "metadata": {},
   "outputs": [
    {
     "name": "stdout",
     "output_type": "stream",
     "text": [
      "Wall time: 22.6 s\n"
     ]
    }
   ],
   "source": [
    "%%time\n",
    "classifier = LogisticRegression(penalty = 'l2', max_iter=5000)\n",
    "classifier.fit(X_train, y_train)\n",
    "prediction = classifier.predict(X_test)"
   ]
  },
  {
   "cell_type": "code",
   "execution_count": 183,
   "metadata": {},
   "outputs": [
    {
     "data": {
      "text/plain": [
       "0.845234188194477"
      ]
     },
     "execution_count": 183,
     "metadata": {},
     "output_type": "execute_result"
    }
   ],
   "source": [
    "classifier.score(X_test, y_test)"
   ]
  },
  {
   "cell_type": "markdown",
   "metadata": {},
   "source": [
    "Пока что логистическая регрессия выдала нам самое большое значение по точности, но время выполнения очень большое - , к тому же она пару раз останавливалась при достижении максимального количества итераций."
   ]
  },
  {
   "cell_type": "code",
   "execution_count": 184,
   "metadata": {},
   "outputs": [
    {
     "data": {
      "image/png": "[encoded data removed]",
      "text/plain": [
       "<Figure size 432x288 with 2 Axes>"
      ]
     },
     "metadata": {
      "needs_background": "light"
     },
     "output_type": "display_data"
    }
   ],
   "source": [
    "plot_confusion_matrix(classifier, X_test, y_test)\n",
    "plt.show()"
   ]
  },
  {
   "cell_type": "markdown",
   "metadata": {},
   "source": [
    "Отсюда видно, что неверно предсказанные результаты носят для нас плохой характер: намного больше неверных там, где мы не смогли предсказать дождь, а он был (что для человека хуже, чем если бы мы предсказали дождь, а его бы не было)."
   ]
  },
  {
   "cell_type": "code",
   "execution_count": 185,
   "metadata": {},
   "outputs": [
    {
     "data": {
      "text/plain": [
       "0.8160688665710186"
      ]
     },
     "execution_count": 185,
     "metadata": {},
     "output_type": "execute_result"
    }
   ],
   "source": [
    "precision_score(y_test, prediction)"
   ]
  },
  {
   "cell_type": "code",
   "execution_count": 186,
   "metadata": {},
   "outputs": [
    {
     "data": {
      "text/plain": [
       "0.32299829642248723"
      ]
     },
     "execution_count": 186,
     "metadata": {},
     "output_type": "execute_result"
    }
   ],
   "source": [
    "recall_score(y_test, prediction)"
   ]
  },
  {
   "cell_type": "code",
   "execution_count": 187,
   "metadata": {},
   "outputs": [
    {
     "data": {
      "text/plain": [
       "0.46281529698942225"
      ]
     },
     "execution_count": 187,
     "metadata": {},
     "output_type": "execute_result"
    }
   ],
   "source": [
    "f1_score(y_test, prediction)"
   ]
  },
  {
   "cell_type": "code",
   "execution_count": 188,
   "metadata": {},
   "outputs": [
    {
     "data": {
      "text/plain": [
       "0.6520317450268877"
      ]
     },
     "execution_count": 188,
     "metadata": {},
     "output_type": "execute_result"
    }
   ],
   "source": [
    "roc_auc_score(y_test, prediction)"
   ]
  },
  {
   "cell_type": "markdown",
   "metadata": {},
   "source": [
    "Таким образом логистическая регрессия дала лучший показатель по precision_score = 0.816, но худшие - по всем остальными метрикам"
   ]
  },
  {
   "cell_type": "code",
   "execution_count": 191,
   "metadata": {},
   "outputs": [
    {
     "data": {
      "text/html": [
       "<div>\n",
       "<style scoped>\n",
       "    .dataframe tbody tr th:only-of-type {\n",
       "        vertical-align: middle;\n",
       "    }\n",
       "\n",
       "    .dataframe tbody tr th {\n",
       "        vertical-align: top;\n",
       "    }\n",
       "\n",
       "    .dataframe thead th {\n",
       "        text-align: right;\n",
       "    }\n",
       "</style>\n",
       "<table border=\"1\" class=\"dataframe\">\n",
       "  <thead>\n",
       "    <tr style=\"text-align: right;\">\n",
       "      <th></th>\n",
       "      <th>Bayes</th>\n",
       "      <th>Neighbors</th>\n",
       "      <th>Logistic</th>\n",
       "    </tr>\n",
       "  </thead>\n",
       "  <tbody>\n",
       "    <tr>\n",
       "      <th>0</th>\n",
       "      <td>0.835</td>\n",
       "      <td>0.843</td>\n",
       "      <td>0.845</td>\n",
       "    </tr>\n",
       "    <tr>\n",
       "      <th>1</th>\n",
       "      <td>0.671</td>\n",
       "      <td>0.696</td>\n",
       "      <td>0.816</td>\n",
       "    </tr>\n",
       "    <tr>\n",
       "      <th>2</th>\n",
       "      <td>0.396</td>\n",
       "      <td>0.428</td>\n",
       "      <td>0.322</td>\n",
       "    </tr>\n",
       "    <tr>\n",
       "      <th>3</th>\n",
       "      <td>0.498</td>\n",
       "      <td>0.530</td>\n",
       "      <td>0.462</td>\n",
       "    </tr>\n",
       "    <tr>\n",
       "      <th>4</th>\n",
       "      <td>0.673</td>\n",
       "      <td>0.690</td>\n",
       "      <td>0.652</td>\n",
       "    </tr>\n",
       "  </tbody>\n",
       "</table>\n",
       "</div>"
      ],
      "text/plain": [
       "   Bayes  Neighbors  Logistic\n",
       "0  0.835      0.843     0.845\n",
       "1  0.671      0.696     0.816\n",
       "2  0.396      0.428     0.322\n",
       "3  0.498      0.530     0.462\n",
       "4  0.673      0.690     0.652"
      ]
     },
     "execution_count": 191,
     "metadata": {},
     "output_type": "execute_result"
    }
   ],
   "source": [
    "d = {\"Bayes\":[0.835, 0.671, 0.396, 0.498, 0.673], \n",
    "     \"Neighbors\":[0.843, 0.696, 0.428, 0.53, 0.69],\n",
    "    \"Logistic\":[0.845, 0.816, 0.322, 0.462, 0.652]}\n",
    "challenge = pd.DataFrame(d)\n",
    "challenge"
   ]
  },
  {
   "cell_type": "markdown",
   "metadata": {},
   "source": [
    "0 - accuracy_score,\n",
    "1 - precision,\n",
    "2 - recall,\n",
    "3 - f1,\n",
    "4 - roc_auc"
   ]
  },
  {
   "cell_type": "markdown",
   "metadata": {},
   "source": [
    "Отсюда видно, что в целом лучший результат получился через Neighbors. Хотя бы потому, что модель выдаёт наибольший recall - его здесь можно назвать главной метрикой (потому что нам важно, сколько было случаев false negative - когда мы не смогли угадать, что завтра будет дождь). В любом случае, recall во всех моделях очень низок."
   ]
  },
  {
   "cell_type": "code",
   "execution_count": null,
   "metadata": {},
   "outputs": [],
   "source": []
  }
 ],
 "metadata": {
  "kernelspec": {
   "display_name": "Python 3",
   "language": "python",
   "name": "python3"
  },
  "language_info": {
   "codemirror_mode": {
    "name": "ipython",
    "version": 3
   },
   "file_extension": ".py",
   "mimetype": "text/x-python",
   "name": "python",
   "nbconvert_exporter": "python",
   "pygments_lexer": "ipython3",
   "version": "3.8.5"
  }
 },
 "nbformat": 4,
 "nbformat_minor": 4
}
